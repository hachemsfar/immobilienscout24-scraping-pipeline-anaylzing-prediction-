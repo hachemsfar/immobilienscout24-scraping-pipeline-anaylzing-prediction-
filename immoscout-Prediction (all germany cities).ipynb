{
 "cells": [
  {
   "cell_type": "code",
   "execution_count": 1,
   "metadata": {
    "execution": {
     "iopub.execute_input": "2022-01-26T09:15:37.429598Z",
     "iopub.status.busy": "2022-01-26T09:15:37.419515Z",
     "iopub.status.idle": "2022-01-26T09:15:40.322617Z",
     "shell.execute_reply": "2022-01-26T09:15:40.322051Z",
     "shell.execute_reply.started": "2022-01-26T08:43:05.446577Z"
    },
    "papermill": {
     "duration": 2.964567,
     "end_time": "2022-01-26T09:15:40.322767",
     "exception": false,
     "start_time": "2022-01-26T09:15:37.358200",
     "status": "completed"
    },
    "tags": []
   },
   "outputs": [],
   "source": [
    "import warnings\n",
    "warnings.filterwarnings(\"ignore\")\n",
    "\n",
    "import pandas as pd\n",
    "import numpy as np\n",
    "import os\n",
    "import glob\n",
    "from sklearn import linear_model\n",
    "from sklearn.metrics import r2_score\n",
    "\n",
    "\n",
    "from tpot import TPOTRegressor\n",
    "from sklearn.model_selection import train_test_split\n",
    "\n",
    "\n",
    "import matplotlib.cm as cm\n",
    "import matplotlib.pyplot as plt\n",
    "import seaborn as sns\n",
    "%matplotlib inline\n"
   ]
  },
  {
   "cell_type": "markdown",
   "metadata": {
    "papermill": {
     "duration": 0.038069,
     "end_time": "2022-01-26T09:15:40.513249",
     "exception": false,
     "start_time": "2022-01-26T09:15:40.475180",
     "status": "completed"
    },
    "tags": []
   },
   "source": [
    "## Apartment Buy"
   ]
  },
  {
   "cell_type": "code",
   "execution_count": 3,
   "metadata": {
    "execution": {
     "iopub.execute_input": "2022-01-26T09:15:40.592499Z",
     "iopub.status.busy": "2022-01-26T09:15:40.591999Z",
     "iopub.status.idle": "2022-01-26T09:15:40.595684Z",
     "shell.execute_reply": "2022-01-26T09:15:40.596092Z",
     "shell.execute_reply.started": "2022-01-26T08:43:08.562777Z"
    },
    "papermill": {
     "duration": 0.045476,
     "end_time": "2022-01-26T09:15:40.596221",
     "exception": false,
     "start_time": "2022-01-26T09:15:40.550745",
     "status": "completed"
    },
    "tags": []
   },
   "outputs": [],
   "source": [
    "path = os.path.join(os.getcwd(), \"Data/Apartment/Buy/\")\n",
    "list_of_files = glob.glob(f\"{path}/*.csv\") "
   ]
  },
  {
   "cell_type": "code",
   "execution_count": 4,
   "metadata": {
    "execution": {
     "iopub.execute_input": "2022-01-26T09:15:40.678225Z",
     "iopub.status.busy": "2022-01-26T09:15:40.677545Z",
     "iopub.status.idle": "2022-01-26T09:15:40.761015Z",
     "shell.execute_reply": "2022-01-26T09:15:40.760559Z",
     "shell.execute_reply.started": "2022-01-26T08:43:09.456821Z"
    },
    "papermill": {
     "duration": 0.127659,
     "end_time": "2022-01-26T09:15:40.761139",
     "exception": false,
     "start_time": "2022-01-26T09:15:40.633480",
     "status": "completed"
    },
    "tags": []
   },
   "outputs": [],
   "source": [
    "list_df = []\n",
    "\n",
    "for filename in list_of_files:\n",
    "    df = pd.read_csv(filename, sep=\";\",index_col=None, header=0,usecols=[\"city\",\"postcode\",\"numberOfRooms\",\"livingSpace\",\"balcony\",\"builtInKitchen\",\"garden\",\"price\",\"guestToilet\"],nrows=1000)\n",
    "    df=df.sample(frac=1)\n",
    "    df['price']=df['price'].apply(lambda x: float(x.split(\" EUR\")[0]))\n",
    "    list_df.append(df)\n",
    "\n",
    "df_total = pd.concat(list_df, axis=0, ignore_index=True)"
   ]
  },
  {
   "cell_type": "code",
   "execution_count": 5,
   "metadata": {
    "execution": {
     "iopub.execute_input": "2022-01-26T09:15:40.841759Z",
     "iopub.status.busy": "2022-01-26T09:15:40.841254Z",
     "iopub.status.idle": "2022-01-26T09:15:40.849765Z",
     "shell.execute_reply": "2022-01-26T09:15:40.849347Z",
     "shell.execute_reply.started": "2022-01-26T08:43:10.347184Z"
    },
    "papermill": {
     "duration": 0.050152,
     "end_time": "2022-01-26T09:15:40.849897",
     "exception": false,
     "start_time": "2022-01-26T09:15:40.799745",
     "status": "completed"
    },
    "tags": []
   },
   "outputs": [],
   "source": [
    "for i in list(df_total.columns):\n",
    "    df_total=df_total[df_total[i]!=\"no value\"]"
   ]
  },
  {
   "cell_type": "code",
   "execution_count": 6,
   "metadata": {
    "execution": {
     "iopub.execute_input": "2022-01-26T09:15:40.930535Z",
     "iopub.status.busy": "2022-01-26T09:15:40.930036Z",
     "iopub.status.idle": "2022-01-26T09:15:40.945264Z",
     "shell.execute_reply": "2022-01-26T09:15:40.944838Z",
     "shell.execute_reply.started": "2022-01-26T08:43:11.349903Z"
    },
    "papermill": {
     "duration": 0.058239,
     "end_time": "2022-01-26T09:15:40.945371",
     "exception": false,
     "start_time": "2022-01-26T09:15:40.887132",
     "status": "completed"
    },
    "tags": []
   },
   "outputs": [],
   "source": [
    "hot_zip_test = pd.get_dummies(df_total.postcode)\n",
    "df_total.balcony = df_total.balcony.astype(int)\n",
    "df_total.garden = df_total.garden.astype(int)\n",
    "df_total.builtInKitchen = df_total.builtInKitchen.astype(int)\n",
    "df_total.guestToilet = df_total.guestToilet.astype(int)"
   ]
  },
  {
   "cell_type": "code",
   "execution_count": 7,
   "metadata": {
    "execution": {
     "iopub.execute_input": "2022-01-26T09:15:41.026228Z",
     "iopub.status.busy": "2022-01-26T09:15:41.025434Z",
     "iopub.status.idle": "2022-01-26T09:15:41.032491Z",
     "shell.execute_reply": "2022-01-26T09:15:41.032089Z",
     "shell.execute_reply.started": "2022-01-26T08:43:11.927252Z"
    },
    "papermill": {
     "duration": 0.049434,
     "end_time": "2022-01-26T09:15:41.032597",
     "exception": false,
     "start_time": "2022-01-26T09:15:40.983163",
     "status": "completed"
    },
    "tags": []
   },
   "outputs": [],
   "source": [
    "X = pd.concat((df_total[[\"numberOfRooms\",\"livingSpace\",\"balcony\",\"builtInKitchen\",\"garden\",\"guestToilet\"]], hot_zip_test), axis=1)\n",
    "y = df_total[[\"price\"]]\n"
   ]
  },
  {
   "cell_type": "code",
   "execution_count": 8,
   "metadata": {
    "execution": {
     "iopub.execute_input": "2022-01-26T09:15:41.124219Z",
     "iopub.status.busy": "2022-01-26T09:15:41.111234Z",
     "iopub.status.idle": "2022-01-26T09:15:42.439582Z",
     "shell.execute_reply": "2022-01-26T09:15:42.440347Z",
     "shell.execute_reply.started": "2022-01-26T08:43:12.567422Z"
    },
    "papermill": {
     "duration": 1.370916,
     "end_time": "2022-01-26T09:15:42.440592",
     "exception": false,
     "start_time": "2022-01-26T09:15:41.069676",
     "status": "completed"
    },
    "tags": []
   },
   "outputs": [
    {
     "data": {
      "text/plain": [
       "0.9080132991552136"
      ]
     },
     "execution_count": 8,
     "metadata": {},
     "output_type": "execute_result"
    }
   ],
   "source": [
    "# a simple linear model doesn't perform too well\n",
    "simple = linear_model.LinearRegression()\n",
    "simple.fit(X,y)\n",
    "y_pred = simple.predict(X)\n",
    "r2_score(y, y_pred)"
   ]
  },
  {
   "cell_type": "code",
   "execution_count": 9,
   "metadata": {
    "execution": {
     "iopub.execute_input": "2022-01-26T09:15:42.583330Z",
     "iopub.status.busy": "2022-01-26T09:15:42.582581Z",
     "iopub.status.idle": "2022-01-26T09:15:42.585085Z",
     "shell.execute_reply": "2022-01-26T09:15:42.584629Z",
     "shell.execute_reply.started": "2022-01-26T08:43:16.185726Z"
    },
    "papermill": {
     "duration": 0.068591,
     "end_time": "2022-01-26T09:15:42.585214",
     "exception": false,
     "start_time": "2022-01-26T09:15:42.516623",
     "status": "completed"
    },
    "tags": []
   },
   "outputs": [],
   "source": [
    "# Robustly fit linear model with RANSAC (RANdom SAmple Consensus) algorithm \n",
    "regressor = linear_model.RANSACRegressor(linear_model.LinearRegression())"
   ]
  },
  {
   "cell_type": "code",
   "execution_count": 10,
   "metadata": {
    "execution": {
     "iopub.execute_input": "2022-01-26T09:15:42.678536Z",
     "iopub.status.busy": "2022-01-26T09:15:42.677159Z",
     "iopub.status.idle": "2022-01-26T09:17:27.028847Z",
     "shell.execute_reply": "2022-01-26T09:17:27.029624Z",
     "shell.execute_reply.started": "2022-01-26T08:43:16.857684Z"
    },
    "papermill": {
     "duration": 104.406413,
     "end_time": "2022-01-26T09:17:27.029884",
     "exception": false,
     "start_time": "2022-01-26T09:15:42.623471",
     "status": "completed"
    },
    "tags": []
   },
   "outputs": [
    {
     "data": {
      "text/plain": [
       "RANSACRegressor(base_estimator=LinearRegression())"
      ]
     },
     "execution_count": 10,
     "metadata": {},
     "output_type": "execute_result"
    }
   ],
   "source": [
    "regressor.fit(X,y)\n"
   ]
  },
  {
   "cell_type": "code",
   "execution_count": 11,
   "metadata": {
    "execution": {
     "iopub.execute_input": "2022-01-26T09:17:27.193539Z",
     "iopub.status.busy": "2022-01-26T09:17:27.192720Z",
     "iopub.status.idle": "2022-01-26T09:17:27.195365Z",
     "shell.execute_reply": "2022-01-26T09:17:27.195767Z",
     "shell.execute_reply.started": "2022-01-26T08:47:16.919612Z"
    },
    "papermill": {
     "duration": 0.101733,
     "end_time": "2022-01-26T09:17:27.195932",
     "exception": false,
     "start_time": "2022-01-26T09:17:27.094199",
     "status": "completed"
    },
    "tags": []
   },
   "outputs": [
    {
     "name": "stdout",
     "output_type": "stream",
     "text": [
      "17.1% of apartments identified as outliers\n"
     ]
    }
   ],
   "source": [
    "inlier_mask = regressor.inlier_mask_\n",
    "outlier_mask = np.logical_not(inlier_mask)\n",
    "print(u'%.1f%% of apartments identified as outliers' % (sum(outlier_mask)*100.0/(sum(outlier_mask)+sum(inlier_mask))))"
   ]
  },
  {
   "cell_type": "code",
   "execution_count": 12,
   "metadata": {
    "execution": {
     "iopub.execute_input": "2022-01-26T09:17:27.287259Z",
     "iopub.status.busy": "2022-01-26T09:17:27.283079Z",
     "iopub.status.idle": "2022-01-26T09:17:27.302152Z",
     "shell.execute_reply": "2022-01-26T09:17:27.302585Z",
     "shell.execute_reply.started": "2022-01-26T08:47:17.609178Z"
    },
    "papermill": {
     "duration": 0.06866,
     "end_time": "2022-01-26T09:17:27.302725",
     "exception": false,
     "start_time": "2022-01-26T09:17:27.234065",
     "status": "completed"
    },
    "tags": []
   },
   "outputs": [],
   "source": [
    "y_pred = regressor.predict(X)\n",
    "df_total[\"buy_predicted\"] = y_pred"
   ]
  },
  {
   "cell_type": "code",
   "execution_count": 13,
   "metadata": {
    "execution": {
     "iopub.execute_input": "2022-01-26T09:17:27.443579Z",
     "iopub.status.busy": "2022-01-26T09:17:27.442748Z",
     "iopub.status.idle": "2022-01-26T09:17:27.446702Z",
     "shell.execute_reply": "2022-01-26T09:17:27.446275Z",
     "shell.execute_reply.started": "2022-01-26T08:47:20.121362Z"
    },
    "papermill": {
     "duration": 0.073763,
     "end_time": "2022-01-26T09:17:27.446808",
     "exception": false,
     "start_time": "2022-01-26T09:17:27.373045",
     "status": "completed"
    },
    "tags": []
   },
   "outputs": [],
   "source": [
    "r2_ransac = r2_score(y[inlier_mask], y_pred[inlier_mask])\n"
   ]
  },
  {
   "cell_type": "code",
   "execution_count": 14,
   "metadata": {
    "execution": {
     "iopub.execute_input": "2022-01-26T09:17:27.531397Z",
     "iopub.status.busy": "2022-01-26T09:17:27.530746Z",
     "iopub.status.idle": "2022-01-26T09:17:28.236006Z",
     "shell.execute_reply": "2022-01-26T09:17:28.235535Z",
     "shell.execute_reply.started": "2022-01-26T08:47:20.736078Z"
    },
    "papermill": {
     "duration": 0.750932,
     "end_time": "2022-01-26T09:17:28.236140",
     "exception": false,
     "start_time": "2022-01-26T09:17:27.485208",
     "status": "completed"
    },
    "tags": []
   },
   "outputs": [
    {
     "data": {
      "image/png": "[encoded data removed]",
      "text/plain": [
       "<Figure size 1080x720 with 1 Axes>"
      ]
     },
     "metadata": {
      "needs_background": "light"
     },
     "output_type": "display_data"
    }
   ],
   "source": [
    "fig, ax = plt.subplots(figsize=(15,10)) \n",
    "sns.regplot(df_total['price'][inlier_mask],\n",
    "            df_total['buy_predicted'][inlier_mask])\n",
    "plt.scatter(df_total['price'][outlier_mask],\n",
    "            df_total['buy_predicted'][outlier_mask],\n",
    "            alpha=0.4,\n",
    "            c='r')\n",
    "\n",
    "plt.title('Prediction of buy for apartments in Germany')\n",
    "plt.text(250, 2000, r'$R^2=%.2f$' % r2_ransac)\n",
    "plt.tight_layout()\n",
    "# plt.savefig('LinReg-rent-apartment.png', dpi=150)"
   ]
  },
  {
   "cell_type": "code",
   "execution_count": null,
   "metadata": {
    "papermill": {
     "duration": 0.038641,
     "end_time": "2022-01-26T09:17:28.314814",
     "exception": false,
     "start_time": "2022-01-26T09:17:28.276173",
     "status": "completed"
    },
    "tags": []
   },
   "outputs": [],
   "source": []
  },
  {
   "cell_type": "markdown",
   "metadata": {
    "papermill": {
     "duration": 0.038707,
     "end_time": "2022-01-26T09:17:28.392922",
     "exception": false,
     "start_time": "2022-01-26T09:17:28.354215",
     "status": "completed"
    },
    "tags": []
   },
   "source": [
    "## House Buy"
   ]
  },
  {
   "cell_type": "code",
   "execution_count": 15,
   "metadata": {
    "execution": {
     "iopub.execute_input": "2022-01-26T09:17:28.474956Z",
     "iopub.status.busy": "2022-01-26T09:17:28.474415Z",
     "iopub.status.idle": "2022-01-26T09:17:28.481551Z",
     "shell.execute_reply": "2022-01-26T09:17:28.481109Z",
     "shell.execute_reply.started": "2022-01-26T08:47:37.828192Z"
    },
    "papermill": {
     "duration": 0.0501,
     "end_time": "2022-01-26T09:17:28.481661",
     "exception": false,
     "start_time": "2022-01-26T09:17:28.431561",
     "status": "completed"
    },
    "tags": []
   },
   "outputs": [],
   "source": [
    "path = os.path.join(os.getcwd(), \"Data/House/Buy/\"\")\n",
    "list_of_files = glob.glob(f\"{path}/*.csv\") "
   ]
  },
  {
   "cell_type": "code",
   "execution_count": 16,
   "metadata": {
    "execution": {
     "iopub.execute_input": "2022-01-26T09:17:28.568698Z",
     "iopub.status.busy": "2022-01-26T09:17:28.568094Z",
     "iopub.status.idle": "2022-01-26T09:17:28.641109Z",
     "shell.execute_reply": "2022-01-26T09:17:28.640271Z",
     "shell.execute_reply.started": "2022-01-26T08:47:38.601072Z"
    },
    "papermill": {
     "duration": 0.120527,
     "end_time": "2022-01-26T09:17:28.641232",
     "exception": false,
     "start_time": "2022-01-26T09:17:28.520705",
     "status": "completed"
    },
    "tags": []
   },
   "outputs": [],
   "source": [
    "list_df = []\n",
    "\n",
    "for filename in list_of_files:\n",
    "    df = pd.read_csv(filename, sep=\";\",index_col=None, header=0,usecols=[\"city\",\"postcode\",\"numberOfRooms\",\"livingSpace\",\"price\",\"guestToilet\"],nrows=1000)\n",
    "    df=df.sample(frac=1)\n",
    "    df['price']=df['price'].apply(lambda x: float(x.split(\" EUR\")[0]))\n",
    "    list_df.append(df)\n",
    "\n",
    "df_total = pd.concat(list_df, axis=0, ignore_index=True)"
   ]
  },
  {
   "cell_type": "code",
   "execution_count": 17,
   "metadata": {
    "execution": {
     "iopub.execute_input": "2022-01-26T09:17:28.725332Z",
     "iopub.status.busy": "2022-01-26T09:17:28.724539Z",
     "iopub.status.idle": "2022-01-26T09:17:28.730661Z",
     "shell.execute_reply": "2022-01-26T09:17:28.730261Z",
     "shell.execute_reply.started": "2022-01-26T08:48:26.253492Z"
    },
    "papermill": {
     "duration": 0.050428,
     "end_time": "2022-01-26T09:17:28.730770",
     "exception": false,
     "start_time": "2022-01-26T09:17:28.680342",
     "status": "completed"
    },
    "tags": []
   },
   "outputs": [],
   "source": [
    "for i in list(df_total.columns):\n",
    "    df_total=df_total[df_total[i]!=\"no value\"]"
   ]
  },
  {
   "cell_type": "code",
   "execution_count": 18,
   "metadata": {
    "execution": {
     "iopub.execute_input": "2022-01-26T09:17:28.812777Z",
     "iopub.status.busy": "2022-01-26T09:17:28.812099Z",
     "iopub.status.idle": "2022-01-26T09:17:28.821099Z",
     "shell.execute_reply": "2022-01-26T09:17:28.820667Z",
     "shell.execute_reply.started": "2022-01-26T08:48:26.985275Z"
    },
    "papermill": {
     "duration": 0.05191,
     "end_time": "2022-01-26T09:17:28.821208",
     "exception": false,
     "start_time": "2022-01-26T09:17:28.769298",
     "status": "completed"
    },
    "tags": []
   },
   "outputs": [],
   "source": [
    "hot_zip_test = pd.get_dummies(df_total.postcode)\n",
    "df_total.guestToilet = df_total.guestToilet.astype(int)"
   ]
  },
  {
   "cell_type": "code",
   "execution_count": 19,
   "metadata": {
    "execution": {
     "iopub.execute_input": "2022-01-26T09:17:28.904871Z",
     "iopub.status.busy": "2022-01-26T09:17:28.903936Z",
     "iopub.status.idle": "2022-01-26T09:17:28.909772Z",
     "shell.execute_reply": "2022-01-26T09:17:28.909332Z",
     "shell.execute_reply.started": "2022-01-26T08:48:27.716730Z"
    },
    "papermill": {
     "duration": 0.049967,
     "end_time": "2022-01-26T09:17:28.909906",
     "exception": false,
     "start_time": "2022-01-26T09:17:28.859939",
     "status": "completed"
    },
    "tags": []
   },
   "outputs": [],
   "source": [
    "X = pd.concat((df_total[[\"numberOfRooms\",\"livingSpace\",\"guestToilet\"]], hot_zip_test), axis=1)\n",
    "y = df_total[[\"price\"]]\n"
   ]
  },
  {
   "cell_type": "code",
   "execution_count": 20,
   "metadata": {
    "execution": {
     "iopub.execute_input": "2022-01-26T09:17:29.006229Z",
     "iopub.status.busy": "2022-01-26T09:17:29.000616Z",
     "iopub.status.idle": "2022-01-26T09:17:31.553536Z",
     "shell.execute_reply": "2022-01-26T09:17:31.554712Z",
     "shell.execute_reply.started": "2022-01-26T08:48:28.707870Z"
    },
    "papermill": {
     "duration": 2.605911,
     "end_time": "2022-01-26T09:17:31.554989",
     "exception": false,
     "start_time": "2022-01-26T09:17:28.949078",
     "status": "completed"
    },
    "tags": []
   },
   "outputs": [
    {
     "data": {
      "text/plain": [
       "0.946061964138664"
      ]
     },
     "execution_count": 20,
     "metadata": {},
     "output_type": "execute_result"
    }
   ],
   "source": [
    "# a simple linear model doesn't perform too well\n",
    "simple = linear_model.LinearRegression()\n",
    "simple.fit(X,y)\n",
    "y_pred = simple.predict(X)\n",
    "r2_score(y, y_pred)"
   ]
  },
  {
   "cell_type": "code",
   "execution_count": 21,
   "metadata": {
    "execution": {
     "iopub.execute_input": "2022-01-26T09:17:31.696034Z",
     "iopub.status.busy": "2022-01-26T09:17:31.695194Z",
     "iopub.status.idle": "2022-01-26T09:17:31.697189Z",
     "shell.execute_reply": "2022-01-26T09:17:31.697552Z",
     "shell.execute_reply.started": "2022-01-26T08:48:30.670414Z"
    },
    "papermill": {
     "duration": 0.068621,
     "end_time": "2022-01-26T09:17:31.697678",
     "exception": false,
     "start_time": "2022-01-26T09:17:31.629057",
     "status": "completed"
    },
    "tags": []
   },
   "outputs": [],
   "source": [
    "# Robustly fit linear model with RANSAC (RANdom SAmple Consensus) algorithm \n",
    "regressor = linear_model.RANSACRegressor(linear_model.LinearRegression())"
   ]
  },
  {
   "cell_type": "code",
   "execution_count": 22,
   "metadata": {
    "execution": {
     "iopub.execute_input": "2022-01-26T09:17:31.787929Z",
     "iopub.status.busy": "2022-01-26T09:17:31.787186Z",
     "iopub.status.idle": "2022-01-26T09:20:14.703389Z",
     "shell.execute_reply": "2022-01-26T09:20:14.704066Z",
     "shell.execute_reply.started": "2022-01-26T08:48:30.677039Z"
    },
    "papermill": {
     "duration": 162.96738,
     "end_time": "2022-01-26T09:20:14.704280",
     "exception": false,
     "start_time": "2022-01-26T09:17:31.736900",
     "status": "completed"
    },
    "tags": []
   },
   "outputs": [
    {
     "data": {
      "text/plain": [
       "RANSACRegressor(base_estimator=LinearRegression())"
      ]
     },
     "execution_count": 22,
     "metadata": {},
     "output_type": "execute_result"
    }
   ],
   "source": [
    "regressor.fit(X,y)"
   ]
  },
  {
   "cell_type": "code",
   "execution_count": 23,
   "metadata": {
    "execution": {
     "iopub.execute_input": "2022-01-26T09:20:14.846509Z",
     "iopub.status.busy": "2022-01-26T09:20:14.845739Z",
     "iopub.status.idle": "2022-01-26T09:20:14.887228Z",
     "shell.execute_reply": "2022-01-26T09:20:14.888180Z",
     "shell.execute_reply.started": "2022-01-26T08:51:15.245110Z"
    },
    "papermill": {
     "duration": 0.119591,
     "end_time": "2022-01-26T09:20:14.888351",
     "exception": false,
     "start_time": "2022-01-26T09:20:14.768760",
     "status": "completed"
    },
    "tags": []
   },
   "outputs": [
    {
     "name": "stdout",
     "output_type": "stream",
     "text": [
      "17.3% of houses identified as outliers\n"
     ]
    }
   ],
   "source": [
    "inlier_mask = regressor.inlier_mask_\n",
    "outlier_mask = np.logical_not(inlier_mask)\n",
    "print(u'%.1f%% of houses identified as outliers' % (sum(outlier_mask)*100.0/(sum(outlier_mask)+sum(inlier_mask))))"
   ]
  },
  {
   "cell_type": "code",
   "execution_count": 24,
   "metadata": {
    "execution": {
     "iopub.execute_input": "2022-01-26T09:20:15.019241Z",
     "iopub.status.busy": "2022-01-26T09:20:15.018213Z",
     "iopub.status.idle": "2022-01-26T09:20:15.037850Z",
     "shell.execute_reply": "2022-01-26T09:20:15.038308Z",
     "shell.execute_reply.started": "2022-01-26T08:51:15.314246Z"
    },
    "papermill": {
     "duration": 0.08594,
     "end_time": "2022-01-26T09:20:15.038463",
     "exception": false,
     "start_time": "2022-01-26T09:20:14.952523",
     "status": "completed"
    },
    "tags": []
   },
   "outputs": [],
   "source": [
    "y_pred = regressor.predict(X)\n",
    "df_total[\"buy_predicted\"] = y"
   ]
  },
  {
   "cell_type": "code",
   "execution_count": 25,
   "metadata": {
    "execution": {
     "iopub.execute_input": "2022-01-26T09:20:15.183914Z",
     "iopub.status.busy": "2022-01-26T09:20:15.181656Z",
     "iopub.status.idle": "2022-01-26T09:20:15.187376Z",
     "shell.execute_reply": "2022-01-26T09:20:15.186983Z",
     "shell.execute_reply.started": "2022-01-26T08:51:15.376179Z"
    },
    "papermill": {
     "duration": 0.075637,
     "end_time": "2022-01-26T09:20:15.187509",
     "exception": false,
     "start_time": "2022-01-26T09:20:15.111872",
     "status": "completed"
    },
    "tags": []
   },
   "outputs": [],
   "source": [
    "r2_ransac = r2_score(y[inlier_mask], y_pred[inlier_mask])"
   ]
  },
  {
   "cell_type": "code",
   "execution_count": 26,
   "metadata": {
    "execution": {
     "iopub.execute_input": "2022-01-26T09:20:15.293131Z",
     "iopub.status.busy": "2022-01-26T09:20:15.292117Z",
     "iopub.status.idle": "2022-01-26T09:20:15.787370Z",
     "shell.execute_reply": "2022-01-26T09:20:15.787765Z",
     "shell.execute_reply.started": "2022-01-26T08:51:15.394484Z"
    },
    "papermill": {
     "duration": 0.557414,
     "end_time": "2022-01-26T09:20:15.787920",
     "exception": false,
     "start_time": "2022-01-26T09:20:15.230506",
     "status": "completed"
    },
    "tags": []
   },
   "outputs": [
    {
     "data": {
      "image/png": "[encoded data removed]",
      "text/plain": [
       "<Figure size 1080x720 with 1 Axes>"
      ]
     },
     "metadata": {
      "needs_background": "light"
     },
     "output_type": "display_data"
    }
   ],
   "source": [
    "fig, ax = plt.subplots(figsize=(15,10)) \n",
    "sns.regplot(df_total['price'][inlier_mask],\n",
    "            df_total['buy_predicted'][inlier_mask])\n",
    "plt.scatter(df_total['price'][outlier_mask],\n",
    "            df_total['buy_predicted'][outlier_mask],\n",
    "            alpha=0.4,\n",
    "            c='r')\n",
    "\n",
    "plt.title('Prediction of buy for Houses in Germany')\n",
    "plt.text(250, 2000, r'$R^2=%.2f$' % r2_ransac)\n",
    "plt.tight_layout()\n",
    "# plt.savefig('LinReg-rent-apartment.png', dpi=150)"
   ]
  },
  {
   "cell_type": "code",
   "execution_count": null,
   "metadata": {
    "papermill": {
     "duration": 0.040758,
     "end_time": "2022-01-26T09:20:15.870483",
     "exception": false,
     "start_time": "2022-01-26T09:20:15.829725",
     "status": "completed"
    },
    "tags": []
   },
   "outputs": [],
   "source": []
  },
  {
   "cell_type": "markdown",
   "metadata": {
    "papermill": {
     "duration": 0.040267,
     "end_time": "2022-01-26T09:20:15.951203",
     "exception": false,
     "start_time": "2022-01-26T09:20:15.910936",
     "status": "completed"
    },
    "tags": []
   },
   "source": [
    "## Apartment Rent"
   ]
  },
  {
   "cell_type": "code",
   "execution_count": 27,
   "metadata": {
    "execution": {
     "iopub.execute_input": "2022-01-26T09:20:16.036566Z",
     "iopub.status.busy": "2022-01-26T09:20:16.036042Z",
     "iopub.status.idle": "2022-01-26T09:20:16.042762Z",
     "shell.execute_reply": "2022-01-26T09:20:16.042326Z",
     "shell.execute_reply.started": "2022-01-26T08:51:15.973939Z"
    },
    "papermill": {
     "duration": 0.050962,
     "end_time": "2022-01-26T09:20:16.042880",
     "exception": false,
     "start_time": "2022-01-26T09:20:15.991918",
     "status": "completed"
    },
    "tags": []
   },
   "outputs": [],
   "source": [
    "path = os.path.join(os.getcwd(), \"Data/Apartment/rent/\")\n",
    "list_of_files = glob.glob(f\"{path}/*.csv\") "
   ]
  },
  {
   "cell_type": "code",
   "execution_count": 28,
   "metadata": {
    "execution": {
     "iopub.execute_input": "2022-01-26T09:20:16.129779Z",
     "iopub.status.busy": "2022-01-26T09:20:16.129280Z",
     "iopub.status.idle": "2022-01-26T09:20:16.207946Z",
     "shell.execute_reply": "2022-01-26T09:20:16.207467Z",
     "shell.execute_reply.started": "2022-01-26T08:51:15.982345Z"
    },
    "papermill": {
     "duration": 0.124482,
     "end_time": "2022-01-26T09:20:16.208063",
     "exception": false,
     "start_time": "2022-01-26T09:20:16.083581",
     "status": "completed"
    },
    "tags": []
   },
   "outputs": [],
   "source": [
    "list_df = []\n",
    "\n",
    "for filename in list_of_files:\n",
    "    df = pd.read_csv(filename, sep=\";\",index_col=None, header=0,usecols=[\"city\",\"postcode\",\"numberOfRooms\",\"livingSpace\",\"balcony\",\"builtInKitchen\",\"garden\",\"price\"],nrows=1000)\n",
    "    df=df.sample(frac=1)\n",
    "    df['price']=df['price'].apply(lambda x: float(x.split(\" EUR\")[0]))\n",
    "    list_df.append(df)\n",
    "\n",
    "df_total = pd.concat(list_df, axis=0, ignore_index=True)"
   ]
  },
  {
   "cell_type": "code",
   "execution_count": 29,
   "metadata": {
    "execution": {
     "iopub.execute_input": "2022-01-26T09:20:16.295092Z",
     "iopub.status.busy": "2022-01-26T09:20:16.294277Z",
     "iopub.status.idle": "2022-01-26T09:20:16.302117Z",
     "shell.execute_reply": "2022-01-26T09:20:16.301647Z",
     "shell.execute_reply.started": "2022-01-26T08:51:16.072731Z"
    },
    "papermill": {
     "duration": 0.053125,
     "end_time": "2022-01-26T09:20:16.302227",
     "exception": false,
     "start_time": "2022-01-26T09:20:16.249102",
     "status": "completed"
    },
    "tags": []
   },
   "outputs": [],
   "source": [
    "for i in list(df_total.columns):\n",
    "    df_total=df_total[df_total[i]!=\"no value\"]"
   ]
  },
  {
   "cell_type": "code",
   "execution_count": 30,
   "metadata": {
    "execution": {
     "iopub.execute_input": "2022-01-26T09:20:16.387510Z",
     "iopub.status.busy": "2022-01-26T09:20:16.386733Z",
     "iopub.status.idle": "2022-01-26T09:20:16.400161Z",
     "shell.execute_reply": "2022-01-26T09:20:16.399682Z",
     "shell.execute_reply.started": "2022-01-26T08:51:16.086144Z"
    },
    "papermill": {
     "duration": 0.057528,
     "end_time": "2022-01-26T09:20:16.400270",
     "exception": false,
     "start_time": "2022-01-26T09:20:16.342742",
     "status": "completed"
    },
    "tags": []
   },
   "outputs": [],
   "source": [
    "hot_zip_test = pd.get_dummies(df_total.postcode)\n",
    "df_total.balcony = df_total.balcony.astype(int)\n",
    "df_total.garden = df_total.garden.astype(int)\n",
    "df_total.builtInKitchen = df_total.builtInKitchen.astype(int)"
   ]
  },
  {
   "cell_type": "code",
   "execution_count": 31,
   "metadata": {
    "execution": {
     "iopub.execute_input": "2022-01-26T09:20:16.485970Z",
     "iopub.status.busy": "2022-01-26T09:20:16.485165Z",
     "iopub.status.idle": "2022-01-26T09:20:16.493293Z",
     "shell.execute_reply": "2022-01-26T09:20:16.492857Z",
     "shell.execute_reply.started": "2022-01-26T08:51:16.104664Z"
    },
    "papermill": {
     "duration": 0.052397,
     "end_time": "2022-01-26T09:20:16.493395",
     "exception": false,
     "start_time": "2022-01-26T09:20:16.440998",
     "status": "completed"
    },
    "tags": []
   },
   "outputs": [],
   "source": [
    "X = pd.concat((df_total[[\"numberOfRooms\",\"livingSpace\",\"balcony\",\"builtInKitchen\",\"garden\"]], hot_zip_test), axis=1)\n",
    "y = df_total[[\"price\"]]\n"
   ]
  },
  {
   "cell_type": "code",
   "execution_count": 32,
   "metadata": {
    "execution": {
     "iopub.execute_input": "2022-01-26T09:20:16.581637Z",
     "iopub.status.busy": "2022-01-26T09:20:16.580608Z",
     "iopub.status.idle": "2022-01-26T09:20:18.601284Z",
     "shell.execute_reply": "2022-01-26T09:20:18.602453Z",
     "shell.execute_reply.started": "2022-01-26T08:51:16.117588Z"
    },
    "papermill": {
     "duration": 2.068572,
     "end_time": "2022-01-26T09:20:18.602692",
     "exception": false,
     "start_time": "2022-01-26T09:20:16.534120",
     "status": "completed"
    },
    "tags": []
   },
   "outputs": [
    {
     "data": {
      "text/plain": [
       "0.9999173737384454"
      ]
     },
     "execution_count": 32,
     "metadata": {},
     "output_type": "execute_result"
    }
   ],
   "source": [
    "# a simple linear model doesn't perform too well\n",
    "simple = linear_model.LinearRegression()\n",
    "simple.fit(X,y)\n",
    "y_pred = simple.predict(X)\n",
    "r2_score(y, y_pred)"
   ]
  },
  {
   "cell_type": "code",
   "execution_count": 33,
   "metadata": {
    "execution": {
     "iopub.execute_input": "2022-01-26T09:20:18.745675Z",
     "iopub.status.busy": "2022-01-26T09:20:18.744946Z",
     "iopub.status.idle": "2022-01-26T09:20:18.747404Z",
     "shell.execute_reply": "2022-01-26T09:20:18.747004Z",
     "shell.execute_reply.started": "2022-01-26T08:51:18.225947Z"
    },
    "papermill": {
     "duration": 0.066988,
     "end_time": "2022-01-26T09:20:18.747513",
     "exception": false,
     "start_time": "2022-01-26T09:20:18.680525",
     "status": "completed"
    },
    "tags": []
   },
   "outputs": [],
   "source": [
    "# Robustly fit linear model with RANSAC (RANdom SAmple Consensus) algorithm \n",
    "regressor = linear_model.RANSACRegressor(linear_model.LinearRegression())"
   ]
  },
  {
   "cell_type": "code",
   "execution_count": 34,
   "metadata": {
    "execution": {
     "iopub.execute_input": "2022-01-26T09:20:18.847382Z",
     "iopub.status.busy": "2022-01-26T09:20:18.846414Z",
     "iopub.status.idle": "2022-01-26T09:23:13.051706Z",
     "shell.execute_reply": "2022-01-26T09:23:13.052516Z",
     "shell.execute_reply.started": "2022-01-26T08:51:18.238891Z"
    },
    "papermill": {
     "duration": 174.264504,
     "end_time": "2022-01-26T09:23:13.052750",
     "exception": false,
     "start_time": "2022-01-26T09:20:18.788246",
     "status": "completed"
    },
    "tags": []
   },
   "outputs": [
    {
     "data": {
      "text/plain": [
       "RANSACRegressor(base_estimator=LinearRegression())"
      ]
     },
     "execution_count": 34,
     "metadata": {},
     "output_type": "execute_result"
    }
   ],
   "source": [
    "regressor.fit(X,y)"
   ]
  },
  {
   "cell_type": "code",
   "execution_count": 35,
   "metadata": {
    "execution": {
     "iopub.execute_input": "2022-01-26T09:23:13.191026Z",
     "iopub.status.busy": "2022-01-26T09:23:13.189413Z",
     "iopub.status.idle": "2022-01-26T09:23:13.193035Z",
     "shell.execute_reply": "2022-01-26T09:23:13.192581Z",
     "shell.execute_reply.started": "2022-01-26T08:54:16.562810Z"
    },
    "papermill": {
     "duration": 0.079001,
     "end_time": "2022-01-26T09:23:13.193148",
     "exception": false,
     "start_time": "2022-01-26T09:23:13.114147",
     "status": "completed"
    },
    "tags": []
   },
   "outputs": [
    {
     "name": "stdout",
     "output_type": "stream",
     "text": [
      "16.3% of apartments identified as outliers\n"
     ]
    }
   ],
   "source": [
    "inlier_mask = regressor.inlier_mask_\n",
    "outlier_mask = np.logical_not(inlier_mask)\n",
    "print(u'%.1f%% of apartments identified as outliers' % (sum(outlier_mask)*100.0/(sum(outlier_mask)+sum(inlier_mask))))"
   ]
  },
  {
   "cell_type": "code",
   "execution_count": 36,
   "metadata": {
    "execution": {
     "iopub.execute_input": "2022-01-26T09:23:13.294205Z",
     "iopub.status.busy": "2022-01-26T09:23:13.288616Z",
     "iopub.status.idle": "2022-01-26T09:23:13.313924Z",
     "shell.execute_reply": "2022-01-26T09:23:13.314610Z",
     "shell.execute_reply.started": "2022-01-26T08:54:16.627909Z"
    },
    "papermill": {
     "duration": 0.080011,
     "end_time": "2022-01-26T09:23:13.314872",
     "exception": false,
     "start_time": "2022-01-26T09:23:13.234861",
     "status": "completed"
    },
    "tags": []
   },
   "outputs": [],
   "source": [
    "y_pred = regressor.predict(X)\n",
    "df_total[\"rent_predicted\"] = y"
   ]
  },
  {
   "cell_type": "code",
   "execution_count": 37,
   "metadata": {
    "execution": {
     "iopub.execute_input": "2022-01-26T09:23:13.462361Z",
     "iopub.status.busy": "2022-01-26T09:23:13.461527Z",
     "iopub.status.idle": "2022-01-26T09:23:13.466142Z",
     "shell.execute_reply": "2022-01-26T09:23:13.465690Z",
     "shell.execute_reply.started": "2022-01-26T08:54:16.687690Z"
    },
    "papermill": {
     "duration": 0.073978,
     "end_time": "2022-01-26T09:23:13.466280",
     "exception": false,
     "start_time": "2022-01-26T09:23:13.392302",
     "status": "completed"
    },
    "tags": []
   },
   "outputs": [],
   "source": [
    "r2_ransac = r2_score(y[inlier_mask], y_pred[inlier_mask])"
   ]
  },
  {
   "cell_type": "code",
   "execution_count": 38,
   "metadata": {
    "execution": {
     "iopub.execute_input": "2022-01-26T09:23:13.572465Z",
     "iopub.status.busy": "2022-01-26T09:23:13.556641Z",
     "iopub.status.idle": "2022-01-26T09:23:14.043876Z",
     "shell.execute_reply": "2022-01-26T09:23:14.043427Z",
     "shell.execute_reply.started": "2022-01-26T08:54:16.699976Z"
    },
    "papermill": {
     "duration": 0.535448,
     "end_time": "2022-01-26T09:23:14.044001",
     "exception": false,
     "start_time": "2022-01-26T09:23:13.508553",
     "status": "completed"
    },
    "tags": []
   },
   "outputs": [
    {
     "data": {
      "image/png": "[encoded data removed]",
      "text/plain": [
       "<Figure size 1080x720 with 1 Axes>"
      ]
     },
     "metadata": {
      "needs_background": "light"
     },
     "output_type": "display_data"
    }
   ],
   "source": [
    "fig, ax = plt.subplots(figsize=(15,10)) \n",
    "sns.regplot(df_total['price'][inlier_mask],\n",
    "            df_total['rent_predicted'][inlier_mask])\n",
    "plt.scatter(df_total['price'][outlier_mask],\n",
    "            df_total['rent_predicted'][outlier_mask],\n",
    "            alpha=0.4,\n",
    "            c='r')\n",
    "\n",
    "plt.title('Prediction of rent for apartments in Germany')\n",
    "plt.text(250, 2000, r'$R^2=%.2f$' % r2_ransac)\n",
    "plt.tight_layout()\n",
    "# plt.savefig('LinReg-rent-apartment.png', dpi=150)"
   ]
  },
  {
   "cell_type": "code",
   "execution_count": null,
   "metadata": {
    "papermill": {
     "duration": 0.042202,
     "end_time": "2022-01-26T09:23:14.129142",
     "exception": false,
     "start_time": "2022-01-26T09:23:14.086940",
     "status": "completed"
    },
    "tags": []
   },
   "outputs": [],
   "source": []
  },
  {
   "cell_type": "markdown",
   "metadata": {
    "papermill": {
     "duration": 0.042398,
     "end_time": "2022-01-26T09:23:14.214138",
     "exception": false,
     "start_time": "2022-01-26T09:23:14.171740",
     "status": "completed"
    },
    "tags": []
   },
   "source": [
    "## House Buy"
   ]
  },
  {
   "cell_type": "code",
   "execution_count": 39,
   "metadata": {
    "execution": {
     "iopub.execute_input": "2022-01-26T09:23:14.302902Z",
     "iopub.status.busy": "2022-01-26T09:23:14.302354Z",
     "iopub.status.idle": "2022-01-26T09:23:14.309702Z",
     "shell.execute_reply": "2022-01-26T09:23:14.309299Z",
     "shell.execute_reply.started": "2022-01-26T08:54:17.256240Z"
    },
    "papermill": {
     "duration": 0.053432,
     "end_time": "2022-01-26T09:23:14.309811",
     "exception": false,
     "start_time": "2022-01-26T09:23:14.256379",
     "status": "completed"
    },
    "tags": []
   },
   "outputs": [],
   "source": [
    "path = os.path.join(os.getcwd(), \"Data/House/Rent/\")\n",
    "list_of_files = glob.glob(f\"{path}/*.csv\") "
   ]
  },
  {
   "cell_type": "code",
   "execution_count": 40,
   "metadata": {
    "execution": {
     "iopub.execute_input": "2022-01-26T09:23:14.400522Z",
     "iopub.status.busy": "2022-01-26T09:23:14.400023Z",
     "iopub.status.idle": "2022-01-26T09:23:14.459676Z",
     "shell.execute_reply": "2022-01-26T09:23:14.459178Z",
     "shell.execute_reply.started": "2022-01-26T08:54:17.268294Z"
    },
    "papermill": {
     "duration": 0.107555,
     "end_time": "2022-01-26T09:23:14.459793",
     "exception": false,
     "start_time": "2022-01-26T09:23:14.352238",
     "status": "completed"
    },
    "tags": []
   },
   "outputs": [],
   "source": [
    "list_df = []\n",
    "\n",
    "for filename in list_of_files:\n",
    "    df = pd.read_csv(filename, sep=\";\",index_col=None, header=0,usecols=[\"city\",\"postcode\",\"numberOfRooms\",\"livingSpace\",\"price\"],nrows=1000)\n",
    "    df=df.sample(frac=1)\n",
    "    df['price']=df['price'].apply(lambda x: float(x.split(\" EUR\")[0]))\n",
    "    list_df.append(df)\n",
    "\n",
    "df_total = pd.concat(list_df, axis=0, ignore_index=True)"
   ]
  },
  {
   "cell_type": "code",
   "execution_count": 41,
   "metadata": {
    "execution": {
     "iopub.execute_input": "2022-01-26T09:23:14.552697Z",
     "iopub.status.busy": "2022-01-26T09:23:14.551865Z",
     "iopub.status.idle": "2022-01-26T09:23:14.558307Z",
     "shell.execute_reply": "2022-01-26T09:23:14.558700Z",
     "shell.execute_reply.started": "2022-01-26T08:54:17.347562Z"
    },
    "papermill": {
     "duration": 0.05551,
     "end_time": "2022-01-26T09:23:14.558879",
     "exception": false,
     "start_time": "2022-01-26T09:23:14.503369",
     "status": "completed"
    },
    "tags": []
   },
   "outputs": [],
   "source": [
    "for i in list(df_total.columns):\n",
    "    df_total=df_total[df_total[i]!=\"no value\"]"
   ]
  },
  {
   "cell_type": "code",
   "execution_count": 42,
   "metadata": {
    "execution": {
     "iopub.execute_input": "2022-01-26T09:23:14.650235Z",
     "iopub.status.busy": "2022-01-26T09:23:14.649560Z",
     "iopub.status.idle": "2022-01-26T09:23:14.655728Z",
     "shell.execute_reply": "2022-01-26T09:23:14.655290Z",
     "shell.execute_reply.started": "2022-01-26T08:54:17.358587Z"
    },
    "papermill": {
     "duration": 0.053614,
     "end_time": "2022-01-26T09:23:14.655851",
     "exception": false,
     "start_time": "2022-01-26T09:23:14.602237",
     "status": "completed"
    },
    "tags": []
   },
   "outputs": [],
   "source": [
    "hot_zip_test = pd.get_dummies(df_total.postcode)"
   ]
  },
  {
   "cell_type": "code",
   "execution_count": 43,
   "metadata": {
    "execution": {
     "iopub.execute_input": "2022-01-26T09:23:14.745804Z",
     "iopub.status.busy": "2022-01-26T09:23:14.745047Z",
     "iopub.status.idle": "2022-01-26T09:23:14.748884Z",
     "shell.execute_reply": "2022-01-26T09:23:14.748451Z",
     "shell.execute_reply.started": "2022-01-26T08:54:17.370246Z"
    },
    "papermill": {
     "duration": 0.051092,
     "end_time": "2022-01-26T09:23:14.748999",
     "exception": false,
     "start_time": "2022-01-26T09:23:14.697907",
     "status": "completed"
    },
    "tags": []
   },
   "outputs": [],
   "source": [
    "X = pd.concat((df_total[[\"numberOfRooms\",\"livingSpace\"]], hot_zip_test), axis=1)\n",
    "y = df_total[[\"price\"]]\n"
   ]
  },
  {
   "cell_type": "code",
   "execution_count": 44,
   "metadata": {
    "execution": {
     "iopub.execute_input": "2022-01-26T09:23:14.849993Z",
     "iopub.status.busy": "2022-01-26T09:23:14.846635Z",
     "iopub.status.idle": "2022-01-26T09:23:16.307102Z",
     "shell.execute_reply": "2022-01-26T09:23:16.308133Z",
     "shell.execute_reply.started": "2022-01-26T08:54:17.381434Z"
    },
    "papermill": {
     "duration": 1.516982,
     "end_time": "2022-01-26T09:23:16.308376",
     "exception": false,
     "start_time": "2022-01-26T09:23:14.791394",
     "status": "completed"
    },
    "tags": []
   },
   "outputs": [
    {
     "data": {
      "text/plain": [
       "0.544862826255055"
      ]
     },
     "execution_count": 44,
     "metadata": {},
     "output_type": "execute_result"
    }
   ],
   "source": [
    "# a simple linear model doesn't perform too well\n",
    "simple = linear_model.LinearRegression()\n",
    "simple.fit(X,y)\n",
    "y_pred = simple.predict(X)\n",
    "r2_score(y, y_pred)"
   ]
  },
  {
   "cell_type": "code",
   "execution_count": 45,
   "metadata": {
    "execution": {
     "iopub.execute_input": "2022-01-26T09:23:16.457879Z",
     "iopub.status.busy": "2022-01-26T09:23:16.456222Z",
     "iopub.status.idle": "2022-01-26T09:23:16.458441Z",
     "shell.execute_reply": "2022-01-26T09:23:16.458857Z",
     "shell.execute_reply.started": "2022-01-26T08:54:18.886379Z"
    },
    "papermill": {
     "duration": 0.068697,
     "end_time": "2022-01-26T09:23:16.458988",
     "exception": false,
     "start_time": "2022-01-26T09:23:16.390291",
     "status": "completed"
    },
    "tags": []
   },
   "outputs": [],
   "source": [
    "# Robustly fit linear model with RANSAC (RANdom SAmple Consensus) algorithm \n",
    "regressor = linear_model.RANSACRegressor(linear_model.LinearRegression())"
   ]
  },
  {
   "cell_type": "code",
   "execution_count": 46,
   "metadata": {
    "execution": {
     "iopub.execute_input": "2022-01-26T09:23:16.564527Z",
     "iopub.status.busy": "2022-01-26T09:23:16.563754Z",
     "iopub.status.idle": "2022-01-26T09:24:50.346592Z",
     "shell.execute_reply": "2022-01-26T09:24:50.347342Z",
     "shell.execute_reply.started": "2022-01-26T08:54:18.892952Z"
    },
    "papermill": {
     "duration": 93.846056,
     "end_time": "2022-01-26T09:24:50.347585",
     "exception": false,
     "start_time": "2022-01-26T09:23:16.501529",
     "status": "completed"
    },
    "tags": []
   },
   "outputs": [
    {
     "data": {
      "text/plain": [
       "RANSACRegressor(base_estimator=LinearRegression())"
      ]
     },
     "execution_count": 46,
     "metadata": {},
     "output_type": "execute_result"
    }
   ],
   "source": [
    "regressor.fit(X,y)"
   ]
  },
  {
   "cell_type": "code",
   "execution_count": 47,
   "metadata": {
    "execution": {
     "iopub.execute_input": "2022-01-26T09:24:50.479244Z",
     "iopub.status.busy": "2022-01-26T09:24:50.477634Z",
     "iopub.status.idle": "2022-01-26T09:24:50.481197Z",
     "shell.execute_reply": "2022-01-26T09:24:50.480721Z",
     "shell.execute_reply.started": "2022-01-26T08:55:53.754650Z"
    },
    "papermill": {
     "duration": 0.07128,
     "end_time": "2022-01-26T09:24:50.481314",
     "exception": false,
     "start_time": "2022-01-26T09:24:50.410034",
     "status": "completed"
    },
    "tags": []
   },
   "outputs": [
    {
     "name": "stdout",
     "output_type": "stream",
     "text": [
      "16.3% of apartments identified as outliers\n"
     ]
    }
   ],
   "source": [
    "inlier_mask = regressor.inlier_mask_\n",
    "outlier_mask = np.logical_not(inlier_mask)\n",
    "print(u'%.1f%% of apartments identified as outliers' % (sum(outlier_mask)*100.0/(sum(outlier_mask)+sum(inlier_mask))))"
   ]
  },
  {
   "cell_type": "code",
   "execution_count": 48,
   "metadata": {
    "execution": {
     "iopub.execute_input": "2022-01-26T09:24:50.584589Z",
     "iopub.status.busy": "2022-01-26T09:24:50.583508Z",
     "iopub.status.idle": "2022-01-26T09:24:50.596339Z",
     "shell.execute_reply": "2022-01-26T09:24:50.597047Z",
     "shell.execute_reply.started": "2022-01-26T08:55:53.856678Z"
    },
    "papermill": {
     "duration": 0.072331,
     "end_time": "2022-01-26T09:24:50.597298",
     "exception": false,
     "start_time": "2022-01-26T09:24:50.524967",
     "status": "completed"
    },
    "tags": []
   },
   "outputs": [],
   "source": [
    "y_pred = regressor.predict(X)\n",
    "df_total[\"rent_predicted\"] = y"
   ]
  },
  {
   "cell_type": "code",
   "execution_count": 49,
   "metadata": {
    "execution": {
     "iopub.execute_input": "2022-01-26T09:24:50.749789Z",
     "iopub.status.busy": "2022-01-26T09:24:50.748952Z",
     "iopub.status.idle": "2022-01-26T09:24:50.754072Z",
     "shell.execute_reply": "2022-01-26T09:24:50.753562Z",
     "shell.execute_reply.started": "2022-01-26T08:55:53.918112Z"
    },
    "papermill": {
     "duration": 0.075859,
     "end_time": "2022-01-26T09:24:50.754201",
     "exception": false,
     "start_time": "2022-01-26T09:24:50.678342",
     "status": "completed"
    },
    "tags": []
   },
   "outputs": [],
   "source": [
    "r2_ransac = r2_score(y[inlier_mask], y_pred[inlier_mask])"
   ]
  },
  {
   "cell_type": "code",
   "execution_count": 50,
   "metadata": {
    "execution": {
     "iopub.execute_input": "2022-01-26T09:24:50.873105Z",
     "iopub.status.busy": "2022-01-26T09:24:50.872259Z",
     "iopub.status.idle": "2022-01-26T09:24:51.310385Z",
     "shell.execute_reply": "2022-01-26T09:24:51.310809Z",
     "shell.execute_reply.started": "2022-01-26T09:15:08.491272Z"
    },
    "papermill": {
     "duration": 0.50754,
     "end_time": "2022-01-26T09:24:51.310984",
     "exception": false,
     "start_time": "2022-01-26T09:24:50.803444",
     "status": "completed"
    },
    "tags": []
   },
   "outputs": [
    {
     "data": {
      "image/png": "[encoded data removed]",
      "text/plain": [
       "<Figure size 1080x720 with 1 Axes>"
      ]
     },
     "metadata": {
      "needs_background": "light"
     },
     "output_type": "display_data"
    }
   ],
   "source": [
    "fig, ax = plt.subplots(figsize=(15,10)) \n",
    "sns.regplot(df_total['price'][inlier_mask],\n",
    "            df_total['rent_predicted'][inlier_mask])\n",
    "plt.scatter(df_total['price'][outlier_mask],\n",
    "            df_total['rent_predicted'][outlier_mask],\n",
    "            alpha=0.4,\n",
    "            c='r')\n",
    "\n",
    "plt.title('Prediction of rent for houses in Germany')\n",
    "plt.text(250, 2000, r'$R^2=%.2f$' % r2_ransac)\n",
    "plt.tight_layout()\n",
    "# plt.savefig('LinReg-rent-apartment.png', dpi=150)"
   ]
  },
  {
   "cell_type": "code",
   "execution_count": null,
   "metadata": {
    "papermill": {
     "duration": 0.044508,
     "end_time": "2022-01-26T09:24:51.400143",
     "exception": false,
     "start_time": "2022-01-26T09:24:51.355635",
     "status": "completed"
    },
    "tags": []
   },
   "outputs": [],
   "source": []
  }
 ],
 "metadata": {
  "kernelspec": {
   "display_name": "Python 3",
   "language": "python",
   "name": "python3"
  },
  "language_info": {
   "codemirror_mode": {
    "name": "ipython",
    "version": 3
   },
   "file_extension": ".py",
   "mimetype": "text/x-python",
   "name": "python",
   "nbconvert_exporter": "python",
   "pygments_lexer": "ipython3",
   "version": "3.7.3"
  },
  "papermill": {
   "default_parameters": {},
   "duration": 563.097259,
   "end_time": "2022-01-26T09:24:52.456929",
   "environment_variables": {},
   "exception": null,
   "input_path": "__notebook__.ipynb",
   "output_path": "__notebook__.ipynb",
   "parameters": {},
   "start_time": "2022-01-26T09:15:29.359670",
   "version": "2.3.3"
  }
 },
 "nbformat": 4,
 "nbformat_minor": 5
}
