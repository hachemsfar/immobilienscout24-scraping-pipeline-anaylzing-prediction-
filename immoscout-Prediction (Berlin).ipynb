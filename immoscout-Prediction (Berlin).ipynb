{
 "cells": [
  {
   "cell_type": "code",
   "execution_count": 1,
   "metadata": {
    "execution": {
     "iopub.execute_input": "2022-01-25T15:46:29.570773Z",
     "iopub.status.busy": "2022-01-25T15:46:29.569190Z",
     "iopub.status.idle": "2022-01-25T15:46:32.310208Z",
     "shell.execute_reply": "2022-01-25T15:46:32.309465Z",
     "shell.execute_reply.started": "2022-01-25T15:42:15.957281Z"
    },
    "papermill": {
     "duration": 2.788061,
     "end_time": "2022-01-25T15:46:32.310369",
     "exception": false,
     "start_time": "2022-01-25T15:46:29.522308",
     "status": "completed"
    },
    "tags": []
   },
   "outputs": [],
   "source": [
    "import warnings\n",
    "warnings.filterwarnings(\"ignore\")\n",
    "\n",
    "import pandas as pd\n",
    "import numpy as np\n",
    "import os\n",
    "import glob\n",
    "from sklearn import linear_model\n",
    "from sklearn.metrics import r2_score\n",
    "\n",
    "\n",
    "from tpot import TPOTRegressor\n",
    "from sklearn.model_selection import train_test_split\n",
    "\n",
    "\n",
    "import matplotlib.cm as cm\n",
    "import matplotlib.pyplot as plt\n",
    "import seaborn as sns\n",
    "%matplotlib inline\n"
   ]
  },
  {
   "cell_type": "markdown",
   "metadata": {
    "papermill": {
     "duration": 0.04078,
     "end_time": "2022-01-25T15:46:32.529889",
     "exception": false,
     "start_time": "2022-01-25T15:46:32.489109",
     "status": "completed"
    },
    "tags": []
   },
   "source": [
    "## Apartment Buy"
   ]
  },
  {
   "cell_type": "code",
   "execution_count": 3,
   "metadata": {
    "execution": {
     "iopub.execute_input": "2022-01-25T15:46:32.619198Z",
     "iopub.status.busy": "2022-01-25T15:46:32.618621Z",
     "iopub.status.idle": "2022-01-25T15:46:32.622520Z",
     "shell.execute_reply": "2022-01-25T15:46:32.622942Z",
     "shell.execute_reply.started": "2022-01-25T15:42:18.496090Z"
    },
    "papermill": {
     "duration": 0.051956,
     "end_time": "2022-01-25T15:46:32.623092",
     "exception": false,
     "start_time": "2022-01-25T15:46:32.571136",
     "status": "completed"
    },
    "tags": []
   },
   "outputs": [],
   "source": [
    "path = os.path.join(os.getcwd(), \"Data/Apartment/Buy/\")\n",
    "list_of_files = glob.glob(f\"{path}/*.csv\") "
   ]
  },
  {
   "cell_type": "code",
   "execution_count": 4,
   "metadata": {
    "execution": {
     "iopub.execute_input": "2022-01-25T15:46:32.714699Z",
     "iopub.status.busy": "2022-01-25T15:46:32.713782Z",
     "iopub.status.idle": "2022-01-25T15:46:33.007412Z",
     "shell.execute_reply": "2022-01-25T15:46:33.006937Z",
     "shell.execute_reply.started": "2022-01-25T15:42:18.504303Z"
    },
    "papermill": {
     "duration": 0.342565,
     "end_time": "2022-01-25T15:46:33.007547",
     "exception": false,
     "start_time": "2022-01-25T15:46:32.664982",
     "status": "completed"
    },
    "tags": []
   },
   "outputs": [],
   "source": [
    "list_df = []\n",
    "\n",
    "for filename in list_of_files:\n",
    "    df = pd.read_csv(filename, sep=\";\",index_col=None, header=0,usecols=[\"city\",\"postcode\",\"numberOfRooms\",\"livingSpace\",\"balcony\",\"builtInKitchen\",\"garden\",\"price\",\"guestToilet\"])\n",
    "    df=df.sample(frac=1)\n",
    "    df=df[df['city']=='Berlin']\n",
    "    df['price']=df['price'].apply(lambda x: float(x.split(\" EUR\")[0]))\n",
    "    list_df.append(df)\n",
    "\n",
    "df_total = pd.concat(list_df, axis=0, ignore_index=True)"
   ]
  },
  {
   "cell_type": "code",
   "execution_count": 5,
   "metadata": {
    "execution": {
     "iopub.execute_input": "2022-01-25T15:46:33.097036Z",
     "iopub.status.busy": "2022-01-25T15:46:33.096270Z",
     "iopub.status.idle": "2022-01-25T15:46:33.105881Z",
     "shell.execute_reply": "2022-01-25T15:46:33.105424Z",
     "shell.execute_reply.started": "2022-01-25T15:42:18.834065Z"
    },
    "papermill": {
     "duration": 0.056577,
     "end_time": "2022-01-25T15:46:33.106003",
     "exception": false,
     "start_time": "2022-01-25T15:46:33.049426",
     "status": "completed"
    },
    "tags": []
   },
   "outputs": [],
   "source": [
    "for i in list(df_total.columns):\n",
    "    df_total=df_total[df_total[i]!=\"no value\"]"
   ]
  },
  {
   "cell_type": "code",
   "execution_count": 6,
   "metadata": {
    "execution": {
     "iopub.execute_input": "2022-01-25T15:46:33.194848Z",
     "iopub.status.busy": "2022-01-25T15:46:33.193150Z",
     "iopub.status.idle": "2022-01-25T15:46:33.203856Z",
     "shell.execute_reply": "2022-01-25T15:46:33.204294Z",
     "shell.execute_reply.started": "2022-01-25T15:42:18.852205Z"
    },
    "papermill": {
     "duration": 0.057114,
     "end_time": "2022-01-25T15:46:33.204449",
     "exception": false,
     "start_time": "2022-01-25T15:46:33.147335",
     "status": "completed"
    },
    "tags": []
   },
   "outputs": [],
   "source": [
    "hot_zip_test = pd.get_dummies(df_total.postcode)\n",
    "df_total.balcony = df_total.balcony.astype(int)\n",
    "df_total.garden = df_total.garden.astype(int)\n",
    "df_total.builtInKitchen = df_total.builtInKitchen.astype(int)\n",
    "df_total.guestToilet = df_total.guestToilet.astype(int)"
   ]
  },
  {
   "cell_type": "code",
   "execution_count": 7,
   "metadata": {
    "execution": {
     "iopub.execute_input": "2022-01-25T15:46:33.293284Z",
     "iopub.status.busy": "2022-01-25T15:46:33.292334Z",
     "iopub.status.idle": "2022-01-25T15:46:33.297633Z",
     "shell.execute_reply": "2022-01-25T15:46:33.297206Z",
     "shell.execute_reply.started": "2022-01-25T15:42:18.868774Z"
    },
    "papermill": {
     "duration": 0.051735,
     "end_time": "2022-01-25T15:46:33.297754",
     "exception": false,
     "start_time": "2022-01-25T15:46:33.246019",
     "status": "completed"
    },
    "tags": []
   },
   "outputs": [],
   "source": [
    "X = pd.concat((df_total[[\"numberOfRooms\",\"livingSpace\",\"balcony\",\"builtInKitchen\",\"garden\",\"guestToilet\"]], hot_zip_test), axis=1)\n",
    "y = df_total[[\"price\"]]\n"
   ]
  },
  {
   "cell_type": "code",
   "execution_count": 8,
   "metadata": {
    "execution": {
     "iopub.execute_input": "2022-01-25T15:46:33.387295Z",
     "iopub.status.busy": "2022-01-25T15:46:33.386786Z",
     "iopub.status.idle": "2022-01-25T15:46:33.470437Z",
     "shell.execute_reply": "2022-01-25T15:46:33.471394Z",
     "shell.execute_reply.started": "2022-01-25T15:42:18.881219Z"
    },
    "papermill": {
     "duration": 0.132741,
     "end_time": "2022-01-25T15:46:33.471645",
     "exception": false,
     "start_time": "2022-01-25T15:46:33.338904",
     "status": "completed"
    },
    "tags": []
   },
   "outputs": [
    {
     "data": {
      "text/plain": [
       "0.7268646337674189"
      ]
     },
     "execution_count": 8,
     "metadata": {},
     "output_type": "execute_result"
    }
   ],
   "source": [
    "# a simple linear model doesn't perform too well\n",
    "simple = linear_model.LinearRegression()\n",
    "simple.fit(X,y)\n",
    "y_pred = simple.predict(X)\n",
    "r2_score(y, y_pred)"
   ]
  },
  {
   "cell_type": "code",
   "execution_count": 9,
   "metadata": {
    "execution": {
     "iopub.execute_input": "2022-01-25T15:46:33.617254Z",
     "iopub.status.busy": "2022-01-25T15:46:33.616324Z",
     "iopub.status.idle": "2022-01-25T15:46:33.619097Z",
     "shell.execute_reply": "2022-01-25T15:46:33.618567Z",
     "shell.execute_reply.started": "2022-01-25T15:42:18.982494Z"
    },
    "papermill": {
     "duration": 0.070421,
     "end_time": "2022-01-25T15:46:33.619207",
     "exception": false,
     "start_time": "2022-01-25T15:46:33.548786",
     "status": "completed"
    },
    "tags": []
   },
   "outputs": [],
   "source": [
    "# Robustly fit linear model with RANSAC (RANdom SAmple Consensus) algorithm \n",
    "regressor = linear_model.RANSACRegressor(linear_model.LinearRegression())"
   ]
  },
  {
   "cell_type": "code",
   "execution_count": 10,
   "metadata": {
    "execution": {
     "iopub.execute_input": "2022-01-25T15:46:33.711679Z",
     "iopub.status.busy": "2022-01-25T15:46:33.710689Z",
     "iopub.status.idle": "2022-01-25T15:46:34.608296Z",
     "shell.execute_reply": "2022-01-25T15:46:34.608918Z",
     "shell.execute_reply.started": "2022-01-25T15:42:18.990260Z"
    },
    "papermill": {
     "duration": 0.947559,
     "end_time": "2022-01-25T15:46:34.609169",
     "exception": false,
     "start_time": "2022-01-25T15:46:33.661610",
     "status": "completed"
    },
    "tags": []
   },
   "outputs": [
    {
     "data": {
      "text/plain": [
       "RANSACRegressor(base_estimator=LinearRegression())"
      ]
     },
     "execution_count": 10,
     "metadata": {},
     "output_type": "execute_result"
    }
   ],
   "source": [
    "regressor.fit(X,y)\n"
   ]
  },
  {
   "cell_type": "code",
   "execution_count": 11,
   "metadata": {
    "execution": {
     "iopub.execute_input": "2022-01-25T15:46:34.796322Z",
     "iopub.status.busy": "2022-01-25T15:46:34.795420Z",
     "iopub.status.idle": "2022-01-25T15:46:34.798247Z",
     "shell.execute_reply": "2022-01-25T15:46:34.798670Z",
     "shell.execute_reply.started": "2022-01-25T15:42:19.872573Z"
    },
    "papermill": {
     "duration": 0.110213,
     "end_time": "2022-01-25T15:46:34.798819",
     "exception": false,
     "start_time": "2022-01-25T15:46:34.688606",
     "status": "completed"
    },
    "tags": []
   },
   "outputs": [
    {
     "name": "stdout",
     "output_type": "stream",
     "text": [
      "36.2% of apartments identified as outliers\n"
     ]
    }
   ],
   "source": [
    "inlier_mask = regressor.inlier_mask_\n",
    "outlier_mask = np.logical_not(inlier_mask)\n",
    "print(u'%.1f%% of apartments identified as outliers' % (sum(outlier_mask)*100.0/(sum(outlier_mask)+sum(inlier_mask))))"
   ]
  },
  {
   "cell_type": "code",
   "execution_count": 12,
   "metadata": {
    "execution": {
     "iopub.execute_input": "2022-01-25T15:46:34.892736Z",
     "iopub.status.busy": "2022-01-25T15:46:34.891777Z",
     "iopub.status.idle": "2022-01-25T15:46:34.898253Z",
     "shell.execute_reply": "2022-01-25T15:46:34.898670Z",
     "shell.execute_reply.started": "2022-01-25T15:42:19.954767Z"
    },
    "papermill": {
     "duration": 0.056968,
     "end_time": "2022-01-25T15:46:34.898904",
     "exception": false,
     "start_time": "2022-01-25T15:46:34.841936",
     "status": "completed"
    },
    "tags": []
   },
   "outputs": [],
   "source": [
    "y_pred = regressor.predict(X)\n",
    "df_total[\"buy_predicted\"] = y_pred"
   ]
  },
  {
   "cell_type": "code",
   "execution_count": 13,
   "metadata": {
    "execution": {
     "iopub.execute_input": "2022-01-25T15:46:35.048360Z",
     "iopub.status.busy": "2022-01-25T15:46:35.047632Z",
     "iopub.status.idle": "2022-01-25T15:46:35.050911Z",
     "shell.execute_reply": "2022-01-25T15:46:35.050439Z",
     "shell.execute_reply.started": "2022-01-25T15:42:19.973352Z"
    },
    "papermill": {
     "duration": 0.075051,
     "end_time": "2022-01-25T15:46:35.051036",
     "exception": false,
     "start_time": "2022-01-25T15:46:34.975985",
     "status": "completed"
    },
    "tags": []
   },
   "outputs": [],
   "source": [
    "r2_ransac = r2_score(y[inlier_mask], y_pred[inlier_mask])\n"
   ]
  },
  {
   "cell_type": "code",
   "execution_count": 14,
   "metadata": {
    "execution": {
     "iopub.execute_input": "2022-01-25T15:46:35.140003Z",
     "iopub.status.busy": "2022-01-25T15:46:35.139277Z",
     "iopub.status.idle": "2022-01-25T15:46:35.825133Z",
     "shell.execute_reply": "2022-01-25T15:46:35.824550Z",
     "shell.execute_reply.started": "2022-01-25T15:42:22.872654Z"
    },
    "papermill": {
     "duration": 0.731532,
     "end_time": "2022-01-25T15:46:35.825332",
     "exception": false,
     "start_time": "2022-01-25T15:46:35.093800",
     "status": "completed"
    },
    "tags": []
   },
   "outputs": [
    {
     "data": {
      "image/png": "[encoded data removed]",
      "text/plain": [
       "<Figure size 1080x720 with 1 Axes>"
      ]
     },
     "metadata": {
      "needs_background": "light"
     },
     "output_type": "display_data"
    }
   ],
   "source": [
    "fig, ax = plt.subplots(figsize=(15,10)) \n",
    "sns.regplot(df_total['price'][inlier_mask],\n",
    "            df_total['buy_predicted'][inlier_mask])\n",
    "plt.scatter(df_total['price'][outlier_mask],\n",
    "            df_total['buy_predicted'][outlier_mask],\n",
    "            alpha=0.4,\n",
    "            c='r')\n",
    "\n",
    "plt.title('Prediction of buy for apartments in Germany')\n",
    "plt.text(250, 2000, r'$R^2=%.2f$' % r2_ransac)\n",
    "plt.tight_layout()\n",
    "# plt.savefig('LinReg-rent-apartment.png', dpi=150)"
   ]
  },
  {
   "cell_type": "code",
   "execution_count": 15,
   "metadata": {
    "execution": {
     "iopub.execute_input": "2022-01-25T15:46:35.919823Z",
     "iopub.status.busy": "2022-01-25T15:46:35.919029Z",
     "iopub.status.idle": "2022-01-25T16:13:31.968082Z",
     "shell.execute_reply": "2022-01-25T16:13:31.968493Z",
     "shell.execute_reply.started": "2022-01-25T15:29:19.748918Z"
    },
    "papermill": {
     "duration": 1616.098811,
     "end_time": "2022-01-25T16:13:31.968677",
     "exception": false,
     "start_time": "2022-01-25T15:46:35.869866",
     "status": "completed"
    },
    "tags": []
   },
   "outputs": [
    {
     "data": {
      "application/vnd.jupyter.widget-view+json": {
       "model_id": "bcc9899820704bffa4b8301da2e65548",
       "version_major": 2,
       "version_minor": 0
      },
      "text/plain": [
       "Optimization Progress:   0%|          | 0/120 [00:00<?, ?pipeline/s]"
      ]
     },
     "metadata": {},
     "output_type": "display_data"
    },
    {
     "name": "stdout",
     "output_type": "stream",
     "text": [
      "\n",
      "Generation 1 - Current best internal CV score: 0.6814492457549359\n",
      "\n",
      "Generation 2 - Current best internal CV score: 0.6814492457549359\n",
      "\n",
      "Generation 3 - Current best internal CV score: 0.6905578910255048\n",
      "\n",
      "Generation 4 - Current best internal CV score: 0.7297706410900899\n",
      "\n",
      "Generation 5 - Current best internal CV score: 0.7297706410900899\n",
      "\n",
      "Best pipeline: RandomForestRegressor(GradientBoostingRegressor(AdaBoostRegressor(input_matrix, learning_rate=0.1, loss=exponential, n_estimators=100), alpha=0.99, learning_rate=0.1, loss=ls, max_depth=6, max_features=0.8, min_samples_leaf=2, min_samples_split=10, n_estimators=100, subsample=0.6500000000000001), bootstrap=False, max_features=0.2, min_samples_leaf=12, min_samples_split=10, n_estimators=100)\n",
      "0.8604186203079293\n"
     ]
    }
   ],
   "source": [
    "tpot = TPOTRegressor(generations=5, population_size=20, verbosity=2, scoring=\"r2\")\n",
    "tpot.fit(X, y)\n",
    "print(tpot.score(X, y))"
   ]
  },
  {
   "cell_type": "code",
   "execution_count": 16,
   "metadata": {
    "execution": {
     "iopub.execute_input": "2022-01-25T16:13:32.069404Z",
     "iopub.status.busy": "2022-01-25T16:13:32.068615Z",
     "iopub.status.idle": "2022-01-25T16:13:32.243309Z",
     "shell.execute_reply": "2022-01-25T16:13:32.243768Z",
     "shell.execute_reply.started": "2022-01-25T15:40:53.451800Z"
    },
    "papermill": {
     "duration": 0.229873,
     "end_time": "2022-01-25T16:13:32.243927",
     "exception": false,
     "start_time": "2022-01-25T16:13:32.014054",
     "status": "completed"
    },
    "tags": []
   },
   "outputs": [
    {
     "data": {
      "text/plain": [
       "0.8604186203079293"
      ]
     },
     "execution_count": 16,
     "metadata": {},
     "output_type": "execute_result"
    }
   ],
   "source": [
    "y_pred = tpot.predict(X)\n",
    "r2_score(y, y_pred)"
   ]
  },
  {
   "cell_type": "code",
   "execution_count": null,
   "metadata": {
    "papermill": {
     "duration": 0.045629,
     "end_time": "2022-01-25T16:13:32.335615",
     "exception": false,
     "start_time": "2022-01-25T16:13:32.289986",
     "status": "completed"
    },
    "tags": []
   },
   "outputs": [],
   "source": []
  },
  {
   "cell_type": "markdown",
   "metadata": {
    "papermill": {
     "duration": 0.04545,
     "end_time": "2022-01-25T16:13:32.427079",
     "exception": false,
     "start_time": "2022-01-25T16:13:32.381629",
     "status": "completed"
    },
    "tags": []
   },
   "source": [
    "## House Buy"
   ]
  },
  {
   "cell_type": "code",
   "execution_count": 17,
   "metadata": {
    "execution": {
     "iopub.execute_input": "2022-01-25T16:13:32.523570Z",
     "iopub.status.busy": "2022-01-25T16:13:32.523063Z",
     "iopub.status.idle": "2022-01-25T16:13:32.532101Z",
     "shell.execute_reply": "2022-01-25T16:13:32.532542Z",
     "shell.execute_reply.started": "2022-01-25T15:42:29.133804Z"
    },
    "papermill": {
     "duration": 0.059898,
     "end_time": "2022-01-25T16:13:32.532703",
     "exception": false,
     "start_time": "2022-01-25T16:13:32.472805",
     "status": "completed"
    },
    "tags": []
   },
   "outputs": [],
   "source": [
    "path = os.path.join(os.getcwd(), \"Data/House/Buy/\")\n",
    "list_of_files = glob.glob(f\"{path}/*.csv\") "
   ]
  },
  {
   "cell_type": "code",
   "execution_count": 18,
   "metadata": {
    "execution": {
     "iopub.execute_input": "2022-01-25T16:13:32.631783Z",
     "iopub.status.busy": "2022-01-25T16:13:32.630807Z",
     "iopub.status.idle": "2022-01-25T16:13:32.976792Z",
     "shell.execute_reply": "2022-01-25T16:13:32.975835Z",
     "shell.execute_reply.started": "2022-01-25T15:42:29.420158Z"
    },
    "papermill": {
     "duration": 0.398477,
     "end_time": "2022-01-25T16:13:32.976943",
     "exception": false,
     "start_time": "2022-01-25T16:13:32.578466",
     "status": "completed"
    },
    "tags": []
   },
   "outputs": [],
   "source": [
    "list_df = []\n",
    "\n",
    "for filename in list_of_files:\n",
    "    df = pd.read_csv(filename, sep=\";\",index_col=None, header=0,usecols=[\"city\",\"postcode\",\"numberOfRooms\",\"livingSpace\",\"price\",\"guestToilet\"])\n",
    "    df=df.sample(frac=1)\n",
    "    df=df[df['city']=='Berlin']\n",
    "    df['price']=df['price'].apply(lambda x: float(x.split(\" EUR\")[0]))\n",
    "    list_df.append(df)\n",
    "\n",
    "df_total = pd.concat(list_df, axis=0, ignore_index=True)"
   ]
  },
  {
   "cell_type": "code",
   "execution_count": 19,
   "metadata": {
    "execution": {
     "iopub.execute_input": "2022-01-25T16:13:33.076978Z",
     "iopub.status.busy": "2022-01-25T16:13:33.074732Z",
     "iopub.status.idle": "2022-01-25T16:13:33.080450Z",
     "shell.execute_reply": "2022-01-25T16:13:33.080881Z",
     "shell.execute_reply.started": "2022-01-25T15:42:30.279405Z"
    },
    "papermill": {
     "duration": 0.05792,
     "end_time": "2022-01-25T16:13:33.081014",
     "exception": false,
     "start_time": "2022-01-25T16:13:33.023094",
     "status": "completed"
    },
    "tags": []
   },
   "outputs": [],
   "source": [
    "for i in list(df_total.columns):\n",
    "    df_total=df_total[df_total[i]!=\"no value\"]"
   ]
  },
  {
   "cell_type": "code",
   "execution_count": 20,
   "metadata": {
    "execution": {
     "iopub.execute_input": "2022-01-25T16:13:33.176730Z",
     "iopub.status.busy": "2022-01-25T16:13:33.175920Z",
     "iopub.status.idle": "2022-01-25T16:13:33.180398Z",
     "shell.execute_reply": "2022-01-25T16:13:33.179953Z",
     "shell.execute_reply.started": "2022-01-25T15:42:31.120033Z"
    },
    "papermill": {
     "duration": 0.054219,
     "end_time": "2022-01-25T16:13:33.180508",
     "exception": false,
     "start_time": "2022-01-25T16:13:33.126289",
     "status": "completed"
    },
    "tags": []
   },
   "outputs": [],
   "source": [
    "hot_zip_test = pd.get_dummies(df_total.postcode)\n",
    "df_total.guestToilet = df_total.guestToilet.astype(int)"
   ]
  },
  {
   "cell_type": "code",
   "execution_count": 21,
   "metadata": {
    "execution": {
     "iopub.execute_input": "2022-01-25T16:13:33.277714Z",
     "iopub.status.busy": "2022-01-25T16:13:33.277089Z",
     "iopub.status.idle": "2022-01-25T16:13:33.281342Z",
     "shell.execute_reply": "2022-01-25T16:13:33.280867Z",
     "shell.execute_reply.started": "2022-01-25T15:42:31.836776Z"
    },
    "papermill": {
     "duration": 0.055345,
     "end_time": "2022-01-25T16:13:33.281447",
     "exception": false,
     "start_time": "2022-01-25T16:13:33.226102",
     "status": "completed"
    },
    "tags": []
   },
   "outputs": [],
   "source": [
    "X = pd.concat((df_total[[\"numberOfRooms\",\"livingSpace\",\"guestToilet\"]], hot_zip_test), axis=1)\n",
    "y = df_total[[\"price\"]]\n"
   ]
  },
  {
   "cell_type": "code",
   "execution_count": 22,
   "metadata": {
    "execution": {
     "iopub.execute_input": "2022-01-25T16:13:33.379292Z",
     "iopub.status.busy": "2022-01-25T16:13:33.378486Z",
     "iopub.status.idle": "2022-01-25T16:13:33.397974Z",
     "shell.execute_reply": "2022-01-25T16:13:33.399249Z",
     "shell.execute_reply.started": "2022-01-25T15:42:32.447048Z"
    },
    "papermill": {
     "duration": 0.073101,
     "end_time": "2022-01-25T16:13:33.399503",
     "exception": false,
     "start_time": "2022-01-25T16:13:33.326402",
     "status": "completed"
    },
    "tags": []
   },
   "outputs": [
    {
     "data": {
      "text/plain": [
       "0.8983225844654354"
      ]
     },
     "execution_count": 22,
     "metadata": {},
     "output_type": "execute_result"
    }
   ],
   "source": [
    "# a simple linear model doesn't perform too well\n",
    "simple = linear_model.LinearRegression()\n",
    "simple.fit(X,y)\n",
    "y_pred = simple.predict(X)\n",
    "r2_score(y, y_pred)"
   ]
  },
  {
   "cell_type": "code",
   "execution_count": 23,
   "metadata": {
    "execution": {
     "iopub.execute_input": "2022-01-25T16:13:33.554160Z",
     "iopub.status.busy": "2022-01-25T16:13:33.553278Z",
     "iopub.status.idle": "2022-01-25T16:13:33.555066Z",
     "shell.execute_reply": "2022-01-25T16:13:33.555456Z",
     "shell.execute_reply.started": "2022-01-25T15:42:32.981954Z"
    },
    "papermill": {
     "duration": 0.070509,
     "end_time": "2022-01-25T16:13:33.555613",
     "exception": false,
     "start_time": "2022-01-25T16:13:33.485104",
     "status": "completed"
    },
    "tags": []
   },
   "outputs": [],
   "source": [
    "# Robustly fit linear model with RANSAC (RANdom SAmple Consensus) algorithm \n",
    "regressor = linear_model.RANSACRegressor(linear_model.LinearRegression())"
   ]
  },
  {
   "cell_type": "code",
   "execution_count": 24,
   "metadata": {
    "execution": {
     "iopub.execute_input": "2022-01-25T16:13:33.655927Z",
     "iopub.status.busy": "2022-01-25T16:13:33.655096Z",
     "iopub.status.idle": "2022-01-25T16:13:33.967148Z",
     "shell.execute_reply": "2022-01-25T16:13:33.966411Z",
     "shell.execute_reply.started": "2022-01-25T15:42:33.303141Z"
    },
    "papermill": {
     "duration": 0.366298,
     "end_time": "2022-01-25T16:13:33.967347",
     "exception": false,
     "start_time": "2022-01-25T16:13:33.601049",
     "status": "completed"
    },
    "tags": []
   },
   "outputs": [
    {
     "data": {
      "text/plain": [
       "RANSACRegressor(base_estimator=LinearRegression())"
      ]
     },
     "execution_count": 24,
     "metadata": {},
     "output_type": "execute_result"
    }
   ],
   "source": [
    "regressor.fit(X,y)"
   ]
  },
  {
   "cell_type": "code",
   "execution_count": 25,
   "metadata": {
    "execution": {
     "iopub.execute_input": "2022-01-25T16:13:34.129881Z",
     "iopub.status.busy": "2022-01-25T16:13:34.129187Z",
     "iopub.status.idle": "2022-01-25T16:13:34.132058Z",
     "shell.execute_reply": "2022-01-25T16:13:34.132452Z",
     "shell.execute_reply.started": "2022-01-25T15:42:33.663746Z"
    },
    "papermill": {
     "duration": 0.07881,
     "end_time": "2022-01-25T16:13:34.132606",
     "exception": false,
     "start_time": "2022-01-25T16:13:34.053796",
     "status": "completed"
    },
    "tags": []
   },
   "outputs": [
    {
     "name": "stdout",
     "output_type": "stream",
     "text": [
      "35.5% of houses identified as outliers\n"
     ]
    }
   ],
   "source": [
    "inlier_mask = regressor.inlier_mask_\n",
    "outlier_mask = np.logical_not(inlier_mask)\n",
    "print(u'%.1f%% of houses identified as outliers' % (sum(outlier_mask)*100.0/(sum(outlier_mask)+sum(inlier_mask))))"
   ]
  },
  {
   "cell_type": "code",
   "execution_count": 26,
   "metadata": {
    "execution": {
     "iopub.execute_input": "2022-01-25T16:13:34.233128Z",
     "iopub.status.busy": "2022-01-25T16:13:34.232257Z",
     "iopub.status.idle": "2022-01-25T16:13:34.235745Z",
     "shell.execute_reply": "2022-01-25T16:13:34.236389Z",
     "shell.execute_reply.started": "2022-01-25T15:42:33.845443Z"
    },
    "papermill": {
     "duration": 0.058005,
     "end_time": "2022-01-25T16:13:34.236607",
     "exception": false,
     "start_time": "2022-01-25T16:13:34.178602",
     "status": "completed"
    },
    "tags": []
   },
   "outputs": [],
   "source": [
    "y_pred = regressor.predict(X)\n",
    "df_total[\"buy_predicted\"] = y"
   ]
  },
  {
   "cell_type": "code",
   "execution_count": 27,
   "metadata": {
    "execution": {
     "iopub.execute_input": "2022-01-25T16:13:34.394294Z",
     "iopub.status.busy": "2022-01-25T16:13:34.393679Z",
     "iopub.status.idle": "2022-01-25T16:13:34.396837Z",
     "shell.execute_reply": "2022-01-25T16:13:34.396353Z",
     "shell.execute_reply.started": "2022-01-25T15:42:34.454764Z"
    },
    "papermill": {
     "duration": 0.074554,
     "end_time": "2022-01-25T16:13:34.396950",
     "exception": false,
     "start_time": "2022-01-25T16:13:34.322396",
     "status": "completed"
    },
    "tags": []
   },
   "outputs": [],
   "source": [
    "r2_ransac = r2_score(y[inlier_mask], y_pred[inlier_mask])"
   ]
  },
  {
   "cell_type": "code",
   "execution_count": 28,
   "metadata": {
    "execution": {
     "iopub.execute_input": "2022-01-25T16:13:34.519744Z",
     "iopub.status.busy": "2022-01-25T16:13:34.518769Z",
     "iopub.status.idle": "2022-01-25T16:13:34.918959Z",
     "shell.execute_reply": "2022-01-25T16:13:34.919395Z",
     "shell.execute_reply.started": "2022-01-25T15:42:34.776828Z"
    },
    "papermill": {
     "duration": 0.47523,
     "end_time": "2022-01-25T16:13:34.919558",
     "exception": false,
     "start_time": "2022-01-25T16:13:34.444328",
     "status": "completed"
    },
    "tags": []
   },
   "outputs": [
    {
     "data": {
      "image/png": "[encoded data removed]",
      "text/plain": [
       "<Figure size 1080x720 with 1 Axes>"
      ]
     },
     "metadata": {
      "needs_background": "light"
     },
     "output_type": "display_data"
    }
   ],
   "source": [
    "fig, ax = plt.subplots(figsize=(15,10)) \n",
    "sns.regplot(df_total['price'][inlier_mask],\n",
    "            df_total['buy_predicted'][inlier_mask])\n",
    "plt.scatter(df_total['price'][outlier_mask],\n",
    "            df_total['buy_predicted'][outlier_mask],\n",
    "            alpha=0.4,\n",
    "            c='r')\n",
    "\n",
    "plt.title('Prediction of buy for Houses in Germany')\n",
    "plt.text(250, 2000, r'$R^2=%.2f$' % r2_ransac)\n",
    "plt.tight_layout()\n",
    "# plt.savefig('LinReg-rent-apartment.png', dpi=150)"
   ]
  },
  {
   "cell_type": "code",
   "execution_count": 29,
   "metadata": {
    "execution": {
     "iopub.execute_input": "2022-01-25T16:13:35.033376Z",
     "iopub.status.busy": "2022-01-25T16:13:35.023841Z",
     "iopub.status.idle": "2022-01-25T16:16:49.659830Z",
     "shell.execute_reply": "2022-01-25T16:16:49.659028Z"
    },
    "papermill": {
     "duration": 194.691192,
     "end_time": "2022-01-25T16:16:49.659973",
     "exception": false,
     "start_time": "2022-01-25T16:13:34.968781",
     "status": "completed"
    },
    "tags": []
   },
   "outputs": [
    {
     "data": {
      "application/vnd.jupyter.widget-view+json": {
       "model_id": "f07098b48fba4a4f84b2132364c4c232",
       "version_major": 2,
       "version_minor": 0
      },
      "text/plain": [
       "Optimization Progress:   0%|          | 0/120 [00:00<?, ?pipeline/s]"
      ]
     },
     "metadata": {},
     "output_type": "display_data"
    },
    {
     "name": "stdout",
     "output_type": "stream",
     "text": [
      "\n",
      "Generation 1 - Current best internal CV score: 0.7940190327022976\n",
      "\n",
      "Generation 2 - Current best internal CV score: 0.7949363975971269\n",
      "\n",
      "Generation 3 - Current best internal CV score: 0.8132674416275629\n",
      "\n",
      "Generation 4 - Current best internal CV score: 0.8132674416275629\n",
      "\n",
      "Generation 5 - Current best internal CV score: 0.8143041677838513\n",
      "\n",
      "Best pipeline: XGBRegressor(input_matrix, learning_rate=0.1, max_depth=8, min_child_weight=7, n_estimators=100, n_jobs=1, objective=reg:squarederror, subsample=0.7500000000000001, verbosity=0)\n",
      "0.9472338718284852\n"
     ]
    }
   ],
   "source": [
    "tpot = TPOTRegressor(generations=5, population_size=20, verbosity=2, scoring=\"r2\")\n",
    "tpot.fit(X, y)\n",
    "print(tpot.score(X, y))"
   ]
  },
  {
   "cell_type": "code",
   "execution_count": 30,
   "metadata": {
    "execution": {
     "iopub.execute_input": "2022-01-25T16:16:49.766555Z",
     "iopub.status.busy": "2022-01-25T16:16:49.765761Z",
     "iopub.status.idle": "2022-01-25T16:16:49.779108Z",
     "shell.execute_reply": "2022-01-25T16:16:49.779513Z"
    },
    "papermill": {
     "duration": 0.070218,
     "end_time": "2022-01-25T16:16:49.779666",
     "exception": false,
     "start_time": "2022-01-25T16:16:49.709448",
     "status": "completed"
    },
    "tags": []
   },
   "outputs": [
    {
     "data": {
      "text/plain": [
       "0.9472338718284852"
      ]
     },
     "execution_count": 30,
     "metadata": {},
     "output_type": "execute_result"
    }
   ],
   "source": [
    "y_pred = tpot.predict(X)\n",
    "r2_score(y, y_pred)"
   ]
  },
  {
   "cell_type": "code",
   "execution_count": null,
   "metadata": {
    "papermill": {
     "duration": 0.050742,
     "end_time": "2022-01-25T16:16:49.880676",
     "exception": false,
     "start_time": "2022-01-25T16:16:49.829934",
     "status": "completed"
    },
    "tags": []
   },
   "outputs": [],
   "source": []
  },
  {
   "cell_type": "markdown",
   "metadata": {
    "papermill": {
     "duration": 0.049986,
     "end_time": "2022-01-25T16:16:49.980700",
     "exception": false,
     "start_time": "2022-01-25T16:16:49.930714",
     "status": "completed"
    },
    "tags": []
   },
   "source": [
    "## Apartment Rent"
   ]
  },
  {
   "cell_type": "code",
   "execution_count": 31,
   "metadata": {
    "execution": {
     "iopub.execute_input": "2022-01-25T16:16:50.085568Z",
     "iopub.status.busy": "2022-01-25T16:16:50.085049Z",
     "iopub.status.idle": "2022-01-25T16:16:50.093538Z",
     "shell.execute_reply": "2022-01-25T16:16:50.093084Z",
     "shell.execute_reply.started": "2022-01-25T15:43:54.418701Z"
    },
    "papermill": {
     "duration": 0.062742,
     "end_time": "2022-01-25T16:16:50.093689",
     "exception": false,
     "start_time": "2022-01-25T16:16:50.030947",
     "status": "completed"
    },
    "tags": []
   },
   "outputs": [],
   "source": [
    "path = os.path.join(os.getcwd(), \"Data/Apartment/Rent/\")\n",
    "list_of_files = glob.glob(f\"{path}/*.csv\") "
   ]
  },
  {
   "cell_type": "code",
   "execution_count": 32,
   "metadata": {
    "execution": {
     "iopub.execute_input": "2022-01-25T16:16:50.203366Z",
     "iopub.status.busy": "2022-01-25T16:16:50.202812Z",
     "iopub.status.idle": "2022-01-25T16:16:51.060111Z",
     "shell.execute_reply": "2022-01-25T16:16:51.059606Z",
     "shell.execute_reply.started": "2022-01-25T15:43:55.992302Z"
    },
    "papermill": {
     "duration": 0.914912,
     "end_time": "2022-01-25T16:16:51.060244",
     "exception": false,
     "start_time": "2022-01-25T16:16:50.145332",
     "status": "completed"
    },
    "tags": []
   },
   "outputs": [],
   "source": [
    "list_df = []\n",
    "\n",
    "for filename in list_of_files:\n",
    "    df = pd.read_csv(filename, sep=\";\",index_col=None, header=0,usecols=[\"city\",\"postcode\",\"numberOfRooms\",\"livingSpace\",\"balcony\",\"builtInKitchen\",\"garden\",\"price\"])\n",
    "    df=df.sample(frac=1)\n",
    "    df=df[df['city']=='Berlin']\n",
    "    df['price']=df['price'].apply(lambda x: float(x.split(\" EUR\")[0]))\n",
    "    list_df.append(df)\n",
    "\n",
    "df_total = pd.concat(list_df, axis=0, ignore_index=True)"
   ]
  },
  {
   "cell_type": "code",
   "execution_count": 33,
   "metadata": {
    "execution": {
     "iopub.execute_input": "2022-01-25T16:16:51.173122Z",
     "iopub.status.busy": "2022-01-25T16:16:51.172187Z",
     "iopub.status.idle": "2022-01-25T16:16:51.179526Z",
     "shell.execute_reply": "2022-01-25T16:16:51.179104Z",
     "shell.execute_reply.started": "2022-01-25T15:43:56.952497Z"
    },
    "papermill": {
     "duration": 0.066225,
     "end_time": "2022-01-25T16:16:51.179677",
     "exception": false,
     "start_time": "2022-01-25T16:16:51.113452",
     "status": "completed"
    },
    "tags": []
   },
   "outputs": [],
   "source": [
    "for i in list(df_total.columns):\n",
    "    df_total=df_total[df_total[i]!=\"no value\"]"
   ]
  },
  {
   "cell_type": "code",
   "execution_count": 34,
   "metadata": {
    "execution": {
     "iopub.execute_input": "2022-01-25T16:16:51.285471Z",
     "iopub.status.busy": "2022-01-25T16:16:51.284733Z",
     "iopub.status.idle": "2022-01-25T16:16:51.290201Z",
     "shell.execute_reply": "2022-01-25T16:16:51.289789Z",
     "shell.execute_reply.started": "2022-01-25T15:43:58.614675Z"
    },
    "papermill": {
     "duration": 0.060138,
     "end_time": "2022-01-25T16:16:51.290313",
     "exception": false,
     "start_time": "2022-01-25T16:16:51.230175",
     "status": "completed"
    },
    "tags": []
   },
   "outputs": [],
   "source": [
    "hot_zip_test = pd.get_dummies(df_total.postcode)\n",
    "df_total.balcony = df_total.balcony.astype(int)\n",
    "df_total.garden = df_total.garden.astype(int)\n",
    "df_total.builtInKitchen = df_total.builtInKitchen.astype(int)"
   ]
  },
  {
   "cell_type": "code",
   "execution_count": 35,
   "metadata": {
    "execution": {
     "iopub.execute_input": "2022-01-25T16:16:51.394869Z",
     "iopub.status.busy": "2022-01-25T16:16:51.394039Z",
     "iopub.status.idle": "2022-01-25T16:16:51.398593Z",
     "shell.execute_reply": "2022-01-25T16:16:51.398182Z",
     "shell.execute_reply.started": "2022-01-25T15:44:02.511948Z"
    },
    "papermill": {
     "duration": 0.058704,
     "end_time": "2022-01-25T16:16:51.398715",
     "exception": false,
     "start_time": "2022-01-25T16:16:51.340011",
     "status": "completed"
    },
    "tags": []
   },
   "outputs": [],
   "source": [
    "X = pd.concat((df_total[[\"numberOfRooms\",\"livingSpace\",\"balcony\",\"builtInKitchen\",\"garden\"]], hot_zip_test), axis=1)\n",
    "y = df_total[[\"price\"]]\n"
   ]
  },
  {
   "cell_type": "code",
   "execution_count": 36,
   "metadata": {
    "execution": {
     "iopub.execute_input": "2022-01-25T16:16:51.509137Z",
     "iopub.status.busy": "2022-01-25T16:16:51.508278Z",
     "iopub.status.idle": "2022-01-25T16:16:51.550763Z",
     "shell.execute_reply": "2022-01-25T16:16:51.551615Z",
     "shell.execute_reply.started": "2022-01-25T15:44:06.169828Z"
    },
    "papermill": {
     "duration": 0.103482,
     "end_time": "2022-01-25T16:16:51.551858",
     "exception": false,
     "start_time": "2022-01-25T16:16:51.448376",
     "status": "completed"
    },
    "tags": []
   },
   "outputs": [
    {
     "data": {
      "text/plain": [
       "0.7576010804694424"
      ]
     },
     "execution_count": 36,
     "metadata": {},
     "output_type": "execute_result"
    }
   ],
   "source": [
    "# a simple linear model doesn't perform too well\n",
    "simple = linear_model.LinearRegression()\n",
    "simple.fit(X,y)\n",
    "y_pred = simple.predict(X)\n",
    "r2_score(y, y_pred)"
   ]
  },
  {
   "cell_type": "code",
   "execution_count": 37,
   "metadata": {
    "execution": {
     "iopub.execute_input": "2022-01-25T16:16:51.715866Z",
     "iopub.status.busy": "2022-01-25T16:16:51.715027Z",
     "iopub.status.idle": "2022-01-25T16:16:51.717000Z",
     "shell.execute_reply": "2022-01-25T16:16:51.717405Z",
     "shell.execute_reply.started": "2022-01-25T15:44:06.930082Z"
    },
    "papermill": {
     "duration": 0.068782,
     "end_time": "2022-01-25T16:16:51.717536",
     "exception": false,
     "start_time": "2022-01-25T16:16:51.648754",
     "status": "completed"
    },
    "tags": []
   },
   "outputs": [],
   "source": [
    "# Robustly fit linear model with RANSAC (RANdom SAmple Consensus) algorithm \n",
    "regressor = linear_model.RANSACRegressor(linear_model.LinearRegression())"
   ]
  },
  {
   "cell_type": "code",
   "execution_count": 38,
   "metadata": {
    "execution": {
     "iopub.execute_input": "2022-01-25T16:16:51.828065Z",
     "iopub.status.busy": "2022-01-25T16:16:51.827201Z",
     "iopub.status.idle": "2022-01-25T16:16:52.592433Z",
     "shell.execute_reply": "2022-01-25T16:16:52.591971Z",
     "shell.execute_reply.started": "2022-01-25T15:44:07.693871Z"
    },
    "papermill": {
     "duration": 0.824517,
     "end_time": "2022-01-25T16:16:52.592552",
     "exception": false,
     "start_time": "2022-01-25T16:16:51.768035",
     "status": "completed"
    },
    "tags": []
   },
   "outputs": [
    {
     "data": {
      "text/plain": [
       "RANSACRegressor(base_estimator=LinearRegression())"
      ]
     },
     "execution_count": 38,
     "metadata": {},
     "output_type": "execute_result"
    }
   ],
   "source": [
    "regressor.fit(X,y)"
   ]
  },
  {
   "cell_type": "code",
   "execution_count": 39,
   "metadata": {
    "execution": {
     "iopub.execute_input": "2022-01-25T16:16:52.776033Z",
     "iopub.status.busy": "2022-01-25T16:16:52.775309Z",
     "iopub.status.idle": "2022-01-25T16:16:52.778270Z",
     "shell.execute_reply": "2022-01-25T16:16:52.778691Z",
     "shell.execute_reply.started": "2022-01-25T15:44:18.217138Z"
    },
    "papermill": {
     "duration": 0.090915,
     "end_time": "2022-01-25T16:16:52.778830",
     "exception": false,
     "start_time": "2022-01-25T16:16:52.687915",
     "status": "completed"
    },
    "tags": []
   },
   "outputs": [
    {
     "name": "stdout",
     "output_type": "stream",
     "text": [
      "33.4% of apartments identified as outliers\n"
     ]
    }
   ],
   "source": [
    "inlier_mask = regressor.inlier_mask_\n",
    "outlier_mask = np.logical_not(inlier_mask)\n",
    "print(u'%.1f%% of apartments identified as outliers' % (sum(outlier_mask)*100.0/(sum(outlier_mask)+sum(inlier_mask))))"
   ]
  },
  {
   "cell_type": "code",
   "execution_count": 40,
   "metadata": {
    "execution": {
     "iopub.execute_input": "2022-01-25T16:16:52.887737Z",
     "iopub.status.busy": "2022-01-25T16:16:52.887175Z",
     "iopub.status.idle": "2022-01-25T16:16:52.894078Z",
     "shell.execute_reply": "2022-01-25T16:16:52.892977Z",
     "shell.execute_reply.started": "2022-01-25T15:44:18.926943Z"
    },
    "papermill": {
     "duration": 0.064938,
     "end_time": "2022-01-25T16:16:52.894266",
     "exception": false,
     "start_time": "2022-01-25T16:16:52.829328",
     "status": "completed"
    },
    "tags": []
   },
   "outputs": [],
   "source": [
    "y_pred = regressor.predict(X)\n",
    "df_total[\"rent_predicted\"] = y"
   ]
  },
  {
   "cell_type": "code",
   "execution_count": 41,
   "metadata": {
    "execution": {
     "iopub.execute_input": "2022-01-25T16:16:53.059914Z",
     "iopub.status.busy": "2022-01-25T16:16:53.059118Z",
     "iopub.status.idle": "2022-01-25T16:16:53.064154Z",
     "shell.execute_reply": "2022-01-25T16:16:53.063734Z",
     "shell.execute_reply.started": "2022-01-25T15:44:20.464407Z"
    },
    "papermill": {
     "duration": 0.075334,
     "end_time": "2022-01-25T16:16:53.064267",
     "exception": false,
     "start_time": "2022-01-25T16:16:52.988933",
     "status": "completed"
    },
    "tags": []
   },
   "outputs": [],
   "source": [
    "r2_ransac = r2_score(y[inlier_mask], y_pred[inlier_mask])"
   ]
  },
  {
   "cell_type": "code",
   "execution_count": 42,
   "metadata": {
    "execution": {
     "iopub.execute_input": "2022-01-25T16:16:53.174227Z",
     "iopub.status.busy": "2022-01-25T16:16:53.173692Z",
     "iopub.status.idle": "2022-01-25T16:16:53.621708Z",
     "shell.execute_reply": "2022-01-25T16:16:53.622150Z",
     "shell.execute_reply.started": "2022-01-25T15:44:27.792161Z"
    },
    "papermill": {
     "duration": 0.505847,
     "end_time": "2022-01-25T16:16:53.622312",
     "exception": false,
     "start_time": "2022-01-25T16:16:53.116465",
     "status": "completed"
    },
    "tags": []
   },
   "outputs": [
    {
     "data": {
      "image/png": "[encoded data removed]",
      "text/plain": [
       "<Figure size 1080x720 with 1 Axes>"
      ]
     },
     "metadata": {
      "needs_background": "light"
     },
     "output_type": "display_data"
    }
   ],
   "source": [
    "fig, ax = plt.subplots(figsize=(15,10)) \n",
    "sns.regplot(df_total['price'][inlier_mask],\n",
    "            df_total['rent_predicted'][inlier_mask])\n",
    "plt.scatter(df_total['price'][outlier_mask],\n",
    "            df_total['rent_predicted'][outlier_mask],\n",
    "            alpha=0.4,\n",
    "            c='r')\n",
    "\n",
    "plt.title('Prediction of rent for apartments in Germany')\n",
    "plt.text(250, 2000, r'$R^2=%.2f$' % r2_ransac)\n",
    "plt.tight_layout()\n",
    "# plt.savefig('LinReg-rent-apartment.png', dpi=150)"
   ]
  },
  {
   "cell_type": "code",
   "execution_count": 43,
   "metadata": {
    "execution": {
     "iopub.execute_input": "2022-01-25T16:16:53.743840Z",
     "iopub.status.busy": "2022-01-25T16:16:53.739431Z",
     "iopub.status.idle": "2022-01-25T16:33:40.649514Z",
     "shell.execute_reply": "2022-01-25T16:33:40.649092Z"
    },
    "papermill": {
     "duration": 1006.974452,
     "end_time": "2022-01-25T16:33:40.649669",
     "exception": false,
     "start_time": "2022-01-25T16:16:53.675217",
     "status": "completed"
    },
    "tags": []
   },
   "outputs": [
    {
     "data": {
      "application/vnd.jupyter.widget-view+json": {
       "model_id": "83c4a8d0f1584d2c9a937f711bff3dc3",
       "version_major": 2,
       "version_minor": 0
      },
      "text/plain": [
       "Optimization Progress:   0%|          | 0/120 [00:00<?, ?pipeline/s]"
      ]
     },
     "metadata": {},
     "output_type": "display_data"
    },
    {
     "name": "stdout",
     "output_type": "stream",
     "text": [
      "\n",
      "Generation 1 - Current best internal CV score: 0.7046660556623822\n",
      "\n",
      "Generation 2 - Current best internal CV score: 0.707820039634446\n",
      "\n",
      "Generation 3 - Current best internal CV score: 0.707820039634446\n",
      "\n",
      "Generation 4 - Current best internal CV score: 0.728696873198037\n",
      "\n",
      "Generation 5 - Current best internal CV score: 0.728696873198037\n",
      "\n",
      "Best pipeline: ExtraTreesRegressor(AdaBoostRegressor(input_matrix, learning_rate=0.01, loss=exponential, n_estimators=100), bootstrap=True, max_features=0.7500000000000001, min_samples_leaf=1, min_samples_split=8, n_estimators=100)\n",
      "0.9559230410677486\n"
     ]
    }
   ],
   "source": [
    "tpot = TPOTRegressor(generations=5, population_size=20, verbosity=2, scoring=\"r2\")\n",
    "tpot.fit(X, y)\n",
    "print(tpot.score(X, y))"
   ]
  },
  {
   "cell_type": "code",
   "execution_count": 44,
   "metadata": {
    "execution": {
     "iopub.execute_input": "2022-01-25T16:33:40.763628Z",
     "iopub.status.busy": "2022-01-25T16:33:40.762834Z",
     "iopub.status.idle": "2022-01-25T16:33:40.869066Z",
     "shell.execute_reply": "2022-01-25T16:33:40.868643Z"
    },
    "papermill": {
     "duration": 0.164807,
     "end_time": "2022-01-25T16:33:40.869181",
     "exception": false,
     "start_time": "2022-01-25T16:33:40.704374",
     "status": "completed"
    },
    "tags": []
   },
   "outputs": [
    {
     "data": {
      "text/plain": [
       "0.9559230410677486"
      ]
     },
     "execution_count": 44,
     "metadata": {},
     "output_type": "execute_result"
    }
   ],
   "source": [
    "y_pred = tpot.predict(X)\n",
    "r2_score(y, y_pred)"
   ]
  },
  {
   "cell_type": "code",
   "execution_count": null,
   "metadata": {
    "papermill": {
     "duration": 0.055951,
     "end_time": "2022-01-25T16:33:41.035334",
     "exception": false,
     "start_time": "2022-01-25T16:33:40.979383",
     "status": "completed"
    },
    "tags": []
   },
   "outputs": [],
   "source": []
  },
  {
   "cell_type": "markdown",
   "metadata": {
    "papermill": {
     "duration": 0.058436,
     "end_time": "2022-01-25T16:33:41.149894",
     "exception": false,
     "start_time": "2022-01-25T16:33:41.091458",
     "status": "completed"
    },
    "tags": []
   },
   "source": [
    "## House Buy"
   ]
  },
  {
   "cell_type": "code",
   "execution_count": 45,
   "metadata": {
    "execution": {
     "iopub.execute_input": "2022-01-25T16:33:41.268497Z",
     "iopub.status.busy": "2022-01-25T16:33:41.267927Z",
     "iopub.status.idle": "2022-01-25T16:33:41.276373Z",
     "shell.execute_reply": "2022-01-25T16:33:41.275976Z",
     "shell.execute_reply.started": "2022-01-25T15:45:01.661866Z"
    },
    "papermill": {
     "duration": 0.068606,
     "end_time": "2022-01-25T16:33:41.276481",
     "exception": false,
     "start_time": "2022-01-25T16:33:41.207875",
     "status": "completed"
    },
    "tags": []
   },
   "outputs": [],
   "source": [
    "path = os.path.join(os.getcwd(), \"Data/House/Rent/\")\n",
    "list_of_files = glob.glob(f\"{path}/*.csv\") "
   ]
  },
  {
   "cell_type": "code",
   "execution_count": 46,
   "metadata": {
    "execution": {
     "iopub.execute_input": "2022-01-25T16:33:41.392499Z",
     "iopub.status.busy": "2022-01-25T16:33:41.391983Z",
     "iopub.status.idle": "2022-01-25T16:33:41.495473Z",
     "shell.execute_reply": "2022-01-25T16:33:41.495028Z",
     "shell.execute_reply.started": "2022-01-25T15:45:10.187150Z"
    },
    "papermill": {
     "duration": 0.163696,
     "end_time": "2022-01-25T16:33:41.495605",
     "exception": false,
     "start_time": "2022-01-25T16:33:41.331909",
     "status": "completed"
    },
    "tags": []
   },
   "outputs": [],
   "source": [
    "list_df = []\n",
    "\n",
    "for filename in list_of_files:\n",
    "    df = pd.read_csv(filename, sep=\";\",index_col=None, header=0,usecols=[\"city\",\"postcode\",\"numberOfRooms\",\"livingSpace\",\"price\"])\n",
    "    df=df.sample(frac=1)\n",
    "    df=df[df['city']=='Berlin']\n",
    "    df['price']=df['price'].apply(lambda x: float(x.split(\" EUR\")[0]))\n",
    "    list_df.append(df)\n",
    "\n",
    "df_total = pd.concat(list_df, axis=0, ignore_index=True)"
   ]
  },
  {
   "cell_type": "code",
   "execution_count": 47,
   "metadata": {
    "execution": {
     "iopub.execute_input": "2022-01-25T16:33:41.613912Z",
     "iopub.status.busy": "2022-01-25T16:33:41.612358Z",
     "iopub.status.idle": "2022-01-25T16:33:41.614540Z",
     "shell.execute_reply": "2022-01-25T16:33:41.614983Z",
     "shell.execute_reply.started": "2022-01-25T15:45:11.967335Z"
    },
    "papermill": {
     "duration": 0.064737,
     "end_time": "2022-01-25T16:33:41.615113",
     "exception": false,
     "start_time": "2022-01-25T16:33:41.550376",
     "status": "completed"
    },
    "tags": []
   },
   "outputs": [],
   "source": [
    "for i in list(df_total.columns):\n",
    "    df_total=df_total[df_total[i]!=\"no value\"]"
   ]
  },
  {
   "cell_type": "code",
   "execution_count": 48,
   "metadata": {
    "execution": {
     "iopub.execute_input": "2022-01-25T16:33:41.730416Z",
     "iopub.status.busy": "2022-01-25T16:33:41.728872Z",
     "iopub.status.idle": "2022-01-25T16:33:41.731066Z",
     "shell.execute_reply": "2022-01-25T16:33:41.731461Z",
     "shell.execute_reply.started": "2022-01-25T15:45:15.311374Z"
    },
    "papermill": {
     "duration": 0.061584,
     "end_time": "2022-01-25T16:33:41.731592",
     "exception": false,
     "start_time": "2022-01-25T16:33:41.670008",
     "status": "completed"
    },
    "tags": []
   },
   "outputs": [],
   "source": [
    "hot_zip_test = pd.get_dummies(df_total.postcode)"
   ]
  },
  {
   "cell_type": "code",
   "execution_count": 49,
   "metadata": {
    "execution": {
     "iopub.execute_input": "2022-01-25T16:33:41.847227Z",
     "iopub.status.busy": "2022-01-25T16:33:41.846430Z",
     "iopub.status.idle": "2022-01-25T16:33:41.848857Z",
     "shell.execute_reply": "2022-01-25T16:33:41.848415Z",
     "shell.execute_reply.started": "2022-01-25T15:45:20.024409Z"
    },
    "papermill": {
     "duration": 0.062556,
     "end_time": "2022-01-25T16:33:41.848967",
     "exception": false,
     "start_time": "2022-01-25T16:33:41.786411",
     "status": "completed"
    },
    "tags": []
   },
   "outputs": [],
   "source": [
    "X = pd.concat((df_total[[\"numberOfRooms\",\"livingSpace\"]], hot_zip_test), axis=1)\n",
    "y = df_total[[\"price\"]]\n"
   ]
  },
  {
   "cell_type": "code",
   "execution_count": 50,
   "metadata": {
    "execution": {
     "iopub.execute_input": "2022-01-25T16:33:41.970249Z",
     "iopub.status.busy": "2022-01-25T16:33:41.964979Z",
     "iopub.status.idle": "2022-01-25T16:33:41.972761Z",
     "shell.execute_reply": "2022-01-25T16:33:41.973295Z",
     "shell.execute_reply.started": "2022-01-25T15:45:20.771633Z"
    },
    "papermill": {
     "duration": 0.069643,
     "end_time": "2022-01-25T16:33:41.973420",
     "exception": false,
     "start_time": "2022-01-25T16:33:41.903777",
     "status": "completed"
    },
    "tags": []
   },
   "outputs": [
    {
     "data": {
      "text/plain": [
       "0.8509852290615827"
      ]
     },
     "execution_count": 50,
     "metadata": {},
     "output_type": "execute_result"
    }
   ],
   "source": [
    "# a simple linear model doesn't perform too well\n",
    "simple = linear_model.LinearRegression()\n",
    "simple.fit(X,y)\n",
    "y_pred = simple.predict(X)\n",
    "r2_score(y, y_pred)"
   ]
  },
  {
   "cell_type": "code",
   "execution_count": 51,
   "metadata": {
    "execution": {
     "iopub.execute_input": "2022-01-25T16:33:42.088632Z",
     "iopub.status.busy": "2022-01-25T16:33:42.087760Z",
     "iopub.status.idle": "2022-01-25T16:33:42.090338Z",
     "shell.execute_reply": "2022-01-25T16:33:42.089906Z",
     "shell.execute_reply.started": "2022-01-25T15:45:22.569630Z"
    },
    "papermill": {
     "duration": 0.061264,
     "end_time": "2022-01-25T16:33:42.090450",
     "exception": false,
     "start_time": "2022-01-25T16:33:42.029186",
     "status": "completed"
    },
    "tags": []
   },
   "outputs": [],
   "source": [
    "# Robustly fit linear model with RANSAC (RANdom SAmple Consensus) algorithm \n",
    "regressor = linear_model.RANSACRegressor(linear_model.LinearRegression())"
   ]
  },
  {
   "cell_type": "code",
   "execution_count": 52,
   "metadata": {
    "execution": {
     "iopub.execute_input": "2022-01-25T16:33:42.215134Z",
     "iopub.status.busy": "2022-01-25T16:33:42.214150Z",
     "iopub.status.idle": "2022-01-25T16:33:42.298973Z",
     "shell.execute_reply": "2022-01-25T16:33:42.298507Z",
     "shell.execute_reply.started": "2022-01-25T15:45:24.457015Z"
    },
    "papermill": {
     "duration": 0.149602,
     "end_time": "2022-01-25T16:33:42.299088",
     "exception": false,
     "start_time": "2022-01-25T16:33:42.149486",
     "status": "completed"
    },
    "tags": []
   },
   "outputs": [
    {
     "data": {
      "text/plain": [
       "RANSACRegressor(base_estimator=LinearRegression())"
      ]
     },
     "execution_count": 52,
     "metadata": {},
     "output_type": "execute_result"
    }
   ],
   "source": [
    "regressor.fit(X,y)"
   ]
  },
  {
   "cell_type": "code",
   "execution_count": 53,
   "metadata": {
    "execution": {
     "iopub.execute_input": "2022-01-25T16:33:42.417380Z",
     "iopub.status.busy": "2022-01-25T16:33:42.416784Z",
     "iopub.status.idle": "2022-01-25T16:33:42.419360Z",
     "shell.execute_reply": "2022-01-25T16:33:42.419912Z",
     "shell.execute_reply.started": "2022-01-25T15:45:25.009175Z"
    },
    "papermill": {
     "duration": 0.06434,
     "end_time": "2022-01-25T16:33:42.420033",
     "exception": false,
     "start_time": "2022-01-25T16:33:42.355693",
     "status": "completed"
    },
    "tags": []
   },
   "outputs": [
    {
     "name": "stdout",
     "output_type": "stream",
     "text": [
      "14.9% of apartments identified as outliers\n"
     ]
    }
   ],
   "source": [
    "inlier_mask = regressor.inlier_mask_\n",
    "outlier_mask = np.logical_not(inlier_mask)\n",
    "print(u'%.1f%% of apartments identified as outliers' % (sum(outlier_mask)*100.0/(sum(outlier_mask)+sum(inlier_mask))))"
   ]
  },
  {
   "cell_type": "code",
   "execution_count": 54,
   "metadata": {
    "execution": {
     "iopub.execute_input": "2022-01-25T16:33:42.537501Z",
     "iopub.status.busy": "2022-01-25T16:33:42.536925Z",
     "iopub.status.idle": "2022-01-25T16:33:42.539614Z",
     "shell.execute_reply": "2022-01-25T16:33:42.539162Z",
     "shell.execute_reply.started": "2022-01-25T15:45:26.366520Z"
    },
    "papermill": {
     "duration": 0.064067,
     "end_time": "2022-01-25T16:33:42.539723",
     "exception": false,
     "start_time": "2022-01-25T16:33:42.475656",
     "status": "completed"
    },
    "tags": []
   },
   "outputs": [],
   "source": [
    "y_pred = regressor.predict(X)\n",
    "df_total[\"rent_predicted\"] = y"
   ]
  },
  {
   "cell_type": "code",
   "execution_count": 55,
   "metadata": {
    "execution": {
     "iopub.execute_input": "2022-01-25T16:33:42.656330Z",
     "iopub.status.busy": "2022-01-25T16:33:42.655429Z",
     "iopub.status.idle": "2022-01-25T16:33:42.659977Z",
     "shell.execute_reply": "2022-01-25T16:33:42.659525Z",
     "shell.execute_reply.started": "2022-01-25T15:45:27.682146Z"
    },
    "papermill": {
     "duration": 0.063863,
     "end_time": "2022-01-25T16:33:42.660089",
     "exception": false,
     "start_time": "2022-01-25T16:33:42.596226",
     "status": "completed"
    },
    "tags": []
   },
   "outputs": [],
   "source": [
    "r2_ransac = r2_score(y[inlier_mask], y_pred[inlier_mask])"
   ]
  },
  {
   "cell_type": "code",
   "execution_count": 56,
   "metadata": {
    "execution": {
     "iopub.execute_input": "2022-01-25T16:33:42.798437Z",
     "iopub.status.busy": "2022-01-25T16:33:42.786508Z",
     "iopub.status.idle": "2022-01-25T16:33:43.199179Z",
     "shell.execute_reply": "2022-01-25T16:33:43.199607Z",
     "shell.execute_reply.started": "2022-01-25T15:45:29.331089Z"
    },
    "papermill": {
     "duration": 0.483558,
     "end_time": "2022-01-25T16:33:43.199755",
     "exception": false,
     "start_time": "2022-01-25T16:33:42.716197",
     "status": "completed"
    },
    "tags": []
   },
   "outputs": [
    {
     "data": {
      "image/png": "[encoded data removed]",
      "text/plain": [
       "<Figure size 1080x720 with 1 Axes>"
      ]
     },
     "metadata": {
      "needs_background": "light"
     },
     "output_type": "display_data"
    }
   ],
   "source": [
    "fig, ax = plt.subplots(figsize=(15,10)) \n",
    "sns.regplot(df_total['price'][inlier_mask],\n",
    "            df_total['rent_predicted'][inlier_mask])\n",
    "plt.scatter(df_total['price'][outlier_mask],\n",
    "            df_total['rent_predicted'][outlier_mask],\n",
    "            alpha=0.4,\n",
    "            c='r')\n",
    "\n",
    "plt.title('Prediction of rent for houses in Germany')\n",
    "plt.text(250, 2000, r'$R^2=%.2f$' % r2_ransac)\n",
    "plt.tight_layout()\n",
    "# plt.savefig('LinReg-rent-apartment.png', dpi=150)"
   ]
  },
  {
   "cell_type": "code",
   "execution_count": 57,
   "metadata": {
    "execution": {
     "iopub.execute_input": "2022-01-25T16:33:43.335328Z",
     "iopub.status.busy": "2022-01-25T16:33:43.327663Z",
     "iopub.status.idle": "2022-01-25T16:34:35.051999Z",
     "shell.execute_reply": "2022-01-25T16:34:35.052417Z"
    },
    "papermill": {
     "duration": 51.795553,
     "end_time": "2022-01-25T16:34:35.052577",
     "exception": false,
     "start_time": "2022-01-25T16:33:43.257024",
     "status": "completed"
    },
    "tags": []
   },
   "outputs": [
    {
     "data": {
      "application/vnd.jupyter.widget-view+json": {
       "model_id": "e5636a13e5234c84a4fdad8aeca35838",
       "version_major": 2,
       "version_minor": 0
      },
      "text/plain": [
       "Optimization Progress:   0%|          | 0/120 [00:00<?, ?pipeline/s]"
      ]
     },
     "metadata": {},
     "output_type": "display_data"
    },
    {
     "name": "stdout",
     "output_type": "stream",
     "text": [
      "\n",
      "Generation 1 - Current best internal CV score: 0.7184328540821535\n",
      "\n",
      "Generation 2 - Current best internal CV score: 0.7196646055178023\n",
      "\n",
      "Generation 3 - Current best internal CV score: 0.7196646055178023\n",
      "\n",
      "Generation 4 - Current best internal CV score: 0.7196646055178023\n",
      "\n",
      "Generation 5 - Current best internal CV score: 0.7196646055178023\n",
      "\n",
      "Best pipeline: KNeighborsRegressor(SelectPercentile(input_matrix, percentile=72), n_neighbors=7, p=2, weights=distance)\n",
      "0.9999907856004304\n"
     ]
    }
   ],
   "source": [
    "tpot = TPOTRegressor(generations=5, population_size=20, verbosity=2, scoring=\"r2\")\n",
    "tpot.fit(X, y)\n",
    "print(tpot.score(X, y))"
   ]
  },
  {
   "cell_type": "code",
   "execution_count": 58,
   "metadata": {
    "execution": {
     "iopub.execute_input": "2022-01-25T16:34:35.178190Z",
     "iopub.status.busy": "2022-01-25T16:34:35.174631Z",
     "iopub.status.idle": "2022-01-25T16:34:35.184773Z",
     "shell.execute_reply": "2022-01-25T16:34:35.185314Z"
    },
    "papermill": {
     "duration": 0.07299,
     "end_time": "2022-01-25T16:34:35.185469",
     "exception": false,
     "start_time": "2022-01-25T16:34:35.112479",
     "status": "completed"
    },
    "tags": []
   },
   "outputs": [
    {
     "data": {
      "text/plain": [
       "0.9999907856004304"
      ]
     },
     "execution_count": 58,
     "metadata": {},
     "output_type": "execute_result"
    }
   ],
   "source": [
    "y_pred = tpot.predict(X)\n",
    "r2_score(y, y_pred)"
   ]
  }
 ],
 "metadata": {
  "kernelspec": {
   "display_name": "Python 3",
   "language": "python",
   "name": "python3"
  },
  "language_info": {
   "codemirror_mode": {
    "name": "ipython",
    "version": 3
   },
   "file_extension": ".py",
   "mimetype": "text/x-python",
   "name": "python",
   "nbconvert_exporter": "python",
   "pygments_lexer": "ipython3",
   "version": "3.7.3"
  },
  "papermill": {
   "default_parameters": {},
   "duration": 2895.333925,
   "end_time": "2022-01-25T16:34:36.795541",
   "environment_variables": {},
   "exception": null,
   "input_path": "__notebook__.ipynb",
   "output_path": "__notebook__.ipynb",
   "parameters": {},
   "start_time": "2022-01-25T15:46:21.461616",
   "version": "2.3.3"
  },
  "widgets": {
   "application/vnd.jupyter.widget-state+json": {
    "state": {
     "020814fc0c6c4c82b7ee44fcc0f2d1bb": {
      "model_module": "@jupyter-widgets/controls",
      "model_module_version": "1.5.0",
      "model_name": "DescriptionStyleModel",
      "state": {
       "_model_module": "@jupyter-widgets/controls",
       "_model_module_version": "1.5.0",
       "_model_name": "DescriptionStyleModel",
       "_view_count": null,
       "_view_module": "@jupyter-widgets/base",
       "_view_module_version": "1.2.0",
       "_view_name": "StyleView",
       "description_width": ""
      }
     },
     "0674d095d2db417d90f9a0f4cf772b9b": {
      "model_module": "@jupyter-widgets/base",
      "model_module_version": "1.2.0",
      "model_name": "LayoutModel",
      "state": {
       "_model_module": "@jupyter-widgets/base",
       "_model_module_version": "1.2.0",
       "_model_name": "LayoutModel",
       "_view_count": null,
       "_view_module": "@jupyter-widgets/base",
       "_view_module_version": "1.2.0",
       "_view_name": "LayoutView",
       "align_content": null,
       "align_items": null,
       "align_self": null,
       "border": null,
       "bottom": null,
       "display": null,
       "flex": null,
       "flex_flow": null,
       "grid_area": null,
       "grid_auto_columns": null,
       "grid_auto_flow": null,
       "grid_auto_rows": null,
       "grid_column": null,
       "grid_gap": null,
       "grid_row": null,
       "grid_template_areas": null,
       "grid_template_columns": null,
       "grid_template_rows": null,
       "height": null,
       "justify_content": null,
       "justify_items": null,
       "left": null,
       "margin": null,
       "max_height": null,
       "max_width": null,
       "min_height": null,
       "min_width": null,
       "object_fit": null,
       "object_position": null,
       "order": null,
       "overflow": null,
       "overflow_x": null,
       "overflow_y": null,
       "padding": null,
       "right": null,
       "top": null,
       "visibility": null,
       "width": null
      }
     },
     "134df30689794080a269b0c6478ea6e0": {
      "model_module": "@jupyter-widgets/base",
      "model_module_version": "1.2.0",
      "model_name": "LayoutModel",
      "state": {
       "_model_module": "@jupyter-widgets/base",
       "_model_module_version": "1.2.0",
       "_model_name": "LayoutModel",
       "_view_count": null,
       "_view_module": "@jupyter-widgets/base",
       "_view_module_version": "1.2.0",
       "_view_name": "LayoutView",
       "align_content": null,
       "align_items": null,
       "align_self": null,
       "border": null,
       "bottom": null,
       "display": null,
       "flex": null,
       "flex_flow": null,
       "grid_area": null,
       "grid_auto_columns": null,
       "grid_auto_flow": null,
       "grid_auto_rows": null,
       "grid_column": null,
       "grid_gap": null,
       "grid_row": null,
       "grid_template_areas": null,
       "grid_template_columns": null,
       "grid_template_rows": null,
       "height": null,
       "justify_content": null,
       "justify_items": null,
       "left": null,
       "margin": null,
       "max_height": null,
       "max_width": null,
       "min_height": null,
       "min_width": null,
       "object_fit": null,
       "object_position": null,
       "order": null,
       "overflow": null,
       "overflow_x": null,
       "overflow_y": null,
       "padding": null,
       "right": null,
       "top": null,
       "visibility": null,
       "width": null
      }
     },
     "1521a7add4fe4eb28ee76aa697d3c763": {
      "model_module": "@jupyter-widgets/controls",
      "model_module_version": "1.5.0",
      "model_name": "DescriptionStyleModel",
      "state": {
       "_model_module": "@jupyter-widgets/controls",
       "_model_module_version": "1.5.0",
       "_model_name": "DescriptionStyleModel",
       "_view_count": null,
       "_view_module": "@jupyter-widgets/base",
       "_view_module_version": "1.2.0",
       "_view_name": "StyleView",
       "description_width": ""
      }
     },
     "216ceb140d8347f1a5a22e958aa50309": {
      "model_module": "@jupyter-widgets/controls",
      "model_module_version": "1.5.0",
      "model_name": "HTMLModel",
      "state": {
       "_dom_classes": [],
       "_model_module": "@jupyter-widgets/controls",
       "_model_module_version": "1.5.0",
       "_model_name": "HTMLModel",
       "_view_count": null,
       "_view_module": "@jupyter-widgets/controls",
       "_view_module_version": "1.5.0",
       "_view_name": "HTMLView",
       "description": "",
       "description_tooltip": null,
       "layout": "IPY_MODEL_0674d095d2db417d90f9a0f4cf772b9b",
       "placeholder": "​",
       "style": "IPY_MODEL_fb85553422a043048a3a36f4b7848618",
       "value": " 120/120 [00:50&lt;00:00,  1.72pipeline/s]"
      }
     },
     "284ee417458e4e65b944db56200a776f": {
      "model_module": "@jupyter-widgets/controls",
      "model_module_version": "1.5.0",
      "model_name": "ProgressStyleModel",
      "state": {
       "_model_module": "@jupyter-widgets/controls",
       "_model_module_version": "1.5.0",
       "_model_name": "ProgressStyleModel",
       "_view_count": null,
       "_view_module": "@jupyter-widgets/base",
       "_view_module_version": "1.2.0",
       "_view_name": "StyleView",
       "bar_color": null,
       "description_width": ""
      }
     },
     "29bed70d5e294e09b27a2dbbeffea4e2": {
      "model_module": "@jupyter-widgets/base",
      "model_module_version": "1.2.0",
      "model_name": "LayoutModel",
      "state": {
       "_model_module": "@jupyter-widgets/base",
       "_model_module_version": "1.2.0",
       "_model_name": "LayoutModel",
       "_view_count": null,
       "_view_module": "@jupyter-widgets/base",
       "_view_module_version": "1.2.0",
       "_view_name": "LayoutView",
       "align_content": null,
       "align_items": null,
       "align_self": null,
       "border": null,
       "bottom": null,
       "display": null,
       "flex": null,
       "flex_flow": null,
       "grid_area": null,
       "grid_auto_columns": null,
       "grid_auto_flow": null,
       "grid_auto_rows": null,
       "grid_column": null,
       "grid_gap": null,
       "grid_row": null,
       "grid_template_areas": null,
       "grid_template_columns": null,
       "grid_template_rows": null,
       "height": null,
       "justify_content": null,
       "justify_items": null,
       "left": null,
       "margin": null,
       "max_height": null,
       "max_width": null,
       "min_height": null,
       "min_width": null,
       "object_fit": null,
       "object_position": null,
       "order": null,
       "overflow": null,
       "overflow_x": null,
       "overflow_y": null,
       "padding": null,
       "right": null,
       "top": null,
       "visibility": null,
       "width": null
      }
     },
     "33599fd85c1a44d1baf559c5d064a2c6": {
      "model_module": "@jupyter-widgets/controls",
      "model_module_version": "1.5.0",
      "model_name": "DescriptionStyleModel",
      "state": {
       "_model_module": "@jupyter-widgets/controls",
       "_model_module_version": "1.5.0",
       "_model_name": "DescriptionStyleModel",
       "_view_count": null,
       "_view_module": "@jupyter-widgets/base",
       "_view_module_version": "1.2.0",
       "_view_name": "StyleView",
       "description_width": ""
      }
     },
     "37294734a9694950a6a4826424450fcd": {
      "model_module": "@jupyter-widgets/base",
      "model_module_version": "1.2.0",
      "model_name": "LayoutModel",
      "state": {
       "_model_module": "@jupyter-widgets/base",
       "_model_module_version": "1.2.0",
       "_model_name": "LayoutModel",
       "_view_count": null,
       "_view_module": "@jupyter-widgets/base",
       "_view_module_version": "1.2.0",
       "_view_name": "LayoutView",
       "align_content": null,
       "align_items": null,
       "align_self": null,
       "border": null,
       "bottom": null,
       "display": null,
       "flex": null,
       "flex_flow": null,
       "grid_area": null,
       "grid_auto_columns": null,
       "grid_auto_flow": null,
       "grid_auto_rows": null,
       "grid_column": null,
       "grid_gap": null,
       "grid_row": null,
       "grid_template_areas": null,
       "grid_template_columns": null,
       "grid_template_rows": null,
       "height": null,
       "justify_content": null,
       "justify_items": null,
       "left": null,
       "margin": null,
       "max_height": null,
       "max_width": null,
       "min_height": null,
       "min_width": null,
       "object_fit": null,
       "object_position": null,
       "order": null,
       "overflow": null,
       "overflow_x": null,
       "overflow_y": null,
       "padding": null,
       "right": null,
       "top": null,
       "visibility": null,
       "width": null
      }
     },
     "37ab1a72e8b84013b9321f35312c98ac": {
      "model_module": "@jupyter-widgets/base",
      "model_module_version": "1.2.0",
      "model_name": "LayoutModel",
      "state": {
       "_model_module": "@jupyter-widgets/base",
       "_model_module_version": "1.2.0",
       "_model_name": "LayoutModel",
       "_view_count": null,
       "_view_module": "@jupyter-widgets/base",
       "_view_module_version": "1.2.0",
       "_view_name": "LayoutView",
       "align_content": null,
       "align_items": null,
       "align_self": null,
       "border": null,
       "bottom": null,
       "display": null,
       "flex": null,
       "flex_flow": null,
       "grid_area": null,
       "grid_auto_columns": null,
       "grid_auto_flow": null,
       "grid_auto_rows": null,
       "grid_column": null,
       "grid_gap": null,
       "grid_row": null,
       "grid_template_areas": null,
       "grid_template_columns": null,
       "grid_template_rows": null,
       "height": null,
       "justify_content": null,
       "justify_items": null,
       "left": null,
       "margin": null,
       "max_height": null,
       "max_width": null,
       "min_height": null,
       "min_width": null,
       "object_fit": null,
       "object_position": null,
       "order": null,
       "overflow": null,
       "overflow_x": null,
       "overflow_y": null,
       "padding": null,
       "right": null,
       "top": null,
       "visibility": null,
       "width": null
      }
     },
     "3cc2967a5d0a45228f786a3fc9ebcedc": {
      "model_module": "@jupyter-widgets/base",
      "model_module_version": "1.2.0",
      "model_name": "LayoutModel",
      "state": {
       "_model_module": "@jupyter-widgets/base",
       "_model_module_version": "1.2.0",
       "_model_name": "LayoutModel",
       "_view_count": null,
       "_view_module": "@jupyter-widgets/base",
       "_view_module_version": "1.2.0",
       "_view_name": "LayoutView",
       "align_content": null,
       "align_items": null,
       "align_self": null,
       "border": null,
       "bottom": null,
       "display": null,
       "flex": null,
       "flex_flow": null,
       "grid_area": null,
       "grid_auto_columns": null,
       "grid_auto_flow": null,
       "grid_auto_rows": null,
       "grid_column": null,
       "grid_gap": null,
       "grid_row": null,
       "grid_template_areas": null,
       "grid_template_columns": null,
       "grid_template_rows": null,
       "height": null,
       "justify_content": null,
       "justify_items": null,
       "left": null,
       "margin": null,
       "max_height": null,
       "max_width": null,
       "min_height": null,
       "min_width": null,
       "object_fit": null,
       "object_position": null,
       "order": null,
       "overflow": null,
       "overflow_x": null,
       "overflow_y": null,
       "padding": null,
       "right": null,
       "top": null,
       "visibility": null,
       "width": null
      }
     },
     "5251e3c97b984c1baefb6328db6bc6f6": {
      "model_module": "@jupyter-widgets/base",
      "model_module_version": "1.2.0",
      "model_name": "LayoutModel",
      "state": {
       "_model_module": "@jupyter-widgets/base",
       "_model_module_version": "1.2.0",
       "_model_name": "LayoutModel",
       "_view_count": null,
       "_view_module": "@jupyter-widgets/base",
       "_view_module_version": "1.2.0",
       "_view_name": "LayoutView",
       "align_content": null,
       "align_items": null,
       "align_self": null,
       "border": null,
       "bottom": null,
       "display": null,
       "flex": null,
       "flex_flow": null,
       "grid_area": null,
       "grid_auto_columns": null,
       "grid_auto_flow": null,
       "grid_auto_rows": null,
       "grid_column": null,
       "grid_gap": null,
       "grid_row": null,
       "grid_template_areas": null,
       "grid_template_columns": null,
       "grid_template_rows": null,
       "height": null,
       "justify_content": null,
       "justify_items": null,
       "left": null,
       "margin": null,
       "max_height": null,
       "max_width": null,
       "min_height": null,
       "min_width": null,
       "object_fit": null,
       "object_position": null,
       "order": null,
       "overflow": null,
       "overflow_x": null,
       "overflow_y": null,
       "padding": null,
       "right": null,
       "top": null,
       "visibility": null,
       "width": null
      }
     },
     "52ef44daeca5406ba7cb601c6db2a57f": {
      "model_module": "@jupyter-widgets/base",
      "model_module_version": "1.2.0",
      "model_name": "LayoutModel",
      "state": {
       "_model_module": "@jupyter-widgets/base",
       "_model_module_version": "1.2.0",
       "_model_name": "LayoutModel",
       "_view_count": null,
       "_view_module": "@jupyter-widgets/base",
       "_view_module_version": "1.2.0",
       "_view_name": "LayoutView",
       "align_content": null,
       "align_items": null,
       "align_self": null,
       "border": null,
       "bottom": null,
       "display": null,
       "flex": null,
       "flex_flow": null,
       "grid_area": null,
       "grid_auto_columns": null,
       "grid_auto_flow": null,
       "grid_auto_rows": null,
       "grid_column": null,
       "grid_gap": null,
       "grid_row": null,
       "grid_template_areas": null,
       "grid_template_columns": null,
       "grid_template_rows": null,
       "height": null,
       "justify_content": null,
       "justify_items": null,
       "left": null,
       "margin": null,
       "max_height": null,
       "max_width": null,
       "min_height": null,
       "min_width": null,
       "object_fit": null,
       "object_position": null,
       "order": null,
       "overflow": null,
       "overflow_x": null,
       "overflow_y": null,
       "padding": null,
       "right": null,
       "top": null,
       "visibility": null,
       "width": null
      }
     },
     "555eee81ddfd4218ae35b0665cbc63f3": {
      "model_module": "@jupyter-widgets/base",
      "model_module_version": "1.2.0",
      "model_name": "LayoutModel",
      "state": {
       "_model_module": "@jupyter-widgets/base",
       "_model_module_version": "1.2.0",
       "_model_name": "LayoutModel",
       "_view_count": null,
       "_view_module": "@jupyter-widgets/base",
       "_view_module_version": "1.2.0",
       "_view_name": "LayoutView",
       "align_content": null,
       "align_items": null,
       "align_self": null,
       "border": null,
       "bottom": null,
       "display": null,
       "flex": null,
       "flex_flow": null,
       "grid_area": null,
       "grid_auto_columns": null,
       "grid_auto_flow": null,
       "grid_auto_rows": null,
       "grid_column": null,
       "grid_gap": null,
       "grid_row": null,
       "grid_template_areas": null,
       "grid_template_columns": null,
       "grid_template_rows": null,
       "height": null,
       "justify_content": null,
       "justify_items": null,
       "left": null,
       "margin": null,
       "max_height": null,
       "max_width": null,
       "min_height": null,
       "min_width": null,
       "object_fit": null,
       "object_position": null,
       "order": null,
       "overflow": null,
       "overflow_x": null,
       "overflow_y": null,
       "padding": null,
       "right": null,
       "top": null,
       "visibility": null,
       "width": null
      }
     },
     "5813426b6f93403abd39076ad0d4928e": {
      "model_module": "@jupyter-widgets/controls",
      "model_module_version": "1.5.0",
      "model_name": "DescriptionStyleModel",
      "state": {
       "_model_module": "@jupyter-widgets/controls",
       "_model_module_version": "1.5.0",
       "_model_name": "DescriptionStyleModel",
       "_view_count": null,
       "_view_module": "@jupyter-widgets/base",
       "_view_module_version": "1.2.0",
       "_view_name": "StyleView",
       "description_width": ""
      }
     },
     "6a830fa1de3b43bb8ce1aec70b60ce43": {
      "model_module": "@jupyter-widgets/base",
      "model_module_version": "1.2.0",
      "model_name": "LayoutModel",
      "state": {
       "_model_module": "@jupyter-widgets/base",
       "_model_module_version": "1.2.0",
       "_model_name": "LayoutModel",
       "_view_count": null,
       "_view_module": "@jupyter-widgets/base",
       "_view_module_version": "1.2.0",
       "_view_name": "LayoutView",
       "align_content": null,
       "align_items": null,
       "align_self": null,
       "border": null,
       "bottom": null,
       "display": null,
       "flex": null,
       "flex_flow": null,
       "grid_area": null,
       "grid_auto_columns": null,
       "grid_auto_flow": null,
       "grid_auto_rows": null,
       "grid_column": null,
       "grid_gap": null,
       "grid_row": null,
       "grid_template_areas": null,
       "grid_template_columns": null,
       "grid_template_rows": null,
       "height": null,
       "justify_content": null,
       "justify_items": null,
       "left": null,
       "margin": null,
       "max_height": null,
       "max_width": null,
       "min_height": null,
       "min_width": null,
       "object_fit": null,
       "object_position": null,
       "order": null,
       "overflow": null,
       "overflow_x": null,
       "overflow_y": null,
       "padding": null,
       "right": null,
       "top": null,
       "visibility": null,
       "width": null
      }
     },
     "74ca95d3a82f4e07ac44a94297143957": {
      "model_module": "@jupyter-widgets/controls",
      "model_module_version": "1.5.0",
      "model_name": "HTMLModel",
      "state": {
       "_dom_classes": [],
       "_model_module": "@jupyter-widgets/controls",
       "_model_module_version": "1.5.0",
       "_model_name": "HTMLModel",
       "_view_count": null,
       "_view_module": "@jupyter-widgets/controls",
       "_view_module_version": "1.5.0",
       "_view_name": "HTMLView",
       "description": "",
       "description_tooltip": null,
       "layout": "IPY_MODEL_29bed70d5e294e09b27a2dbbeffea4e2",
       "placeholder": "​",
       "style": "IPY_MODEL_950c8fcbd6fb44749f904b05a8df5ce3",
       "value": "Optimization Progress: 100%"
      }
     },
     "78c490f6613542779f46f9f4e691f719": {
      "model_module": "@jupyter-widgets/controls",
      "model_module_version": "1.5.0",
      "model_name": "HTMLModel",
      "state": {
       "_dom_classes": [],
       "_model_module": "@jupyter-widgets/controls",
       "_model_module_version": "1.5.0",
       "_model_name": "HTMLModel",
       "_view_count": null,
       "_view_module": "@jupyter-widgets/controls",
       "_view_module_version": "1.5.0",
       "_view_name": "HTMLView",
       "description": "",
       "description_tooltip": null,
       "layout": "IPY_MODEL_fa1dcc27d461409b8d38e197e5efe6fd",
       "placeholder": "​",
       "style": "IPY_MODEL_7da47fc7f06945e08d36e4f1b53b9f61",
       "value": "Optimization Progress: 100%"
      }
     },
     "793c0c7579204f2ab18ca93505ca6410": {
      "model_module": "@jupyter-widgets/controls",
      "model_module_version": "1.5.0",
      "model_name": "HTMLModel",
      "state": {
       "_dom_classes": [],
       "_model_module": "@jupyter-widgets/controls",
       "_model_module_version": "1.5.0",
       "_model_name": "HTMLModel",
       "_view_count": null,
       "_view_module": "@jupyter-widgets/controls",
       "_view_module_version": "1.5.0",
       "_view_name": "HTMLView",
       "description": "",
       "description_tooltip": null,
       "layout": "IPY_MODEL_aa06d5635cbd4ec98dfcb2fa11eced9a",
       "placeholder": "​",
       "style": "IPY_MODEL_020814fc0c6c4c82b7ee44fcc0f2d1bb",
       "value": " 120/120 [03:12&lt;00:00,  3.23s/pipeline]"
      }
     },
     "7aa4896546234c33af4114a64ff662b4": {
      "model_module": "@jupyter-widgets/controls",
      "model_module_version": "1.5.0",
      "model_name": "FloatProgressModel",
      "state": {
       "_dom_classes": [],
       "_model_module": "@jupyter-widgets/controls",
       "_model_module_version": "1.5.0",
       "_model_name": "FloatProgressModel",
       "_view_count": null,
       "_view_module": "@jupyter-widgets/controls",
       "_view_module_version": "1.5.0",
       "_view_name": "ProgressView",
       "bar_style": "",
       "description": "",
       "description_tooltip": null,
       "layout": "IPY_MODEL_37294734a9694950a6a4826424450fcd",
       "max": 120,
       "min": 0,
       "orientation": "horizontal",
       "style": "IPY_MODEL_f0a316c476d646279980a4cf32a5e00d",
       "value": 120
      }
     },
     "7da47fc7f06945e08d36e4f1b53b9f61": {
      "model_module": "@jupyter-widgets/controls",
      "model_module_version": "1.5.0",
      "model_name": "DescriptionStyleModel",
      "state": {
       "_model_module": "@jupyter-widgets/controls",
       "_model_module_version": "1.5.0",
       "_model_name": "DescriptionStyleModel",
       "_view_count": null,
       "_view_module": "@jupyter-widgets/base",
       "_view_module_version": "1.2.0",
       "_view_name": "StyleView",
       "description_width": ""
      }
     },
     "7f48a0792f5e4f5cab67138421c2fbba": {
      "model_module": "@jupyter-widgets/controls",
      "model_module_version": "1.5.0",
      "model_name": "FloatProgressModel",
      "state": {
       "_dom_classes": [],
       "_model_module": "@jupyter-widgets/controls",
       "_model_module_version": "1.5.0",
       "_model_name": "FloatProgressModel",
       "_view_count": null,
       "_view_module": "@jupyter-widgets/controls",
       "_view_module_version": "1.5.0",
       "_view_name": "ProgressView",
       "bar_style": "",
       "description": "",
       "description_tooltip": null,
       "layout": "IPY_MODEL_3cc2967a5d0a45228f786a3fc9ebcedc",
       "max": 120,
       "min": 0,
       "orientation": "horizontal",
       "style": "IPY_MODEL_ff6e506851324e97be7ac0a2107684ed",
       "value": 120
      }
     },
     "83c4a8d0f1584d2c9a937f711bff3dc3": {
      "model_module": "@jupyter-widgets/controls",
      "model_module_version": "1.5.0",
      "model_name": "HBoxModel",
      "state": {
       "_dom_classes": [],
       "_model_module": "@jupyter-widgets/controls",
       "_model_module_version": "1.5.0",
       "_model_name": "HBoxModel",
       "_view_count": null,
       "_view_module": "@jupyter-widgets/controls",
       "_view_module_version": "1.5.0",
       "_view_name": "HBoxView",
       "box_style": "",
       "children": [
        "IPY_MODEL_78c490f6613542779f46f9f4e691f719",
        "IPY_MODEL_7aa4896546234c33af4114a64ff662b4",
        "IPY_MODEL_e8355ec730fb4acca16b2edb44e0eb0b"
       ],
       "layout": "IPY_MODEL_8a5dfc4170f84dcc8ef9206fc117d16e"
      }
     },
     "87f3dc10dd414b29baa3fe22778de074": {
      "model_module": "@jupyter-widgets/controls",
      "model_module_version": "1.5.0",
      "model_name": "FloatProgressModel",
      "state": {
       "_dom_classes": [],
       "_model_module": "@jupyter-widgets/controls",
       "_model_module_version": "1.5.0",
       "_model_name": "FloatProgressModel",
       "_view_count": null,
       "_view_module": "@jupyter-widgets/controls",
       "_view_module_version": "1.5.0",
       "_view_name": "ProgressView",
       "bar_style": "",
       "description": "",
       "description_tooltip": null,
       "layout": "IPY_MODEL_555eee81ddfd4218ae35b0665cbc63f3",
       "max": 120,
       "min": 0,
       "orientation": "horizontal",
       "style": "IPY_MODEL_fda5dc63a0fd4346aff50a89c8ebcec5",
       "value": 120
      }
     },
     "8922e22b3c744cbd873980ddc4fd4bc9": {
      "model_module": "@jupyter-widgets/base",
      "model_module_version": "1.2.0",
      "model_name": "LayoutModel",
      "state": {
       "_model_module": "@jupyter-widgets/base",
       "_model_module_version": "1.2.0",
       "_model_name": "LayoutModel",
       "_view_count": null,
       "_view_module": "@jupyter-widgets/base",
       "_view_module_version": "1.2.0",
       "_view_name": "LayoutView",
       "align_content": null,
       "align_items": null,
       "align_self": null,
       "border": null,
       "bottom": null,
       "display": null,
       "flex": null,
       "flex_flow": null,
       "grid_area": null,
       "grid_auto_columns": null,
       "grid_auto_flow": null,
       "grid_auto_rows": null,
       "grid_column": null,
       "grid_gap": null,
       "grid_row": null,
       "grid_template_areas": null,
       "grid_template_columns": null,
       "grid_template_rows": null,
       "height": null,
       "justify_content": null,
       "justify_items": null,
       "left": null,
       "margin": null,
       "max_height": null,
       "max_width": null,
       "min_height": null,
       "min_width": null,
       "object_fit": null,
       "object_position": null,
       "order": null,
       "overflow": null,
       "overflow_x": null,
       "overflow_y": null,
       "padding": null,
       "right": null,
       "top": null,
       "visibility": null,
       "width": null
      }
     },
     "8a5dfc4170f84dcc8ef9206fc117d16e": {
      "model_module": "@jupyter-widgets/base",
      "model_module_version": "1.2.0",
      "model_name": "LayoutModel",
      "state": {
       "_model_module": "@jupyter-widgets/base",
       "_model_module_version": "1.2.0",
       "_model_name": "LayoutModel",
       "_view_count": null,
       "_view_module": "@jupyter-widgets/base",
       "_view_module_version": "1.2.0",
       "_view_name": "LayoutView",
       "align_content": null,
       "align_items": null,
       "align_self": null,
       "border": null,
       "bottom": null,
       "display": null,
       "flex": null,
       "flex_flow": null,
       "grid_area": null,
       "grid_auto_columns": null,
       "grid_auto_flow": null,
       "grid_auto_rows": null,
       "grid_column": null,
       "grid_gap": null,
       "grid_row": null,
       "grid_template_areas": null,
       "grid_template_columns": null,
       "grid_template_rows": null,
       "height": null,
       "justify_content": null,
       "justify_items": null,
       "left": null,
       "margin": null,
       "max_height": null,
       "max_width": null,
       "min_height": null,
       "min_width": null,
       "object_fit": null,
       "object_position": null,
       "order": null,
       "overflow": null,
       "overflow_x": null,
       "overflow_y": null,
       "padding": null,
       "right": null,
       "top": null,
       "visibility": null,
       "width": null
      }
     },
     "8e0863af79f64335918276e6e9bb40a0": {
      "model_module": "@jupyter-widgets/controls",
      "model_module_version": "1.5.0",
      "model_name": "HTMLModel",
      "state": {
       "_dom_classes": [],
       "_model_module": "@jupyter-widgets/controls",
       "_model_module_version": "1.5.0",
       "_model_name": "HTMLModel",
       "_view_count": null,
       "_view_module": "@jupyter-widgets/controls",
       "_view_module_version": "1.5.0",
       "_view_name": "HTMLView",
       "description": "",
       "description_tooltip": null,
       "layout": "IPY_MODEL_52ef44daeca5406ba7cb601c6db2a57f",
       "placeholder": "​",
       "style": "IPY_MODEL_5813426b6f93403abd39076ad0d4928e",
       "value": "Optimization Progress: 100%"
      }
     },
     "950c8fcbd6fb44749f904b05a8df5ce3": {
      "model_module": "@jupyter-widgets/controls",
      "model_module_version": "1.5.0",
      "model_name": "DescriptionStyleModel",
      "state": {
       "_model_module": "@jupyter-widgets/controls",
       "_model_module_version": "1.5.0",
       "_model_name": "DescriptionStyleModel",
       "_view_count": null,
       "_view_module": "@jupyter-widgets/base",
       "_view_module_version": "1.2.0",
       "_view_name": "StyleView",
       "description_width": ""
      }
     },
     "98fe0f14bdd7452aa8aef3b3de83b3b7": {
      "model_module": "@jupyter-widgets/controls",
      "model_module_version": "1.5.0",
      "model_name": "HTMLModel",
      "state": {
       "_dom_classes": [],
       "_model_module": "@jupyter-widgets/controls",
       "_model_module_version": "1.5.0",
       "_model_name": "HTMLModel",
       "_view_count": null,
       "_view_module": "@jupyter-widgets/controls",
       "_view_module_version": "1.5.0",
       "_view_name": "HTMLView",
       "description": "",
       "description_tooltip": null,
       "layout": "IPY_MODEL_5251e3c97b984c1baefb6328db6bc6f6",
       "placeholder": "​",
       "style": "IPY_MODEL_33599fd85c1a44d1baf559c5d064a2c6",
       "value": " 122/? [26:43&lt;00:00,  4.95s/pipeline]"
      }
     },
     "9e4cf1b9442141c0b1a2dfb0a6d8def1": {
      "model_module": "@jupyter-widgets/base",
      "model_module_version": "1.2.0",
      "model_name": "LayoutModel",
      "state": {
       "_model_module": "@jupyter-widgets/base",
       "_model_module_version": "1.2.0",
       "_model_name": "LayoutModel",
       "_view_count": null,
       "_view_module": "@jupyter-widgets/base",
       "_view_module_version": "1.2.0",
       "_view_name": "LayoutView",
       "align_content": null,
       "align_items": null,
       "align_self": null,
       "border": null,
       "bottom": null,
       "display": null,
       "flex": null,
       "flex_flow": null,
       "grid_area": null,
       "grid_auto_columns": null,
       "grid_auto_flow": null,
       "grid_auto_rows": null,
       "grid_column": null,
       "grid_gap": null,
       "grid_row": null,
       "grid_template_areas": null,
       "grid_template_columns": null,
       "grid_template_rows": null,
       "height": null,
       "justify_content": null,
       "justify_items": null,
       "left": null,
       "margin": null,
       "max_height": null,
       "max_width": null,
       "min_height": null,
       "min_width": null,
       "object_fit": null,
       "object_position": null,
       "order": null,
       "overflow": null,
       "overflow_x": null,
       "overflow_y": null,
       "padding": null,
       "right": null,
       "top": null,
       "visibility": null,
       "width": null
      }
     },
     "a85048272d414f24a0024ff1fa2c85e5": {
      "model_module": "@jupyter-widgets/controls",
      "model_module_version": "1.5.0",
      "model_name": "FloatProgressModel",
      "state": {
       "_dom_classes": [],
       "_model_module": "@jupyter-widgets/controls",
       "_model_module_version": "1.5.0",
       "_model_name": "FloatProgressModel",
       "_view_count": null,
       "_view_module": "@jupyter-widgets/controls",
       "_view_module_version": "1.5.0",
       "_view_name": "ProgressView",
       "bar_style": "",
       "description": "",
       "description_tooltip": null,
       "layout": "IPY_MODEL_9e4cf1b9442141c0b1a2dfb0a6d8def1",
       "max": 120,
       "min": 0,
       "orientation": "horizontal",
       "style": "IPY_MODEL_284ee417458e4e65b944db56200a776f",
       "value": 120
      }
     },
     "aa06d5635cbd4ec98dfcb2fa11eced9a": {
      "model_module": "@jupyter-widgets/base",
      "model_module_version": "1.2.0",
      "model_name": "LayoutModel",
      "state": {
       "_model_module": "@jupyter-widgets/base",
       "_model_module_version": "1.2.0",
       "_model_name": "LayoutModel",
       "_view_count": null,
       "_view_module": "@jupyter-widgets/base",
       "_view_module_version": "1.2.0",
       "_view_name": "LayoutView",
       "align_content": null,
       "align_items": null,
       "align_self": null,
       "border": null,
       "bottom": null,
       "display": null,
       "flex": null,
       "flex_flow": null,
       "grid_area": null,
       "grid_auto_columns": null,
       "grid_auto_flow": null,
       "grid_auto_rows": null,
       "grid_column": null,
       "grid_gap": null,
       "grid_row": null,
       "grid_template_areas": null,
       "grid_template_columns": null,
       "grid_template_rows": null,
       "height": null,
       "justify_content": null,
       "justify_items": null,
       "left": null,
       "margin": null,
       "max_height": null,
       "max_width": null,
       "min_height": null,
       "min_width": null,
       "object_fit": null,
       "object_position": null,
       "order": null,
       "overflow": null,
       "overflow_x": null,
       "overflow_y": null,
       "padding": null,
       "right": null,
       "top": null,
       "visibility": null,
       "width": null
      }
     },
     "bcc9899820704bffa4b8301da2e65548": {
      "model_module": "@jupyter-widgets/controls",
      "model_module_version": "1.5.0",
      "model_name": "HBoxModel",
      "state": {
       "_dom_classes": [],
       "_model_module": "@jupyter-widgets/controls",
       "_model_module_version": "1.5.0",
       "_model_name": "HBoxModel",
       "_view_count": null,
       "_view_module": "@jupyter-widgets/controls",
       "_view_module_version": "1.5.0",
       "_view_name": "HBoxView",
       "box_style": "",
       "children": [
        "IPY_MODEL_fb16b1e4bec240c88ba10f47802aeb41",
        "IPY_MODEL_a85048272d414f24a0024ff1fa2c85e5",
        "IPY_MODEL_98fe0f14bdd7452aa8aef3b3de83b3b7"
       ],
       "layout": "IPY_MODEL_6a830fa1de3b43bb8ce1aec70b60ce43"
      }
     },
     "da1819e3f3a343c99f58a252fb65d88f": {
      "model_module": "@jupyter-widgets/base",
      "model_module_version": "1.2.0",
      "model_name": "LayoutModel",
      "state": {
       "_model_module": "@jupyter-widgets/base",
       "_model_module_version": "1.2.0",
       "_model_name": "LayoutModel",
       "_view_count": null,
       "_view_module": "@jupyter-widgets/base",
       "_view_module_version": "1.2.0",
       "_view_name": "LayoutView",
       "align_content": null,
       "align_items": null,
       "align_self": null,
       "border": null,
       "bottom": null,
       "display": null,
       "flex": null,
       "flex_flow": null,
       "grid_area": null,
       "grid_auto_columns": null,
       "grid_auto_flow": null,
       "grid_auto_rows": null,
       "grid_column": null,
       "grid_gap": null,
       "grid_row": null,
       "grid_template_areas": null,
       "grid_template_columns": null,
       "grid_template_rows": null,
       "height": null,
       "justify_content": null,
       "justify_items": null,
       "left": null,
       "margin": null,
       "max_height": null,
       "max_width": null,
       "min_height": null,
       "min_width": null,
       "object_fit": null,
       "object_position": null,
       "order": null,
       "overflow": null,
       "overflow_x": null,
       "overflow_y": null,
       "padding": null,
       "right": null,
       "top": null,
       "visibility": null,
       "width": null
      }
     },
     "e5636a13e5234c84a4fdad8aeca35838": {
      "model_module": "@jupyter-widgets/controls",
      "model_module_version": "1.5.0",
      "model_name": "HBoxModel",
      "state": {
       "_dom_classes": [],
       "_model_module": "@jupyter-widgets/controls",
       "_model_module_version": "1.5.0",
       "_model_name": "HBoxModel",
       "_view_count": null,
       "_view_module": "@jupyter-widgets/controls",
       "_view_module_version": "1.5.0",
       "_view_name": "HBoxView",
       "box_style": "",
       "children": [
        "IPY_MODEL_74ca95d3a82f4e07ac44a94297143957",
        "IPY_MODEL_87f3dc10dd414b29baa3fe22778de074",
        "IPY_MODEL_216ceb140d8347f1a5a22e958aa50309"
       ],
       "layout": "IPY_MODEL_da1819e3f3a343c99f58a252fb65d88f"
      }
     },
     "e8355ec730fb4acca16b2edb44e0eb0b": {
      "model_module": "@jupyter-widgets/controls",
      "model_module_version": "1.5.0",
      "model_name": "HTMLModel",
      "state": {
       "_dom_classes": [],
       "_model_module": "@jupyter-widgets/controls",
       "_model_module_version": "1.5.0",
       "_model_name": "HTMLModel",
       "_view_count": null,
       "_view_module": "@jupyter-widgets/controls",
       "_view_module_version": "1.5.0",
       "_view_name": "HTMLView",
       "description": "",
       "description_tooltip": null,
       "layout": "IPY_MODEL_37ab1a72e8b84013b9321f35312c98ac",
       "placeholder": "​",
       "style": "IPY_MODEL_f894a0a4136c4ce8b13c6ebb45b4939e",
       "value": " 120/120 [16:41&lt;00:00,  2.42s/pipeline]"
      }
     },
     "f07098b48fba4a4f84b2132364c4c232": {
      "model_module": "@jupyter-widgets/controls",
      "model_module_version": "1.5.0",
      "model_name": "HBoxModel",
      "state": {
       "_dom_classes": [],
       "_model_module": "@jupyter-widgets/controls",
       "_model_module_version": "1.5.0",
       "_model_name": "HBoxModel",
       "_view_count": null,
       "_view_module": "@jupyter-widgets/controls",
       "_view_module_version": "1.5.0",
       "_view_name": "HBoxView",
       "box_style": "",
       "children": [
        "IPY_MODEL_8e0863af79f64335918276e6e9bb40a0",
        "IPY_MODEL_7f48a0792f5e4f5cab67138421c2fbba",
        "IPY_MODEL_793c0c7579204f2ab18ca93505ca6410"
       ],
       "layout": "IPY_MODEL_134df30689794080a269b0c6478ea6e0"
      }
     },
     "f0a316c476d646279980a4cf32a5e00d": {
      "model_module": "@jupyter-widgets/controls",
      "model_module_version": "1.5.0",
      "model_name": "ProgressStyleModel",
      "state": {
       "_model_module": "@jupyter-widgets/controls",
       "_model_module_version": "1.5.0",
       "_model_name": "ProgressStyleModel",
       "_view_count": null,
       "_view_module": "@jupyter-widgets/base",
       "_view_module_version": "1.2.0",
       "_view_name": "StyleView",
       "bar_color": null,
       "description_width": ""
      }
     },
     "f894a0a4136c4ce8b13c6ebb45b4939e": {
      "model_module": "@jupyter-widgets/controls",
      "model_module_version": "1.5.0",
      "model_name": "DescriptionStyleModel",
      "state": {
       "_model_module": "@jupyter-widgets/controls",
       "_model_module_version": "1.5.0",
       "_model_name": "DescriptionStyleModel",
       "_view_count": null,
       "_view_module": "@jupyter-widgets/base",
       "_view_module_version": "1.2.0",
       "_view_name": "StyleView",
       "description_width": ""
      }
     },
     "fa1dcc27d461409b8d38e197e5efe6fd": {
      "model_module": "@jupyter-widgets/base",
      "model_module_version": "1.2.0",
      "model_name": "LayoutModel",
      "state": {
       "_model_module": "@jupyter-widgets/base",
       "_model_module_version": "1.2.0",
       "_model_name": "LayoutModel",
       "_view_count": null,
       "_view_module": "@jupyter-widgets/base",
       "_view_module_version": "1.2.0",
       "_view_name": "LayoutView",
       "align_content": null,
       "align_items": null,
       "align_self": null,
       "border": null,
       "bottom": null,
       "display": null,
       "flex": null,
       "flex_flow": null,
       "grid_area": null,
       "grid_auto_columns": null,
       "grid_auto_flow": null,
       "grid_auto_rows": null,
       "grid_column": null,
       "grid_gap": null,
       "grid_row": null,
       "grid_template_areas": null,
       "grid_template_columns": null,
       "grid_template_rows": null,
       "height": null,
       "justify_content": null,
       "justify_items": null,
       "left": null,
       "margin": null,
       "max_height": null,
       "max_width": null,
       "min_height": null,
       "min_width": null,
       "object_fit": null,
       "object_position": null,
       "order": null,
       "overflow": null,
       "overflow_x": null,
       "overflow_y": null,
       "padding": null,
       "right": null,
       "top": null,
       "visibility": null,
       "width": null
      }
     },
     "fb16b1e4bec240c88ba10f47802aeb41": {
      "model_module": "@jupyter-widgets/controls",
      "model_module_version": "1.5.0",
      "model_name": "HTMLModel",
      "state": {
       "_dom_classes": [],
       "_model_module": "@jupyter-widgets/controls",
       "_model_module_version": "1.5.0",
       "_model_name": "HTMLModel",
       "_view_count": null,
       "_view_module": "@jupyter-widgets/controls",
       "_view_module_version": "1.5.0",
       "_view_name": "HTMLView",
       "description": "",
       "description_tooltip": null,
       "layout": "IPY_MODEL_8922e22b3c744cbd873980ddc4fd4bc9",
       "placeholder": "​",
       "style": "IPY_MODEL_1521a7add4fe4eb28ee76aa697d3c763",
       "value": "Optimization Progress: "
      }
     },
     "fb85553422a043048a3a36f4b7848618": {
      "model_module": "@jupyter-widgets/controls",
      "model_module_version": "1.5.0",
      "model_name": "DescriptionStyleModel",
      "state": {
       "_model_module": "@jupyter-widgets/controls",
       "_model_module_version": "1.5.0",
       "_model_name": "DescriptionStyleModel",
       "_view_count": null,
       "_view_module": "@jupyter-widgets/base",
       "_view_module_version": "1.2.0",
       "_view_name": "StyleView",
       "description_width": ""
      }
     },
     "fda5dc63a0fd4346aff50a89c8ebcec5": {
      "model_module": "@jupyter-widgets/controls",
      "model_module_version": "1.5.0",
      "model_name": "ProgressStyleModel",
      "state": {
       "_model_module": "@jupyter-widgets/controls",
       "_model_module_version": "1.5.0",
       "_model_name": "ProgressStyleModel",
       "_view_count": null,
       "_view_module": "@jupyter-widgets/base",
       "_view_module_version": "1.2.0",
       "_view_name": "StyleView",
       "bar_color": null,
       "description_width": ""
      }
     },
     "ff6e506851324e97be7ac0a2107684ed": {
      "model_module": "@jupyter-widgets/controls",
      "model_module_version": "1.5.0",
      "model_name": "ProgressStyleModel",
      "state": {
       "_model_module": "@jupyter-widgets/controls",
       "_model_module_version": "1.5.0",
       "_model_name": "ProgressStyleModel",
       "_view_count": null,
       "_view_module": "@jupyter-widgets/base",
       "_view_module_version": "1.2.0",
       "_view_name": "StyleView",
       "bar_color": null,
       "description_width": ""
      }
     }
    },
    "version_major": 2,
    "version_minor": 0
   }
  }
 },
 "nbformat": 4,
 "nbformat_minor": 5
}
