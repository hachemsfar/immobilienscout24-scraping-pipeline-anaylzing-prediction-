{
 "cells": [
  {
   "cell_type": "code",
   "execution_count": 1,
   "metadata": {},
   "outputs": [
    {
     "name": "stderr",
     "output_type": "stream",
     "text": [
      "C:\\Users\\Hachem\\Anaconda3\\lib\\site-packages\\pandas\\compat\\_optional.py:138: UserWarning: Pandas requires version '2.7.0' or newer of 'numexpr' (version '2.6.9' currently installed).\n",
      "  warnings.warn(msg, UserWarning)\n",
      "C:\\Users\\Hachem\\Anaconda3\\lib\\site-packages\\statsmodels\\tools\\_testing.py:19: FutureWarning: pandas.util.testing is deprecated. Use the functions in the public API at pandas.testing instead.\n",
      "  import pandas.util.testing as tm\n"
     ]
    },
    {
     "name": "stdout",
     "output_type": "stream",
     "text": [
      "0.12.1.post1\n"
     ]
    }
   ],
   "source": [
    "import pandas as pd\n",
    "import os\n",
    "import glob\n",
    "import matplotlib.cm as cm\n",
    "import matplotlib.pyplot as plt\n",
    "import seaborn as sns\n",
    "# see https://nbviewer.jupyter.org/github/python-visualization/folium/blob/master/examples/Quickstart.ipynb\n",
    "import folium\n",
    "print(folium.__version__)\n",
    "from folium.plugins import MarkerCluster\n",
    "from folium import IFrame\n",
    "\n",
    "%matplotlib inline\n"
   ]
  },
  {
   "cell_type": "markdown",
   "metadata": {},
   "source": [
    "## Apartment BUY"
   ]
  },
  {
   "cell_type": "code",
   "execution_count": 2,
   "metadata": {},
   "outputs": [],
   "source": [
    "path = os.path.join(os.getcwd(), \"Data/Apartment/Buy/\")\n",
    "list_of_files = glob.glob(f\"{path}/*.csv\") "
   ]
  },
  {
   "cell_type": "code",
   "execution_count": 3,
   "metadata": {},
   "outputs": [],
   "source": [
    "list_df = []\n",
    "\n",
    "for filename in list_of_files:\n",
    "    df = pd.read_csv(filename, sep=\";\",index_col=None, header=0)\n",
    "    list_df.append(df)\n",
    "\n",
    "df_total = pd.concat(list_df, axis=0, ignore_index=True)"
   ]
  },
  {
   "cell_type": "code",
   "execution_count": 4,
   "metadata": {
    "scrolled": true
   },
   "outputs": [
    {
     "data": {
      "text/html": [
       "<div>\n",
       "<style scoped>\n",
       "    .dataframe tbody tr th:only-of-type {\n",
       "        vertical-align: middle;\n",
       "    }\n",
       "\n",
       "    .dataframe tbody tr th {\n",
       "        vertical-align: top;\n",
       "    }\n",
       "\n",
       "    .dataframe thead th {\n",
       "        text-align: right;\n",
       "    }\n",
       "</style>\n",
       "<table border=\"1\" class=\"dataframe\">\n",
       "  <thead>\n",
       "    <tr style=\"text-align: right;\">\n",
       "      <th></th>\n",
       "      <th>ID</th>\n",
       "      <th>url</th>\n",
       "      <th>creation</th>\n",
       "      <th>Haus/Wohnung</th>\n",
       "      <th>address</th>\n",
       "      <th>city</th>\n",
       "      <th>postcode</th>\n",
       "      <th>quarter</th>\n",
       "      <th>firstname</th>\n",
       "      <th>lastname</th>\n",
       "      <th>...</th>\n",
       "      <th>livingSpace</th>\n",
       "      <th>balcony</th>\n",
       "      <th>builtInKitchen</th>\n",
       "      <th>garden</th>\n",
       "      <th>price</th>\n",
       "      <th>privateOffer</th>\n",
       "      <th>floorplan</th>\n",
       "      <th>guestToilet</th>\n",
       "      <th>lat</th>\n",
       "      <th>lon</th>\n",
       "    </tr>\n",
       "  </thead>\n",
       "  <tbody>\n",
       "    <tr>\n",
       "      <th>0</th>\n",
       "      <td>126146182</td>\n",
       "      <td>https://www.immobilienscout24.de/expose/126146182</td>\n",
       "      <td>2022-01-16T21:50:18.000+01:00</td>\n",
       "      <td>Wohnung</td>\n",
       "      <td>Fritz-Walter-Strasse 7, Neufahrn bei Freising,...</td>\n",
       "      <td>Freising (Kreis)</td>\n",
       "      <td>85375</td>\n",
       "      <td>Neufahrn bei Freising</td>\n",
       "      <td>Romiana</td>\n",
       "      <td>Stegschuster</td>\n",
       "      <td>...</td>\n",
       "      <td>86.46</td>\n",
       "      <td>True</td>\n",
       "      <td>True</td>\n",
       "      <td>False</td>\n",
       "      <td>639000 EUR</td>\n",
       "      <td>True</td>\n",
       "      <td>True</td>\n",
       "      <td>True</td>\n",
       "      <td>48.31358</td>\n",
       "      <td>11.65721</td>\n",
       "    </tr>\n",
       "    <tr>\n",
       "      <th>1</th>\n",
       "      <td>128504107</td>\n",
       "      <td>https://www.immobilienscout24.de/expose/128504107</td>\n",
       "      <td>2022-01-16T21:45:34.000+01:00</td>\n",
       "      <td>Wohnung</td>\n",
       "      <td>Jüchen, Neuss (Rhein-Kreis)</td>\n",
       "      <td>Neuss (Rhein-Kreis)</td>\n",
       "      <td>41363</td>\n",
       "      <td>Jüchen</td>\n",
       "      <td>c/o Hr. Alexander</td>\n",
       "      <td>Zorin</td>\n",
       "      <td>...</td>\n",
       "      <td>97.00</td>\n",
       "      <td>True</td>\n",
       "      <td>False</td>\n",
       "      <td>False</td>\n",
       "      <td>225000 EUR</td>\n",
       "      <td>True</td>\n",
       "      <td>True</td>\n",
       "      <td>True</td>\n",
       "      <td>no value</td>\n",
       "      <td>no value</td>\n",
       "    </tr>\n",
       "    <tr>\n",
       "      <th>2</th>\n",
       "      <td>131382761</td>\n",
       "      <td>https://www.immobilienscout24.de/expose/131382761</td>\n",
       "      <td>2022-01-16T21:42:26.000+01:00</td>\n",
       "      <td>Wohnung</td>\n",
       "      <td>Knittkuhl, Düsseldorf</td>\n",
       "      <td>Düsseldorf</td>\n",
       "      <td>40629</td>\n",
       "      <td>Hubbelrath</td>\n",
       "      <td>Miriam</td>\n",
       "      <td>Sinatra</td>\n",
       "      <td>...</td>\n",
       "      <td>98.00</td>\n",
       "      <td>True</td>\n",
       "      <td>True</td>\n",
       "      <td>False</td>\n",
       "      <td>385000 EUR</td>\n",
       "      <td>True</td>\n",
       "      <td>True</td>\n",
       "      <td>True</td>\n",
       "      <td>no value</td>\n",
       "      <td>no value</td>\n",
       "    </tr>\n",
       "    <tr>\n",
       "      <th>3</th>\n",
       "      <td>131382043</td>\n",
       "      <td>https://www.immobilienscout24.de/expose/131382043</td>\n",
       "      <td>2022-01-16T21:06:53.000+01:00</td>\n",
       "      <td>Wohnung</td>\n",
       "      <td>Schweinheim, Aschaffenburg</td>\n",
       "      <td>Aschaffenburg</td>\n",
       "      <td>63743</td>\n",
       "      <td>Schweinheim</td>\n",
       "      <td>Zafer</td>\n",
       "      <td>Urgun</td>\n",
       "      <td>...</td>\n",
       "      <td>92.00</td>\n",
       "      <td>True</td>\n",
       "      <td>True</td>\n",
       "      <td>False</td>\n",
       "      <td>350000 EUR</td>\n",
       "      <td>True</td>\n",
       "      <td>False</td>\n",
       "      <td>True</td>\n",
       "      <td>no value</td>\n",
       "      <td>no value</td>\n",
       "    </tr>\n",
       "    <tr>\n",
       "      <th>4</th>\n",
       "      <td>131382233</td>\n",
       "      <td>https://www.immobilienscout24.de/expose/131382233</td>\n",
       "      <td>2022-01-16T21:06:02.000+01:00</td>\n",
       "      <td>Wohnung</td>\n",
       "      <td>Schleißheimerstraße 13a, Garching bei München,...</td>\n",
       "      <td>München (Kreis)</td>\n",
       "      <td>85748</td>\n",
       "      <td>Garching bei München</td>\n",
       "      <td>Thomas</td>\n",
       "      <td>Jakob</td>\n",
       "      <td>...</td>\n",
       "      <td>70.00</td>\n",
       "      <td>False</td>\n",
       "      <td>False</td>\n",
       "      <td>True</td>\n",
       "      <td>330000 EUR</td>\n",
       "      <td>True</td>\n",
       "      <td>True</td>\n",
       "      <td>False</td>\n",
       "      <td>48.24931</td>\n",
       "      <td>11.6484</td>\n",
       "    </tr>\n",
       "  </tbody>\n",
       "</table>\n",
       "<p>5 rows × 24 columns</p>\n",
       "</div>"
      ],
      "text/plain": [
       "          ID                                                url  \\\n",
       "0  126146182  https://www.immobilienscout24.de/expose/126146182   \n",
       "1  128504107  https://www.immobilienscout24.de/expose/128504107   \n",
       "2  131382761  https://www.immobilienscout24.de/expose/131382761   \n",
       "3  131382043  https://www.immobilienscout24.de/expose/131382043   \n",
       "4  131382233  https://www.immobilienscout24.de/expose/131382233   \n",
       "\n",
       "                        creation Haus/Wohnung  \\\n",
       "0  2022-01-16T21:50:18.000+01:00      Wohnung   \n",
       "1  2022-01-16T21:45:34.000+01:00      Wohnung   \n",
       "2  2022-01-16T21:42:26.000+01:00      Wohnung   \n",
       "3  2022-01-16T21:06:53.000+01:00      Wohnung   \n",
       "4  2022-01-16T21:06:02.000+01:00      Wohnung   \n",
       "\n",
       "                                             address                 city  \\\n",
       "0  Fritz-Walter-Strasse 7, Neufahrn bei Freising,...     Freising (Kreis)   \n",
       "1                        Jüchen, Neuss (Rhein-Kreis)  Neuss (Rhein-Kreis)   \n",
       "2                              Knittkuhl, Düsseldorf           Düsseldorf   \n",
       "3                         Schweinheim, Aschaffenburg        Aschaffenburg   \n",
       "4  Schleißheimerstraße 13a, Garching bei München,...      München (Kreis)   \n",
       "\n",
       "   postcode                quarter          firstname      lastname  ...  \\\n",
       "0     85375  Neufahrn bei Freising            Romiana  Stegschuster  ...   \n",
       "1     41363                 Jüchen  c/o Hr. Alexander         Zorin  ...   \n",
       "2     40629             Hubbelrath             Miriam       Sinatra  ...   \n",
       "3     63743            Schweinheim              Zafer         Urgun  ...   \n",
       "4     85748   Garching bei München             Thomas         Jakob  ...   \n",
       "\n",
       "  livingSpace balcony builtInKitchen  garden       price  privateOffer  \\\n",
       "0       86.46    True           True   False  639000 EUR          True   \n",
       "1       97.00    True          False   False  225000 EUR          True   \n",
       "2       98.00    True           True   False  385000 EUR          True   \n",
       "3       92.00    True           True   False  350000 EUR          True   \n",
       "4       70.00   False          False    True  330000 EUR          True   \n",
       "\n",
       "   floorplan  guestToilet       lat       lon  \n",
       "0       True         True  48.31358  11.65721  \n",
       "1       True         True  no value  no value  \n",
       "2       True         True  no value  no value  \n",
       "3      False         True  no value  no value  \n",
       "4       True        False  48.24931   11.6484  \n",
       "\n",
       "[5 rows x 24 columns]"
      ]
     },
     "execution_count": 4,
     "metadata": {},
     "output_type": "execute_result"
    }
   ],
   "source": [
    "df_total.head()"
   ]
  },
  {
   "cell_type": "code",
   "execution_count": 5,
   "metadata": {},
   "outputs": [],
   "source": [
    "for i in list(df_total.columns):\n",
    "    df_total=df_total[df_total[i]!=\"no value\"]"
   ]
  },
  {
   "cell_type": "code",
   "execution_count": 6,
   "metadata": {},
   "outputs": [
    {
     "data": {
      "text/plain": [
       "city\n",
       "Berlin                   1317\n",
       "München                   228\n",
       "Leipzig                   136\n",
       "Frankfurt am Main         120\n",
       "Köln                      119\n",
       "                         ... \n",
       "Tirschenreuth (Kreis)       1\n",
       "Fulda (Kreis)               1\n",
       "Coburg (Kreis)              1\n",
       "Parchim (Kreis)             1\n",
       "Müritz (Kreis)              1\n",
       "Length: 360, dtype: int64"
      ]
     },
     "execution_count": 6,
     "metadata": {},
     "output_type": "execute_result"
    }
   ],
   "source": [
    "df_total.groupby(\"city\").size().sort_values(ascending=False)\n"
   ]
  },
  {
   "cell_type": "code",
   "execution_count": 7,
   "metadata": {},
   "outputs": [
    {
     "data": {
      "text/plain": [
       "company\n",
       "AZ Agentur für Zwangsversteigerungsinformationen GmbH    770\n",
       "Vonovia SE-Selbstständiger Vertriebspartner              181\n",
       "Ziegert EverEstate GmbH                                  145\n",
       "Home Estate 360 GmbH                                     104\n",
       "Best Place Living GmbH                                    99\n",
       "                                                        ... \n",
       "Ihr Maklerhaus                                             1\n",
       "Ideal-Bau Grundbesitz GmbH                                 1\n",
       "IZB Immobilien Zentrum Bayern GmbH                         1\n",
       "IWI Immobilien                                             1\n",
       "wpi Wohn&ProjektImmobilien oHG                             1\n",
       "Length: 1778, dtype: int64"
      ]
     },
     "execution_count": 7,
     "metadata": {},
     "output_type": "execute_result"
    }
   ],
   "source": [
    "df_total.groupby(\"company\").size().sort_values(ascending=False)\n"
   ]
  },
  {
   "cell_type": "code",
   "execution_count": 8,
   "metadata": {},
   "outputs": [],
   "source": [
    "df_total['price']=df_total['price'].apply(lambda x: float(x.split(\" EUR\")[0]))"
   ]
  },
  {
   "cell_type": "code",
   "execution_count": 9,
   "metadata": {},
   "outputs": [],
   "source": [
    "df_total.dropna(inplace=True)"
   ]
  },
  {
   "cell_type": "code",
   "execution_count": 10,
   "metadata": {},
   "outputs": [],
   "source": [
    "def draw_city_totalarea(city):\n",
    "    df3=df_total[df_total['city']==city]\n",
    "    df3.plot(x=\"livingSpace\", y=\"price\", c=\"livingSpace\", kind=\"scatter\", colormap=cm.Set1, figsize=(15,10))"
   ]
  },
  {
   "cell_type": "code",
   "execution_count": 11,
   "metadata": {},
   "outputs": [
    {
     "data": {
      "image/png": "[encoded data removed]",
      "text/plain": [
       "<Figure size 1080x720 with 2 Axes>"
      ]
     },
     "metadata": {
      "needs_background": "light"
     },
     "output_type": "display_data"
    }
   ],
   "source": [
    "draw_city_totalarea(\"München\")"
   ]
  },
  {
   "cell_type": "code",
   "execution_count": 12,
   "metadata": {},
   "outputs": [],
   "source": [
    "df_price_square=df_total[['city','price','livingSpace']].groupby(\"city\").mean()"
   ]
  },
  {
   "cell_type": "code",
   "execution_count": 13,
   "metadata": {},
   "outputs": [],
   "source": [
    "df_price_square[\"euro/meter square\"] = df_price_square[\"price\"].div(df_price_square[\"livingSpace\"].values)\n"
   ]
  },
  {
   "cell_type": "code",
   "execution_count": 14,
   "metadata": {},
   "outputs": [
    {
     "data": {
      "text/html": [
       "<div>\n",
       "<style scoped>\n",
       "    .dataframe tbody tr th:only-of-type {\n",
       "        vertical-align: middle;\n",
       "    }\n",
       "\n",
       "    .dataframe tbody tr th {\n",
       "        vertical-align: top;\n",
       "    }\n",
       "\n",
       "    .dataframe thead th {\n",
       "        text-align: right;\n",
       "    }\n",
       "</style>\n",
       "<table border=\"1\" class=\"dataframe\">\n",
       "  <thead>\n",
       "    <tr style=\"text-align: right;\">\n",
       "      <th></th>\n",
       "      <th>price</th>\n",
       "      <th>livingSpace</th>\n",
       "      <th>euro/meter square</th>\n",
       "    </tr>\n",
       "    <tr>\n",
       "      <th>city</th>\n",
       "      <th></th>\n",
       "      <th></th>\n",
       "      <th></th>\n",
       "    </tr>\n",
       "  </thead>\n",
       "  <tbody>\n",
       "    <tr>\n",
       "      <th>Aachen</th>\n",
       "      <td>302125.000000</td>\n",
       "      <td>81.277500</td>\n",
       "      <td>3717.203408</td>\n",
       "    </tr>\n",
       "    <tr>\n",
       "      <th>Aachen (Kreis)</th>\n",
       "      <td>135178.125000</td>\n",
       "      <td>73.300625</td>\n",
       "      <td>1844.160606</td>\n",
       "    </tr>\n",
       "    <tr>\n",
       "      <th>Aichach-Friedberg (Kreis)</th>\n",
       "      <td>548446.400000</td>\n",
       "      <td>93.980000</td>\n",
       "      <td>5835.777825</td>\n",
       "    </tr>\n",
       "    <tr>\n",
       "      <th>Alb-Donau-Kreis</th>\n",
       "      <td>335666.666667</td>\n",
       "      <td>88.136667</td>\n",
       "      <td>3808.479256</td>\n",
       "    </tr>\n",
       "    <tr>\n",
       "      <th>Altenburger Land (Kreis)</th>\n",
       "      <td>63000.000000</td>\n",
       "      <td>50.860000</td>\n",
       "      <td>1238.694455</td>\n",
       "    </tr>\n",
       "  </tbody>\n",
       "</table>\n",
       "</div>"
      ],
      "text/plain": [
       "                                   price  livingSpace  euro/meter square\n",
       "city                                                                    \n",
       "Aachen                     302125.000000    81.277500        3717.203408\n",
       "Aachen (Kreis)             135178.125000    73.300625        1844.160606\n",
       "Aichach-Friedberg (Kreis)  548446.400000    93.980000        5835.777825\n",
       "Alb-Donau-Kreis            335666.666667    88.136667        3808.479256\n",
       "Altenburger Land (Kreis)    63000.000000    50.860000        1238.694455"
      ]
     },
     "execution_count": 14,
     "metadata": {},
     "output_type": "execute_result"
    }
   ],
   "source": [
    "df_price_square.head()"
   ]
  },
  {
   "cell_type": "code",
   "execution_count": 15,
   "metadata": {},
   "outputs": [
    {
     "data": {
      "text/html": [
       "<div>\n",
       "<style scoped>\n",
       "    .dataframe tbody tr th:only-of-type {\n",
       "        vertical-align: middle;\n",
       "    }\n",
       "\n",
       "    .dataframe tbody tr th {\n",
       "        vertical-align: top;\n",
       "    }\n",
       "\n",
       "    .dataframe thead th {\n",
       "        text-align: right;\n",
       "    }\n",
       "</style>\n",
       "<table border=\"1\" class=\"dataframe\">\n",
       "  <thead>\n",
       "    <tr style=\"text-align: right;\">\n",
       "      <th></th>\n",
       "      <th>euro/meter square</th>\n",
       "    </tr>\n",
       "    <tr>\n",
       "      <th>city</th>\n",
       "      <th></th>\n",
       "    </tr>\n",
       "  </thead>\n",
       "  <tbody>\n",
       "    <tr>\n",
       "      <th>Friesland (Kreis)</th>\n",
       "      <td>14308.725372</td>\n",
       "    </tr>\n",
       "    <tr>\n",
       "      <th>Miesbach (Kreis)</th>\n",
       "      <td>13356.067954</td>\n",
       "    </tr>\n",
       "    <tr>\n",
       "      <th>München</th>\n",
       "      <td>12639.113128</td>\n",
       "    </tr>\n",
       "    <tr>\n",
       "      <th>Frankfurt am Main</th>\n",
       "      <td>10462.618553</td>\n",
       "    </tr>\n",
       "    <tr>\n",
       "      <th>Starnberg (Kreis)</th>\n",
       "      <td>10455.107318</td>\n",
       "    </tr>\n",
       "    <tr>\n",
       "      <th>...</th>\n",
       "      <td>...</td>\n",
       "    </tr>\n",
       "    <tr>\n",
       "      <th>Waldeck-Frankenberg (Kreis)</th>\n",
       "      <td>290.967742</td>\n",
       "    </tr>\n",
       "    <tr>\n",
       "      <th>Wunsiedel im Fichtelgebirge (Kreis)</th>\n",
       "      <td>278.914094</td>\n",
       "    </tr>\n",
       "    <tr>\n",
       "      <th>Kronach (Kreis)</th>\n",
       "      <td>232.000000</td>\n",
       "    </tr>\n",
       "    <tr>\n",
       "      <th>Salzlandkreis</th>\n",
       "      <td>203.484872</td>\n",
       "    </tr>\n",
       "    <tr>\n",
       "      <th>Südwestpfalz (Kreis)</th>\n",
       "      <td>187.500000</td>\n",
       "    </tr>\n",
       "  </tbody>\n",
       "</table>\n",
       "<p>360 rows × 1 columns</p>\n",
       "</div>"
      ],
      "text/plain": [
       "                                     euro/meter square\n",
       "city                                                  \n",
       "Friesland (Kreis)                         14308.725372\n",
       "Miesbach (Kreis)                          13356.067954\n",
       "München                                   12639.113128\n",
       "Frankfurt am Main                         10462.618553\n",
       "Starnberg (Kreis)                         10455.107318\n",
       "...                                                ...\n",
       "Waldeck-Frankenberg (Kreis)                 290.967742\n",
       "Wunsiedel im Fichtelgebirge (Kreis)         278.914094\n",
       "Kronach (Kreis)                             232.000000\n",
       "Salzlandkreis                               203.484872\n",
       "Südwestpfalz (Kreis)                        187.500000\n",
       "\n",
       "[360 rows x 1 columns]"
      ]
     },
     "execution_count": 15,
     "metadata": {},
     "output_type": "execute_result"
    }
   ],
   "source": [
    "df_price_square[['euro/meter square']].sort_values(by=[\"euro/meter square\"], ascending=False)"
   ]
  },
  {
   "cell_type": "code",
   "execution_count": 16,
   "metadata": {},
   "outputs": [],
   "source": [
    "df_total_2=df_total[df_total['city']==\"Passau\"]"
   ]
  },
  {
   "cell_type": "code",
   "execution_count": 17,
   "metadata": {
    "scrolled": true
   },
   "outputs": [
    {
     "data": {
      "text/html": [
       "<div style=\"width:100%;\"><div style=\"position:relative;width:100%;height:0;padding-bottom:60%;\"><iframe src=\"data:text/html;charset=utf-8;base64,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\" style=\"position:absolute;width:100%;height:100%;left:0;top:0;border:none !important;\" allowfullscreen webkitallowfullscreen mozallowfullscreen></iframe></div></div>"
      ],
      "text/plain": [
       "<folium.folium.Map at 0x984a9da4e0>"
      ]
     },
     "execution_count": 17,
     "metadata": {},
     "output_type": "execute_result"
    }
   ],
   "source": [
    "m = folium.Map(location=[48.566846, 13.436720], zoom_start=13, tiles=\"Stamen Terrain\")\n",
    "\n",
    "tooltip = \"Click me!\"\n",
    "\n",
    "for index,row in enumerate(df_total_2.itertuples()):\n",
    "    html='''{0}. <a target=\"_blank\" href=\"{1}\">{2}</a> </br>\n",
    "    {3} </br>\n",
    "    Price: {4:.2f} euro '''.format(index, row.url, row.title, row.address, row.price)\n",
    "    folium.Marker([row.lat, row.lon], popup=html, tooltip=tooltip).add_to(m)\n",
    "\n",
    "m"
   ]
  },
  {
   "cell_type": "code",
   "execution_count": null,
   "metadata": {},
   "outputs": [],
   "source": []
  },
  {
   "cell_type": "markdown",
   "metadata": {},
   "source": [
    "## Haus BUY"
   ]
  },
  {
   "cell_type": "code",
   "execution_count": 18,
   "metadata": {},
   "outputs": [],
   "source": [
    "path = os.path.join(os.getcwd(), \"Data/House/Buy/\")\n",
    "list_of_files = glob.glob(f\"{path}/*.csv\") "
   ]
  },
  {
   "cell_type": "code",
   "execution_count": 19,
   "metadata": {},
   "outputs": [],
   "source": [
    "list_df = []\n",
    "\n",
    "for filename in list_of_files:\n",
    "    df = pd.read_csv(filename, sep=\";\",index_col=None, header=0)\n",
    "    list_df.append(df)\n",
    "\n",
    "df_total = pd.concat(list_df, axis=0, ignore_index=True)"
   ]
  },
  {
   "cell_type": "code",
   "execution_count": 20,
   "metadata": {
    "scrolled": true
   },
   "outputs": [
    {
     "data": {
      "text/html": [
       "<div>\n",
       "<style scoped>\n",
       "    .dataframe tbody tr th:only-of-type {\n",
       "        vertical-align: middle;\n",
       "    }\n",
       "\n",
       "    .dataframe tbody tr th {\n",
       "        vertical-align: top;\n",
       "    }\n",
       "\n",
       "    .dataframe thead th {\n",
       "        text-align: right;\n",
       "    }\n",
       "</style>\n",
       "<table border=\"1\" class=\"dataframe\">\n",
       "  <thead>\n",
       "    <tr style=\"text-align: right;\">\n",
       "      <th></th>\n",
       "      <th>ID</th>\n",
       "      <th>url</th>\n",
       "      <th>creation</th>\n",
       "      <th>Haus/Wohnung</th>\n",
       "      <th>address</th>\n",
       "      <th>city</th>\n",
       "      <th>postcode</th>\n",
       "      <th>quarter</th>\n",
       "      <th>firstname</th>\n",
       "      <th>lastname</th>\n",
       "      <th>...</th>\n",
       "      <th>title</th>\n",
       "      <th>guestToilet</th>\n",
       "      <th>numberOfRooms</th>\n",
       "      <th>livingSpace</th>\n",
       "      <th>plotArea</th>\n",
       "      <th>price</th>\n",
       "      <th>privateOffer</th>\n",
       "      <th>lat</th>\n",
       "      <th>lon</th>\n",
       "      <th>floorplan</th>\n",
       "    </tr>\n",
       "  </thead>\n",
       "  <tbody>\n",
       "    <tr>\n",
       "      <th>0</th>\n",
       "      <td>129881517</td>\n",
       "      <td>https://www.immobilienscout24.de/expose/129881517</td>\n",
       "      <td>2022-01-16T21:43:17.000+01:00</td>\n",
       "      <td>Haus</td>\n",
       "      <td>Affalterbach, Ludwigsburg (Kreis)</td>\n",
       "      <td>Ludwigsburg (Kreis)</td>\n",
       "      <td>71563</td>\n",
       "      <td>Affalterbach</td>\n",
       "      <td>Rita Ilona</td>\n",
       "      <td>Raiser</td>\n",
       "      <td>...</td>\n",
       "      <td>Gemütliches Reihenmittelhaus mit sechs Zimmern...</td>\n",
       "      <td>True</td>\n",
       "      <td>6.0</td>\n",
       "      <td>159.0</td>\n",
       "      <td>230.0</td>\n",
       "      <td>520000 EUR</td>\n",
       "      <td>True</td>\n",
       "      <td>no value</td>\n",
       "      <td>no value</td>\n",
       "      <td>True</td>\n",
       "    </tr>\n",
       "    <tr>\n",
       "      <th>1</th>\n",
       "      <td>131381879</td>\n",
       "      <td>https://www.immobilienscout24.de/expose/131381879</td>\n",
       "      <td>2022-01-16T21:34:28.000+01:00</td>\n",
       "      <td>Haus</td>\n",
       "      <td>Buckenberg, Pforzheim</td>\n",
       "      <td>Pforzheim</td>\n",
       "      <td>75175</td>\n",
       "      <td>Buckenberg</td>\n",
       "      <td>T.</td>\n",
       "      <td>Ruhland</td>\n",
       "      <td>...</td>\n",
       "      <td>Besondere Doppelhaushälfte zwischen Karlsruhe ...</td>\n",
       "      <td>True</td>\n",
       "      <td>4.0</td>\n",
       "      <td>139.0</td>\n",
       "      <td>414.0</td>\n",
       "      <td>560000 EUR</td>\n",
       "      <td>True</td>\n",
       "      <td>no value</td>\n",
       "      <td>no value</td>\n",
       "      <td>False</td>\n",
       "    </tr>\n",
       "    <tr>\n",
       "      <th>2</th>\n",
       "      <td>131382584</td>\n",
       "      <td>https://www.immobilienscout24.de/expose/131382584</td>\n",
       "      <td>2022-01-16T21:30:53.000+01:00</td>\n",
       "      <td>Haus</td>\n",
       "      <td>Erkelenzer Straße 24, Hückelhoven, Heinsberg (...</td>\n",
       "      <td>Heinsberg (Kreis)</td>\n",
       "      <td>41836</td>\n",
       "      <td>Hückelhoven</td>\n",
       "      <td>René</td>\n",
       "      <td>Rohmann</td>\n",
       "      <td>...</td>\n",
       "      <td>Haus, Hof, Pool &amp; Hühner</td>\n",
       "      <td>True</td>\n",
       "      <td>4.0</td>\n",
       "      <td>165.0</td>\n",
       "      <td>900.0</td>\n",
       "      <td>495000 EUR</td>\n",
       "      <td>True</td>\n",
       "      <td>51.07744</td>\n",
       "      <td>6.22457</td>\n",
       "      <td>False</td>\n",
       "    </tr>\n",
       "    <tr>\n",
       "      <th>3</th>\n",
       "      <td>131234429</td>\n",
       "      <td>https://www.immobilienscout24.de/expose/131234429</td>\n",
       "      <td>2022-01-16T21:25:59.000+01:00</td>\n",
       "      <td>Haus</td>\n",
       "      <td>Döhren, Hannover</td>\n",
       "      <td>Hannover</td>\n",
       "      <td>30519</td>\n",
       "      <td>Döhren</td>\n",
       "      <td>no value</td>\n",
       "      <td>/ R.S</td>\n",
       "      <td>...</td>\n",
       "      <td>Einfamilienhaus zu verkaufen</td>\n",
       "      <td>True</td>\n",
       "      <td>6.0</td>\n",
       "      <td>176.0</td>\n",
       "      <td>340.0</td>\n",
       "      <td>1188000 EUR</td>\n",
       "      <td>True</td>\n",
       "      <td>no value</td>\n",
       "      <td>no value</td>\n",
       "      <td>False</td>\n",
       "    </tr>\n",
       "    <tr>\n",
       "      <th>4</th>\n",
       "      <td>131172234</td>\n",
       "      <td>https://www.immobilienscout24.de/expose/131172234</td>\n",
       "      <td>2022-01-16T21:25:00.000+01:00</td>\n",
       "      <td>Haus</td>\n",
       "      <td>Garmisch-Partenkirchen, Garmisch-Partenkirchen...</td>\n",
       "      <td>Garmisch-Partenkirchen (Kreis)</td>\n",
       "      <td>82467</td>\n",
       "      <td>Garmisch-Partenkirchen</td>\n",
       "      <td>Isabelle</td>\n",
       "      <td>Zwerger</td>\n",
       "      <td>...</td>\n",
       "      <td>Mehrfamilienhaus, 5 Whg. in sonniger besonders...</td>\n",
       "      <td>False</td>\n",
       "      <td>16.0</td>\n",
       "      <td>469.0</td>\n",
       "      <td>1163.0</td>\n",
       "      <td>4380000 EUR</td>\n",
       "      <td>False</td>\n",
       "      <td>no value</td>\n",
       "      <td>no value</td>\n",
       "      <td>True</td>\n",
       "    </tr>\n",
       "  </tbody>\n",
       "</table>\n",
       "<p>5 rows × 22 columns</p>\n",
       "</div>"
      ],
      "text/plain": [
       "          ID                                                url  \\\n",
       "0  129881517  https://www.immobilienscout24.de/expose/129881517   \n",
       "1  131381879  https://www.immobilienscout24.de/expose/131381879   \n",
       "2  131382584  https://www.immobilienscout24.de/expose/131382584   \n",
       "3  131234429  https://www.immobilienscout24.de/expose/131234429   \n",
       "4  131172234  https://www.immobilienscout24.de/expose/131172234   \n",
       "\n",
       "                        creation Haus/Wohnung  \\\n",
       "0  2022-01-16T21:43:17.000+01:00         Haus   \n",
       "1  2022-01-16T21:34:28.000+01:00         Haus   \n",
       "2  2022-01-16T21:30:53.000+01:00         Haus   \n",
       "3  2022-01-16T21:25:59.000+01:00         Haus   \n",
       "4  2022-01-16T21:25:00.000+01:00         Haus   \n",
       "\n",
       "                                             address  \\\n",
       "0                  Affalterbach, Ludwigsburg (Kreis)   \n",
       "1                              Buckenberg, Pforzheim   \n",
       "2  Erkelenzer Straße 24, Hückelhoven, Heinsberg (...   \n",
       "3                                   Döhren, Hannover   \n",
       "4  Garmisch-Partenkirchen, Garmisch-Partenkirchen...   \n",
       "\n",
       "                             city  postcode                 quarter  \\\n",
       "0             Ludwigsburg (Kreis)     71563            Affalterbach   \n",
       "1                       Pforzheim     75175              Buckenberg   \n",
       "2               Heinsberg (Kreis)     41836             Hückelhoven   \n",
       "3                        Hannover     30519                  Döhren   \n",
       "4  Garmisch-Partenkirchen (Kreis)     82467  Garmisch-Partenkirchen   \n",
       "\n",
       "    firstname lastname  ...  \\\n",
       "0  Rita Ilona   Raiser  ...   \n",
       "1          T.  Ruhland  ...   \n",
       "2        René  Rohmann  ...   \n",
       "3    no value    / R.S  ...   \n",
       "4    Isabelle  Zwerger  ...   \n",
       "\n",
       "                                               title guestToilet  \\\n",
       "0  Gemütliches Reihenmittelhaus mit sechs Zimmern...        True   \n",
       "1  Besondere Doppelhaushälfte zwischen Karlsruhe ...        True   \n",
       "2                           Haus, Hof, Pool & Hühner        True   \n",
       "3                       Einfamilienhaus zu verkaufen        True   \n",
       "4  Mehrfamilienhaus, 5 Whg. in sonniger besonders...       False   \n",
       "\n",
       "  numberOfRooms  livingSpace  plotArea        price  privateOffer       lat  \\\n",
       "0           6.0        159.0     230.0   520000 EUR          True  no value   \n",
       "1           4.0        139.0     414.0   560000 EUR          True  no value   \n",
       "2           4.0        165.0     900.0   495000 EUR          True  51.07744   \n",
       "3           6.0        176.0     340.0  1188000 EUR          True  no value   \n",
       "4          16.0        469.0    1163.0  4380000 EUR         False  no value   \n",
       "\n",
       "        lon floorplan  \n",
       "0  no value      True  \n",
       "1  no value     False  \n",
       "2   6.22457     False  \n",
       "3  no value     False  \n",
       "4  no value      True  \n",
       "\n",
       "[5 rows x 22 columns]"
      ]
     },
     "execution_count": 20,
     "metadata": {},
     "output_type": "execute_result"
    }
   ],
   "source": [
    "df_total.head()"
   ]
  },
  {
   "cell_type": "code",
   "execution_count": 21,
   "metadata": {},
   "outputs": [
    {
     "data": {
      "text/plain": [
       "Index(['ID', 'url', 'creation', 'Haus/Wohnung', 'address', 'city', 'postcode',\n",
       "       'quarter', 'firstname', 'lastname', 'phoneNumber', 'company', 'title',\n",
       "       'guestToilet', 'numberOfRooms', 'livingSpace', 'plotArea', 'price',\n",
       "       'privateOffer', 'lat', 'lon', 'floorplan'],\n",
       "      dtype='object')"
      ]
     },
     "execution_count": 21,
     "metadata": {},
     "output_type": "execute_result"
    }
   ],
   "source": [
    "df_total.columns"
   ]
  },
  {
   "cell_type": "code",
   "execution_count": 22,
   "metadata": {},
   "outputs": [],
   "source": [
    "for i in list(df_total.columns):\n",
    "    df_total=df_total[df_total[i]!=\"no value\"]"
   ]
  },
  {
   "cell_type": "code",
   "execution_count": 23,
   "metadata": {},
   "outputs": [
    {
     "data": {
      "text/plain": [
       "city\n",
       "Berlin                   86\n",
       "Kleve (Kreis)            46\n",
       "Erzgebirgskreis          45\n",
       "Hannover (Kreis)         41\n",
       "Mittelsachsen (Kreis)    35\n",
       "                         ..\n",
       "Kelheim (Kreis)           1\n",
       "Pirmasens                 1\n",
       "Passau                    1\n",
       "Erlangen                  1\n",
       "Erding (Kreis)            1\n",
       "Length: 389, dtype: int64"
      ]
     },
     "execution_count": 23,
     "metadata": {},
     "output_type": "execute_result"
    }
   ],
   "source": [
    "df_total.groupby(\"city\").size().sort_values(ascending=False)\n"
   ]
  },
  {
   "cell_type": "code",
   "execution_count": 24,
   "metadata": {},
   "outputs": [
    {
     "data": {
      "text/plain": [
       "company\n",
       "AZ Agentur für Zwangsversteigerungsinformationen GmbH                       1401\n",
       "Inseriert auf ohne-makler.net                                                 55\n",
       "H. Schwarzlose Immobilien                                                     24\n",
       "M&F Immobilien GmbH                                                           22\n",
       "Ziegert EverEstate GmbH                                                       15\n",
       "                                                                            ... \n",
       "Dipl. Ing. Weber Massivhaus Gesellschaft für schlüsselfertiges Bauen mbH       1\n",
       "Dinges Finanzmanagement                                                        1\n",
       "LIV Management GmbH                                                            1\n",
       "Detlef Hein | DETLEF HEIN immobilien                                           1\n",
       "Kai Arnold Immobilien IVD                                                      1\n",
       "Length: 1212, dtype: int64"
      ]
     },
     "execution_count": 24,
     "metadata": {},
     "output_type": "execute_result"
    }
   ],
   "source": [
    "df_total.groupby(\"company\").size().sort_values(ascending=False)\n"
   ]
  },
  {
   "cell_type": "code",
   "execution_count": 25,
   "metadata": {},
   "outputs": [],
   "source": [
    "df_total['price']=df_total['price'].apply(lambda x: float(x.split(\" EUR\")[0]))"
   ]
  },
  {
   "cell_type": "code",
   "execution_count": 26,
   "metadata": {},
   "outputs": [],
   "source": [
    "df_total.dropna(inplace=True)"
   ]
  },
  {
   "cell_type": "code",
   "execution_count": 27,
   "metadata": {},
   "outputs": [],
   "source": [
    "def draw_city_totalarea(city):\n",
    "    df3=df_total[df_total['city']==city]\n",
    "    df3.plot(x=\"livingSpace\", y=\"price\", c=\"livingSpace\", kind=\"scatter\", colormap=cm.Set1, figsize=(15,10))"
   ]
  },
  {
   "cell_type": "code",
   "execution_count": 28,
   "metadata": {},
   "outputs": [
    {
     "data": {
      "image/png": "[encoded data removed]",
      "text/plain": [
       "<Figure size 1080x720 with 2 Axes>"
      ]
     },
     "metadata": {
      "needs_background": "light"
     },
     "output_type": "display_data"
    }
   ],
   "source": [
    "draw_city_totalarea(\"München\")"
   ]
  },
  {
   "cell_type": "code",
   "execution_count": 29,
   "metadata": {},
   "outputs": [],
   "source": [
    "df_price_square=df_total[['city','price','livingSpace']].groupby(\"city\").mean()"
   ]
  },
  {
   "cell_type": "code",
   "execution_count": 30,
   "metadata": {},
   "outputs": [],
   "source": [
    "df_price_square[\"euro/meter square\"] = df_price_square[\"price\"].div(df_price_square[\"livingSpace\"].values)\n"
   ]
  },
  {
   "cell_type": "code",
   "execution_count": 31,
   "metadata": {},
   "outputs": [
    {
     "data": {
      "text/html": [
       "<div>\n",
       "<style scoped>\n",
       "    .dataframe tbody tr th:only-of-type {\n",
       "        vertical-align: middle;\n",
       "    }\n",
       "\n",
       "    .dataframe tbody tr th {\n",
       "        vertical-align: top;\n",
       "    }\n",
       "\n",
       "    .dataframe thead th {\n",
       "        text-align: right;\n",
       "    }\n",
       "</style>\n",
       "<table border=\"1\" class=\"dataframe\">\n",
       "  <thead>\n",
       "    <tr style=\"text-align: right;\">\n",
       "      <th></th>\n",
       "      <th>price</th>\n",
       "      <th>livingSpace</th>\n",
       "      <th>euro/meter square</th>\n",
       "    </tr>\n",
       "    <tr>\n",
       "      <th>city</th>\n",
       "      <th></th>\n",
       "      <th></th>\n",
       "      <th></th>\n",
       "    </tr>\n",
       "  </thead>\n",
       "  <tbody>\n",
       "    <tr>\n",
       "      <th>Aachen</th>\n",
       "      <td>8.166667e+05</td>\n",
       "      <td>221.333333</td>\n",
       "      <td>3689.759036</td>\n",
       "    </tr>\n",
       "    <tr>\n",
       "      <th>Aachen (Kreis)</th>\n",
       "      <td>3.725314e+05</td>\n",
       "      <td>213.723143</td>\n",
       "      <td>1743.056103</td>\n",
       "    </tr>\n",
       "    <tr>\n",
       "      <th>Ahrweiler (Kreis)</th>\n",
       "      <td>2.638570e+05</td>\n",
       "      <td>222.348571</td>\n",
       "      <td>1186.681787</td>\n",
       "    </tr>\n",
       "    <tr>\n",
       "      <th>Aichach-Friedberg (Kreis)</th>\n",
       "      <td>1.008143e+06</td>\n",
       "      <td>185.581429</td>\n",
       "      <td>5432.347756</td>\n",
       "    </tr>\n",
       "    <tr>\n",
       "      <th>Alb-Donau-Kreis</th>\n",
       "      <td>8.599000e+05</td>\n",
       "      <td>121.000000</td>\n",
       "      <td>7106.611570</td>\n",
       "    </tr>\n",
       "  </tbody>\n",
       "</table>\n",
       "</div>"
      ],
      "text/plain": [
       "                                  price  livingSpace  euro/meter square\n",
       "city                                                                   \n",
       "Aachen                     8.166667e+05   221.333333        3689.759036\n",
       "Aachen (Kreis)             3.725314e+05   213.723143        1743.056103\n",
       "Ahrweiler (Kreis)          2.638570e+05   222.348571        1186.681787\n",
       "Aichach-Friedberg (Kreis)  1.008143e+06   185.581429        5432.347756\n",
       "Alb-Donau-Kreis            8.599000e+05   121.000000        7106.611570"
      ]
     },
     "execution_count": 31,
     "metadata": {},
     "output_type": "execute_result"
    }
   ],
   "source": [
    "df_price_square.head()"
   ]
  },
  {
   "cell_type": "code",
   "execution_count": 32,
   "metadata": {},
   "outputs": [
    {
     "data": {
      "text/html": [
       "<div>\n",
       "<style scoped>\n",
       "    .dataframe tbody tr th:only-of-type {\n",
       "        vertical-align: middle;\n",
       "    }\n",
       "\n",
       "    .dataframe tbody tr th {\n",
       "        vertical-align: top;\n",
       "    }\n",
       "\n",
       "    .dataframe thead th {\n",
       "        text-align: right;\n",
       "    }\n",
       "</style>\n",
       "<table border=\"1\" class=\"dataframe\">\n",
       "  <thead>\n",
       "    <tr style=\"text-align: right;\">\n",
       "      <th></th>\n",
       "      <th>euro/meter square</th>\n",
       "    </tr>\n",
       "    <tr>\n",
       "      <th>city</th>\n",
       "      <th></th>\n",
       "    </tr>\n",
       "  </thead>\n",
       "  <tbody>\n",
       "    <tr>\n",
       "      <th>Bad Tölz-Wolfratshausen (Kreis)</th>\n",
       "      <td>13500.000000</td>\n",
       "    </tr>\n",
       "    <tr>\n",
       "      <th>Potsdam</th>\n",
       "      <td>11257.506730</td>\n",
       "    </tr>\n",
       "    <tr>\n",
       "      <th>München</th>\n",
       "      <td>11017.054685</td>\n",
       "    </tr>\n",
       "    <tr>\n",
       "      <th>Erding (Kreis)</th>\n",
       "      <td>10782.892352</td>\n",
       "    </tr>\n",
       "    <tr>\n",
       "      <th>München (Kreis)</th>\n",
       "      <td>9722.463140</td>\n",
       "    </tr>\n",
       "    <tr>\n",
       "      <th>...</th>\n",
       "      <td>...</td>\n",
       "    </tr>\n",
       "    <tr>\n",
       "      <th>Holzminden (Kreis)</th>\n",
       "      <td>419.701700</td>\n",
       "    </tr>\n",
       "    <tr>\n",
       "      <th>Weißenburg-Gunzenhausen (Kreis)</th>\n",
       "      <td>355.345912</td>\n",
       "    </tr>\n",
       "    <tr>\n",
       "      <th>Görlitz</th>\n",
       "      <td>251.185880</td>\n",
       "    </tr>\n",
       "    <tr>\n",
       "      <th>Zwickau</th>\n",
       "      <td>188.130682</td>\n",
       "    </tr>\n",
       "    <tr>\n",
       "      <th>Saale-Orla-Kreis</th>\n",
       "      <td>124.762169</td>\n",
       "    </tr>\n",
       "  </tbody>\n",
       "</table>\n",
       "<p>389 rows × 1 columns</p>\n",
       "</div>"
      ],
      "text/plain": [
       "                                 euro/meter square\n",
       "city                                              \n",
       "Bad Tölz-Wolfratshausen (Kreis)       13500.000000\n",
       "Potsdam                               11257.506730\n",
       "München                               11017.054685\n",
       "Erding (Kreis)                        10782.892352\n",
       "München (Kreis)                        9722.463140\n",
       "...                                            ...\n",
       "Holzminden (Kreis)                      419.701700\n",
       "Weißenburg-Gunzenhausen (Kreis)         355.345912\n",
       "Görlitz                                 251.185880\n",
       "Zwickau                                 188.130682\n",
       "Saale-Orla-Kreis                        124.762169\n",
       "\n",
       "[389 rows x 1 columns]"
      ]
     },
     "execution_count": 32,
     "metadata": {},
     "output_type": "execute_result"
    }
   ],
   "source": [
    "df_price_square[['euro/meter square']].sort_values(by=[\"euro/meter square\"], ascending=False)"
   ]
  },
  {
   "cell_type": "code",
   "execution_count": 33,
   "metadata": {},
   "outputs": [],
   "source": [
    "df_total_2=df_total[df_total['city']==\"Passau\"]"
   ]
  },
  {
   "cell_type": "code",
   "execution_count": 34,
   "metadata": {},
   "outputs": [
    {
     "data": {
      "text/html": [
       "<div>\n",
       "<style scoped>\n",
       "    .dataframe tbody tr th:only-of-type {\n",
       "        vertical-align: middle;\n",
       "    }\n",
       "\n",
       "    .dataframe tbody tr th {\n",
       "        vertical-align: top;\n",
       "    }\n",
       "\n",
       "    .dataframe thead th {\n",
       "        text-align: right;\n",
       "    }\n",
       "</style>\n",
       "<table border=\"1\" class=\"dataframe\">\n",
       "  <thead>\n",
       "    <tr style=\"text-align: right;\">\n",
       "      <th></th>\n",
       "      <th>ID</th>\n",
       "      <th>url</th>\n",
       "      <th>creation</th>\n",
       "      <th>Haus/Wohnung</th>\n",
       "      <th>address</th>\n",
       "      <th>city</th>\n",
       "      <th>postcode</th>\n",
       "      <th>quarter</th>\n",
       "      <th>firstname</th>\n",
       "      <th>lastname</th>\n",
       "      <th>...</th>\n",
       "      <th>title</th>\n",
       "      <th>guestToilet</th>\n",
       "      <th>numberOfRooms</th>\n",
       "      <th>livingSpace</th>\n",
       "      <th>plotArea</th>\n",
       "      <th>price</th>\n",
       "      <th>privateOffer</th>\n",
       "      <th>lat</th>\n",
       "      <th>lon</th>\n",
       "      <th>floorplan</th>\n",
       "    </tr>\n",
       "  </thead>\n",
       "  <tbody>\n",
       "    <tr>\n",
       "      <th>10874</th>\n",
       "      <td>130981775</td>\n",
       "      <td>https://www.immobilienscout24.de/expose/130981775</td>\n",
       "      <td>2021-12-18T18:32:06.000+01:00</td>\n",
       "      <td>Haus</td>\n",
       "      <td>Alte Poststrasse 10, Neustift, Passau</td>\n",
       "      <td>Passau</td>\n",
       "      <td>94036</td>\n",
       "      <td>Heining</td>\n",
       "      <td>Armin</td>\n",
       "      <td>Ernst</td>\n",
       "      <td>...</td>\n",
       "      <td>NEUBAU   Baubiologisches Holzhaus in Naturnahe...</td>\n",
       "      <td>True</td>\n",
       "      <td>4.0</td>\n",
       "      <td>146.75</td>\n",
       "      <td>516.86</td>\n",
       "      <td>719900.0</td>\n",
       "      <td>False</td>\n",
       "      <td>48.57265</td>\n",
       "      <td>13.38914</td>\n",
       "      <td>False</td>\n",
       "    </tr>\n",
       "  </tbody>\n",
       "</table>\n",
       "<p>1 rows × 22 columns</p>\n",
       "</div>"
      ],
      "text/plain": [
       "              ID                                                url  \\\n",
       "10874  130981775  https://www.immobilienscout24.de/expose/130981775   \n",
       "\n",
       "                            creation Haus/Wohnung  \\\n",
       "10874  2021-12-18T18:32:06.000+01:00         Haus   \n",
       "\n",
       "                                     address    city  postcode  quarter  \\\n",
       "10874  Alte Poststrasse 10, Neustift, Passau  Passau     94036  Heining   \n",
       "\n",
       "      firstname lastname  ...  \\\n",
       "10874     Armin    Ernst  ...   \n",
       "\n",
       "                                                   title guestToilet  \\\n",
       "10874  NEUBAU   Baubiologisches Holzhaus in Naturnahe...        True   \n",
       "\n",
       "      numberOfRooms  livingSpace  plotArea     price  privateOffer       lat  \\\n",
       "10874           4.0       146.75    516.86  719900.0         False  48.57265   \n",
       "\n",
       "            lon floorplan  \n",
       "10874  13.38914     False  \n",
       "\n",
       "[1 rows x 22 columns]"
      ]
     },
     "execution_count": 34,
     "metadata": {},
     "output_type": "execute_result"
    }
   ],
   "source": [
    "df_total_2.head()"
   ]
  },
  {
   "cell_type": "code",
   "execution_count": 35,
   "metadata": {
    "scrolled": true
   },
   "outputs": [
    {
     "data": {
      "text/html": [
       "<div style=\"width:100%;\"><div style=\"position:relative;width:100%;height:0;padding-bottom:60%;\"><iframe src=\"data:text/html;charset=utf-8;base64,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\" style=\"position:absolute;width:100%;height:100%;left:0;top:0;border:none !important;\" allowfullscreen webkitallowfullscreen mozallowfullscreen></iframe></div></div>"
      ],
      "text/plain": [
       "<folium.folium.Map at 0x984de92438>"
      ]
     },
     "execution_count": 35,
     "metadata": {},
     "output_type": "execute_result"
    }
   ],
   "source": [
    "m = folium.Map(location=[48.566846, 13.436720], zoom_start=13, tiles=\"Stamen Terrain\")\n",
    "\n",
    "tooltip = \"Click me!\"\n",
    "\n",
    "for index,row in enumerate(df_total_2.itertuples()):\n",
    "    html='''{0}. <a target=\"_blank\" href=\"{1}\">{2}</a> </br>\n",
    "    {3} </br>\n",
    "    Price: {4:.2f} euro '''.format(index, row.url, row.title, row.address, row.price)\n",
    "    folium.Marker([row.lat, row.lon], popup=html, tooltip=tooltip).add_to(m)\n",
    "\n",
    "m"
   ]
  },
  {
   "cell_type": "markdown",
   "metadata": {},
   "source": [
    "## Apartment Rent"
   ]
  },
  {
   "cell_type": "code",
   "execution_count": 36,
   "metadata": {},
   "outputs": [],
   "source": [
    "path = os.path.join(os.getcwd(), \"Data/Apartment/Rent/\")\n",
    "list_of_files = glob.glob(f\"{path}/*.csv\") "
   ]
  },
  {
   "cell_type": "code",
   "execution_count": 37,
   "metadata": {},
   "outputs": [],
   "source": [
    "list_df = []\n",
    "\n",
    "for filename in list_of_files:\n",
    "    df = pd.read_csv(filename, sep=\";\",index_col=None, header=0)\n",
    "    list_df.append(df)\n",
    "\n",
    "df_total = pd.concat(list_df, axis=0, ignore_index=True)"
   ]
  },
  {
   "cell_type": "code",
   "execution_count": 38,
   "metadata": {
    "scrolled": true
   },
   "outputs": [
    {
     "data": {
      "text/html": [
       "<div>\n",
       "<style scoped>\n",
       "    .dataframe tbody tr th:only-of-type {\n",
       "        vertical-align: middle;\n",
       "    }\n",
       "\n",
       "    .dataframe tbody tr th {\n",
       "        vertical-align: top;\n",
       "    }\n",
       "\n",
       "    .dataframe thead th {\n",
       "        text-align: right;\n",
       "    }\n",
       "</style>\n",
       "<table border=\"1\" class=\"dataframe\">\n",
       "  <thead>\n",
       "    <tr style=\"text-align: right;\">\n",
       "      <th></th>\n",
       "      <th>ID</th>\n",
       "      <th>url</th>\n",
       "      <th>creation</th>\n",
       "      <th>Haus/Wohnung</th>\n",
       "      <th>address</th>\n",
       "      <th>city</th>\n",
       "      <th>postcode</th>\n",
       "      <th>quarter</th>\n",
       "      <th>firstname</th>\n",
       "      <th>lastname</th>\n",
       "      <th>...</th>\n",
       "      <th>livingSpace</th>\n",
       "      <th>balcony</th>\n",
       "      <th>builtInKitchen</th>\n",
       "      <th>garden</th>\n",
       "      <th>price</th>\n",
       "      <th>privateOffer</th>\n",
       "      <th>floorplan</th>\n",
       "      <th>Warm_miete</th>\n",
       "      <th>lat</th>\n",
       "      <th>lon</th>\n",
       "    </tr>\n",
       "  </thead>\n",
       "  <tbody>\n",
       "    <tr>\n",
       "      <th>0</th>\n",
       "      <td>86151756</td>\n",
       "      <td>https://www.immobilienscout24.de/expose/86151756</td>\n",
       "      <td>2022-01-16T21:19:49.512+01:00</td>\n",
       "      <td>Wohnung</td>\n",
       "      <td>Gaulnhofer Straße 6d, Katzwang, Reichelsdorf O...</td>\n",
       "      <td>Nürnberg</td>\n",
       "      <td>90455</td>\n",
       "      <td>Katzwang, Reichelsdorf Ost, Reichelsdorfer Keller</td>\n",
       "      <td>Elke</td>\n",
       "      <td>Helm</td>\n",
       "      <td>...</td>\n",
       "      <td>75.0</td>\n",
       "      <td>True</td>\n",
       "      <td>True</td>\n",
       "      <td>False</td>\n",
       "      <td>945 EUR</td>\n",
       "      <td>True</td>\n",
       "      <td>True</td>\n",
       "      <td>1220 EUR/MONTH</td>\n",
       "      <td>49.35151</td>\n",
       "      <td>11.05835</td>\n",
       "    </tr>\n",
       "    <tr>\n",
       "      <th>1</th>\n",
       "      <td>126255876</td>\n",
       "      <td>https://www.immobilienscout24.de/expose/126255876</td>\n",
       "      <td>2022-01-16T21:19:17.000+01:00</td>\n",
       "      <td>Wohnung</td>\n",
       "      <td>Bühler Str. 1, Rohrbach, Heidelberg</td>\n",
       "      <td>Heidelberg</td>\n",
       "      <td>69126</td>\n",
       "      <td>Rohrbach</td>\n",
       "      <td>Marcel</td>\n",
       "      <td>Schwebler</td>\n",
       "      <td>...</td>\n",
       "      <td>105.0</td>\n",
       "      <td>True</td>\n",
       "      <td>True</td>\n",
       "      <td>False</td>\n",
       "      <td>1300 EUR</td>\n",
       "      <td>True</td>\n",
       "      <td>True</td>\n",
       "      <td>1650 EUR/MONTH</td>\n",
       "      <td>49.37481</td>\n",
       "      <td>8.68196</td>\n",
       "    </tr>\n",
       "    <tr>\n",
       "      <th>2</th>\n",
       "      <td>131175257</td>\n",
       "      <td>https://www.immobilienscout24.de/expose/131175257</td>\n",
       "      <td>2022-01-16T21:18:54.000+01:00</td>\n",
       "      <td>Wohnung</td>\n",
       "      <td>Glockenhofstraße 26, Glockenhof, Nürnberg</td>\n",
       "      <td>Nürnberg</td>\n",
       "      <td>90478</td>\n",
       "      <td>Glockenhof</td>\n",
       "      <td>Miriam</td>\n",
       "      <td>Meinardus</td>\n",
       "      <td>...</td>\n",
       "      <td>56.0</td>\n",
       "      <td>False</td>\n",
       "      <td>True</td>\n",
       "      <td>False</td>\n",
       "      <td>720 EUR</td>\n",
       "      <td>True</td>\n",
       "      <td>False</td>\n",
       "      <td>850 EUR/MONTH</td>\n",
       "      <td>49.44432</td>\n",
       "      <td>11.09006</td>\n",
       "    </tr>\n",
       "    <tr>\n",
       "      <th>3</th>\n",
       "      <td>131381911</td>\n",
       "      <td>https://www.immobilienscout24.de/expose/131381911</td>\n",
       "      <td>2022-01-16T21:17:01.000+01:00</td>\n",
       "      <td>Wohnung</td>\n",
       "      <td>Uhlandstr. 2, Karlsbad, Karlsruhe (Kreis)</td>\n",
       "      <td>Karlsruhe (Kreis)</td>\n",
       "      <td>76307</td>\n",
       "      <td>Karlsbad</td>\n",
       "      <td>Yi</td>\n",
       "      <td>Xie</td>\n",
       "      <td>...</td>\n",
       "      <td>52.0</td>\n",
       "      <td>False</td>\n",
       "      <td>False</td>\n",
       "      <td>False</td>\n",
       "      <td>450 EUR</td>\n",
       "      <td>True</td>\n",
       "      <td>True</td>\n",
       "      <td>600 EUR/MONTH</td>\n",
       "      <td>48.91353</td>\n",
       "      <td>8.50201</td>\n",
       "    </tr>\n",
       "    <tr>\n",
       "      <th>4</th>\n",
       "      <td>131382054</td>\n",
       "      <td>https://www.immobilienscout24.de/expose/131382054</td>\n",
       "      <td>2022-01-16T21:16:40.000+01:00</td>\n",
       "      <td>Wohnung</td>\n",
       "      <td>Lange Straße 47, Wehringhausen, Hagen</td>\n",
       "      <td>Hagen</td>\n",
       "      <td>58089</td>\n",
       "      <td>Wehringhausen</td>\n",
       "      <td>Michael</td>\n",
       "      <td>Fidelak</td>\n",
       "      <td>...</td>\n",
       "      <td>61.0</td>\n",
       "      <td>False</td>\n",
       "      <td>True</td>\n",
       "      <td>False</td>\n",
       "      <td>305 EUR</td>\n",
       "      <td>True</td>\n",
       "      <td>True</td>\n",
       "      <td>395 EUR/MONTH</td>\n",
       "      <td>51.35506</td>\n",
       "      <td>7.46018</td>\n",
       "    </tr>\n",
       "  </tbody>\n",
       "</table>\n",
       "<p>5 rows × 24 columns</p>\n",
       "</div>"
      ],
      "text/plain": [
       "          ID                                                url  \\\n",
       "0   86151756   https://www.immobilienscout24.de/expose/86151756   \n",
       "1  126255876  https://www.immobilienscout24.de/expose/126255876   \n",
       "2  131175257  https://www.immobilienscout24.de/expose/131175257   \n",
       "3  131381911  https://www.immobilienscout24.de/expose/131381911   \n",
       "4  131382054  https://www.immobilienscout24.de/expose/131382054   \n",
       "\n",
       "                        creation Haus/Wohnung  \\\n",
       "0  2022-01-16T21:19:49.512+01:00      Wohnung   \n",
       "1  2022-01-16T21:19:17.000+01:00      Wohnung   \n",
       "2  2022-01-16T21:18:54.000+01:00      Wohnung   \n",
       "3  2022-01-16T21:17:01.000+01:00      Wohnung   \n",
       "4  2022-01-16T21:16:40.000+01:00      Wohnung   \n",
       "\n",
       "                                             address               city  \\\n",
       "0  Gaulnhofer Straße 6d, Katzwang, Reichelsdorf O...           Nürnberg   \n",
       "1                Bühler Str. 1, Rohrbach, Heidelberg         Heidelberg   \n",
       "2          Glockenhofstraße 26, Glockenhof, Nürnberg           Nürnberg   \n",
       "3          Uhlandstr. 2, Karlsbad, Karlsruhe (Kreis)  Karlsruhe (Kreis)   \n",
       "4              Lange Straße 47, Wehringhausen, Hagen              Hagen   \n",
       "\n",
       "   postcode                                            quarter firstname  \\\n",
       "0     90455  Katzwang, Reichelsdorf Ost, Reichelsdorfer Keller      Elke   \n",
       "1     69126                                           Rohrbach    Marcel   \n",
       "2     90478                                         Glockenhof    Miriam   \n",
       "3     76307                                           Karlsbad        Yi   \n",
       "4     58089                                      Wehringhausen   Michael   \n",
       "\n",
       "    lastname  ... livingSpace balcony builtInKitchen  garden     price  \\\n",
       "0       Helm  ...        75.0    True           True   False   945 EUR   \n",
       "1  Schwebler  ...       105.0    True           True   False  1300 EUR   \n",
       "2  Meinardus  ...        56.0   False           True   False   720 EUR   \n",
       "3        Xie  ...        52.0   False          False   False   450 EUR   \n",
       "4    Fidelak  ...        61.0   False           True   False   305 EUR   \n",
       "\n",
       "   privateOffer  floorplan      Warm_miete       lat       lon  \n",
       "0          True       True  1220 EUR/MONTH  49.35151  11.05835  \n",
       "1          True       True  1650 EUR/MONTH  49.37481   8.68196  \n",
       "2          True      False   850 EUR/MONTH  49.44432  11.09006  \n",
       "3          True       True   600 EUR/MONTH  48.91353   8.50201  \n",
       "4          True       True   395 EUR/MONTH  51.35506   7.46018  \n",
       "\n",
       "[5 rows x 24 columns]"
      ]
     },
     "execution_count": 38,
     "metadata": {},
     "output_type": "execute_result"
    }
   ],
   "source": [
    "df_total.head()"
   ]
  },
  {
   "cell_type": "code",
   "execution_count": 39,
   "metadata": {},
   "outputs": [
    {
     "data": {
      "text/plain": [
       "Index(['ID', 'url', 'creation', 'Haus/Wohnung', 'address', 'city', 'postcode',\n",
       "       'quarter', 'firstname', 'lastname', 'phoneNumber', 'company', 'title',\n",
       "       'numberOfRooms', 'livingSpace', 'balcony', 'builtInKitchen', 'garden',\n",
       "       'price', 'privateOffer', 'floorplan', 'Warm_miete', 'lat', 'lon'],\n",
       "      dtype='object')"
      ]
     },
     "execution_count": 39,
     "metadata": {},
     "output_type": "execute_result"
    }
   ],
   "source": [
    "df_total.columns"
   ]
  },
  {
   "cell_type": "code",
   "execution_count": 40,
   "metadata": {},
   "outputs": [],
   "source": [
    "for i in list(df_total.columns):\n",
    "    df_total=df_total[df_total[i]!=\"no value\"]"
   ]
  },
  {
   "cell_type": "code",
   "execution_count": 41,
   "metadata": {},
   "outputs": [
    {
     "data": {
      "text/plain": [
       "city\n",
       "Chemnitz                       2754\n",
       "Dresden                        1303\n",
       "Leipzig                        1207\n",
       "Magdeburg                      1189\n",
       "Halle (Saale)                  1015\n",
       "                               ... \n",
       "Weiden in der Oberpfalz           1\n",
       "Günzburg (Kreis)                  1\n",
       "Bad Dürkheim (Kreis)              1\n",
       "Südliche Weinstraße (Kreis)       1\n",
       "Ansbach                           1\n",
       "Length: 412, dtype: int64"
      ]
     },
     "execution_count": 41,
     "metadata": {},
     "output_type": "execute_result"
    }
   ],
   "source": [
    "df_total.groupby(\"city\").size().sort_values(ascending=False)\n"
   ]
  },
  {
   "cell_type": "code",
   "execution_count": 42,
   "metadata": {},
   "outputs": [
    {
     "data": {
      "text/plain": [
       "company\n",
       "Vonovia SE                                       1664\n",
       "TAG Wohnen & Service GmbH                         931\n",
       "Immo Checker                                      515\n",
       "GCP - Grand City Property                         386\n",
       "Wohnungsbaugesellschaft Plauen mbH                344\n",
       "                                                 ... \n",
       "Immobilienfonds Objekt Rathenow GmbH & Co. KG       1\n",
       "Immobilienforum Esslingen Bürogemeinschaft          1\n",
       "Immobilienkontor Berlin IK GmbH                     1\n",
       "Immobilienkontor Frankfurt                          1\n",
       "Öffentliche Facility Management GmbH                1\n",
       "Length: 4628, dtype: int64"
      ]
     },
     "execution_count": 42,
     "metadata": {},
     "output_type": "execute_result"
    }
   ],
   "source": [
    "df_total.groupby(\"company\").size().sort_values(ascending=False)\n"
   ]
  },
  {
   "cell_type": "code",
   "execution_count": 43,
   "metadata": {},
   "outputs": [
    {
     "data": {
      "text/plain": [
       "Index(['ID', 'url', 'creation', 'Haus/Wohnung', 'address', 'city', 'postcode',\n",
       "       'quarter', 'firstname', 'lastname', 'phoneNumber', 'company', 'title',\n",
       "       'numberOfRooms', 'livingSpace', 'balcony', 'builtInKitchen', 'garden',\n",
       "       'price', 'privateOffer', 'floorplan', 'Warm_miete', 'lat', 'lon'],\n",
       "      dtype='object')"
      ]
     },
     "execution_count": 43,
     "metadata": {},
     "output_type": "execute_result"
    }
   ],
   "source": [
    "df_total.columns"
   ]
  },
  {
   "cell_type": "code",
   "execution_count": 44,
   "metadata": {},
   "outputs": [],
   "source": [
    "df_total['price']=df_total['price'].apply(lambda x: float(x.split(\" EUR\")[0]))"
   ]
  },
  {
   "cell_type": "code",
   "execution_count": 45,
   "metadata": {},
   "outputs": [],
   "source": [
    "df_total.dropna(inplace=True)"
   ]
  },
  {
   "cell_type": "code",
   "execution_count": 46,
   "metadata": {},
   "outputs": [],
   "source": [
    "def draw_city_totalarea(city):\n",
    "    df3=df_total[df_total['city']==city]\n",
    "    df3.plot(x=\"livingSpace\", y=\"price\", c=\"livingSpace\", kind=\"scatter\", colormap=cm.Set1, figsize=(15,10))"
   ]
  },
  {
   "cell_type": "code",
   "execution_count": 47,
   "metadata": {},
   "outputs": [
    {
     "data": {
      "image/png": "[encoded data removed]",
      "text/plain": [
       "<Figure size 1080x720 with 2 Axes>"
      ]
     },
     "metadata": {
      "needs_background": "light"
     },
     "output_type": "display_data"
    }
   ],
   "source": [
    "draw_city_totalarea(\"München\")"
   ]
  },
  {
   "cell_type": "code",
   "execution_count": 48,
   "metadata": {},
   "outputs": [],
   "source": [
    "df_price_square=df_total[['city','price','livingSpace']].groupby(\"city\").mean()"
   ]
  },
  {
   "cell_type": "code",
   "execution_count": 49,
   "metadata": {},
   "outputs": [],
   "source": [
    "df_price_square[\"euro/meter square\"] = df_price_square[\"price\"].div(df_price_square[\"livingSpace\"].values)\n"
   ]
  },
  {
   "cell_type": "code",
   "execution_count": 50,
   "metadata": {},
   "outputs": [
    {
     "data": {
      "text/html": [
       "<div>\n",
       "<style scoped>\n",
       "    .dataframe tbody tr th:only-of-type {\n",
       "        vertical-align: middle;\n",
       "    }\n",
       "\n",
       "    .dataframe tbody tr th {\n",
       "        vertical-align: top;\n",
       "    }\n",
       "\n",
       "    .dataframe thead th {\n",
       "        text-align: right;\n",
       "    }\n",
       "</style>\n",
       "<table border=\"1\" class=\"dataframe\">\n",
       "  <thead>\n",
       "    <tr style=\"text-align: right;\">\n",
       "      <th></th>\n",
       "      <th>price</th>\n",
       "      <th>livingSpace</th>\n",
       "      <th>euro/meter square</th>\n",
       "    </tr>\n",
       "    <tr>\n",
       "      <th>city</th>\n",
       "      <th></th>\n",
       "      <th></th>\n",
       "      <th></th>\n",
       "    </tr>\n",
       "  </thead>\n",
       "  <tbody>\n",
       "    <tr>\n",
       "      <th>Aachen</th>\n",
       "      <td>673.770769</td>\n",
       "      <td>61.704505</td>\n",
       "      <td>10.919312</td>\n",
       "    </tr>\n",
       "    <tr>\n",
       "      <th>Aachen (Kreis)</th>\n",
       "      <td>470.127073</td>\n",
       "      <td>65.077927</td>\n",
       "      <td>7.224063</td>\n",
       "    </tr>\n",
       "    <tr>\n",
       "      <th>Ahrweiler (Kreis)</th>\n",
       "      <td>620.000000</td>\n",
       "      <td>78.847500</td>\n",
       "      <td>7.863280</td>\n",
       "    </tr>\n",
       "    <tr>\n",
       "      <th>Aichach-Friedberg (Kreis)</th>\n",
       "      <td>870.899231</td>\n",
       "      <td>78.386923</td>\n",
       "      <td>11.110262</td>\n",
       "    </tr>\n",
       "    <tr>\n",
       "      <th>Alb-Donau-Kreis</th>\n",
       "      <td>690.511000</td>\n",
       "      <td>65.981000</td>\n",
       "      <td>10.465301</td>\n",
       "    </tr>\n",
       "  </tbody>\n",
       "</table>\n",
       "</div>"
      ],
      "text/plain": [
       "                                price  livingSpace  euro/meter square\n",
       "city                                                                 \n",
       "Aachen                     673.770769    61.704505          10.919312\n",
       "Aachen (Kreis)             470.127073    65.077927           7.224063\n",
       "Ahrweiler (Kreis)          620.000000    78.847500           7.863280\n",
       "Aichach-Friedberg (Kreis)  870.899231    78.386923          11.110262\n",
       "Alb-Donau-Kreis            690.511000    65.981000          10.465301"
      ]
     },
     "execution_count": 50,
     "metadata": {},
     "output_type": "execute_result"
    }
   ],
   "source": [
    "df_price_square.head()"
   ]
  },
  {
   "cell_type": "code",
   "execution_count": 51,
   "metadata": {},
   "outputs": [
    {
     "data": {
      "text/html": [
       "<div>\n",
       "<style scoped>\n",
       "    .dataframe tbody tr th:only-of-type {\n",
       "        vertical-align: middle;\n",
       "    }\n",
       "\n",
       "    .dataframe tbody tr th {\n",
       "        vertical-align: top;\n",
       "    }\n",
       "\n",
       "    .dataframe thead th {\n",
       "        text-align: right;\n",
       "    }\n",
       "</style>\n",
       "<table border=\"1\" class=\"dataframe\">\n",
       "  <thead>\n",
       "    <tr style=\"text-align: right;\">\n",
       "      <th></th>\n",
       "      <th>euro/meter square</th>\n",
       "    </tr>\n",
       "    <tr>\n",
       "      <th>city</th>\n",
       "      <th></th>\n",
       "    </tr>\n",
       "  </thead>\n",
       "  <tbody>\n",
       "    <tr>\n",
       "      <th>Miesbach (Kreis)</th>\n",
       "      <td>32.506787</td>\n",
       "    </tr>\n",
       "    <tr>\n",
       "      <th>Nordfriesland (Kreis)</th>\n",
       "      <td>27.884071</td>\n",
       "    </tr>\n",
       "    <tr>\n",
       "      <th>München</th>\n",
       "      <td>23.712543</td>\n",
       "    </tr>\n",
       "    <tr>\n",
       "      <th>München (Kreis)</th>\n",
       "      <td>21.109188</td>\n",
       "    </tr>\n",
       "    <tr>\n",
       "      <th>Garmisch-Partenkirchen (Kreis)</th>\n",
       "      <td>20.588235</td>\n",
       "    </tr>\n",
       "    <tr>\n",
       "      <th>...</th>\n",
       "      <td>...</td>\n",
       "    </tr>\n",
       "    <tr>\n",
       "      <th>Donnersbergkreis</th>\n",
       "      <td>4.400000</td>\n",
       "    </tr>\n",
       "    <tr>\n",
       "      <th>Lüchow-Dannenberg (Kreis)</th>\n",
       "      <td>4.113930</td>\n",
       "    </tr>\n",
       "    <tr>\n",
       "      <th>Kusel (Kreis)</th>\n",
       "      <td>3.659574</td>\n",
       "    </tr>\n",
       "    <tr>\n",
       "      <th>Kronach (Kreis)</th>\n",
       "      <td>0.000000</td>\n",
       "    </tr>\n",
       "    <tr>\n",
       "      <th>Dingolfing-Landau (Kreis)</th>\n",
       "      <td>NaN</td>\n",
       "    </tr>\n",
       "  </tbody>\n",
       "</table>\n",
       "<p>412 rows × 1 columns</p>\n",
       "</div>"
      ],
      "text/plain": [
       "                                euro/meter square\n",
       "city                                             \n",
       "Miesbach (Kreis)                        32.506787\n",
       "Nordfriesland (Kreis)                   27.884071\n",
       "München                                 23.712543\n",
       "München (Kreis)                         21.109188\n",
       "Garmisch-Partenkirchen (Kreis)          20.588235\n",
       "...                                           ...\n",
       "Donnersbergkreis                         4.400000\n",
       "Lüchow-Dannenberg (Kreis)                4.113930\n",
       "Kusel (Kreis)                            3.659574\n",
       "Kronach (Kreis)                          0.000000\n",
       "Dingolfing-Landau (Kreis)                     NaN\n",
       "\n",
       "[412 rows x 1 columns]"
      ]
     },
     "execution_count": 51,
     "metadata": {},
     "output_type": "execute_result"
    }
   ],
   "source": [
    "df_price_square[['euro/meter square']].sort_values(by=[\"euro/meter square\"], ascending=False)"
   ]
  },
  {
   "cell_type": "code",
   "execution_count": 52,
   "metadata": {},
   "outputs": [],
   "source": [
    "df_total_2=df_total[df_total['city']==\"Passau\"]"
   ]
  },
  {
   "cell_type": "code",
   "execution_count": 53,
   "metadata": {},
   "outputs": [
    {
     "data": {
      "text/html": [
       "<div>\n",
       "<style scoped>\n",
       "    .dataframe tbody tr th:only-of-type {\n",
       "        vertical-align: middle;\n",
       "    }\n",
       "\n",
       "    .dataframe tbody tr th {\n",
       "        vertical-align: top;\n",
       "    }\n",
       "\n",
       "    .dataframe thead th {\n",
       "        text-align: right;\n",
       "    }\n",
       "</style>\n",
       "<table border=\"1\" class=\"dataframe\">\n",
       "  <thead>\n",
       "    <tr style=\"text-align: right;\">\n",
       "      <th></th>\n",
       "      <th>ID</th>\n",
       "      <th>url</th>\n",
       "      <th>creation</th>\n",
       "      <th>Haus/Wohnung</th>\n",
       "      <th>address</th>\n",
       "      <th>city</th>\n",
       "      <th>postcode</th>\n",
       "      <th>quarter</th>\n",
       "      <th>firstname</th>\n",
       "      <th>lastname</th>\n",
       "      <th>...</th>\n",
       "      <th>livingSpace</th>\n",
       "      <th>balcony</th>\n",
       "      <th>builtInKitchen</th>\n",
       "      <th>garden</th>\n",
       "      <th>price</th>\n",
       "      <th>privateOffer</th>\n",
       "      <th>floorplan</th>\n",
       "      <th>Warm_miete</th>\n",
       "      <th>lat</th>\n",
       "      <th>lon</th>\n",
       "    </tr>\n",
       "  </thead>\n",
       "  <tbody>\n",
       "    <tr>\n",
       "      <th>10590</th>\n",
       "      <td>59739917</td>\n",
       "      <td>https://www.immobilienscout24.de/expose/59739917</td>\n",
       "      <td>2022-01-12T14:39:54.000+01:00</td>\n",
       "      <td>Wohnung</td>\n",
       "      <td>Drosselweg  6, Neustift, Passau</td>\n",
       "      <td>Passau</td>\n",
       "      <td>94036</td>\n",
       "      <td>Heining</td>\n",
       "      <td>Stephan</td>\n",
       "      <td>Mühlberger</td>\n",
       "      <td>...</td>\n",
       "      <td>45.32</td>\n",
       "      <td>True</td>\n",
       "      <td>True</td>\n",
       "      <td>False</td>\n",
       "      <td>405.00</td>\n",
       "      <td>False</td>\n",
       "      <td>True</td>\n",
       "      <td>497 EUR/MONTH</td>\n",
       "      <td>48.57449</td>\n",
       "      <td>13.38625</td>\n",
       "    </tr>\n",
       "    <tr>\n",
       "      <th>12925</th>\n",
       "      <td>131259277</td>\n",
       "      <td>https://www.immobilienscout24.de/expose/131259277</td>\n",
       "      <td>2022-01-11T16:44:48.000+01:00</td>\n",
       "      <td>Wohnung</td>\n",
       "      <td>Söldenpeterweg 31, Haidenhof Nord, Passau</td>\n",
       "      <td>Passau</td>\n",
       "      <td>94036</td>\n",
       "      <td>Haidenhof Nord</td>\n",
       "      <td>Birgit</td>\n",
       "      <td>Freund</td>\n",
       "      <td>...</td>\n",
       "      <td>83.00</td>\n",
       "      <td>True</td>\n",
       "      <td>False</td>\n",
       "      <td>True</td>\n",
       "      <td>750.00</td>\n",
       "      <td>False</td>\n",
       "      <td>True</td>\n",
       "      <td>935 EUR/MONTH</td>\n",
       "      <td>48.56369</td>\n",
       "      <td>13.42051</td>\n",
       "    </tr>\n",
       "    <tr>\n",
       "      <th>14586</th>\n",
       "      <td>131253632</td>\n",
       "      <td>https://www.immobilienscout24.de/expose/131253632</td>\n",
       "      <td>2022-01-11T08:40:33.000+01:00</td>\n",
       "      <td>Wohnung</td>\n",
       "      <td>Innstraße 82 b, Haidenhof Süd, Passau</td>\n",
       "      <td>Passau</td>\n",
       "      <td>94036</td>\n",
       "      <td>Haidenhof Süd</td>\n",
       "      <td>Annalena</td>\n",
       "      <td>Dangl</td>\n",
       "      <td>...</td>\n",
       "      <td>47.00</td>\n",
       "      <td>True</td>\n",
       "      <td>True</td>\n",
       "      <td>False</td>\n",
       "      <td>400.00</td>\n",
       "      <td>False</td>\n",
       "      <td>True</td>\n",
       "      <td>540 EUR/MONTH</td>\n",
       "      <td>48.56156</td>\n",
       "      <td>13.44213</td>\n",
       "    </tr>\n",
       "    <tr>\n",
       "      <th>17192</th>\n",
       "      <td>131237886</td>\n",
       "      <td>https://www.immobilienscout24.de/expose/131237886</td>\n",
       "      <td>2022-01-10T10:08:53.000+01:00</td>\n",
       "      <td>Wohnung</td>\n",
       "      <td>Spitalhofstraße 27, Haidenhof Nord, Passau</td>\n",
       "      <td>Passau</td>\n",
       "      <td>94032</td>\n",
       "      <td>Haidenhof Nord</td>\n",
       "      <td>Immobilienanbieter</td>\n",
       "      <td>Dreiburgenland Management GmbH</td>\n",
       "      <td>...</td>\n",
       "      <td>54.00</td>\n",
       "      <td>False</td>\n",
       "      <td>False</td>\n",
       "      <td>False</td>\n",
       "      <td>408.00</td>\n",
       "      <td>False</td>\n",
       "      <td>False</td>\n",
       "      <td>503 EUR/MONTH</td>\n",
       "      <td>48.57106</td>\n",
       "      <td>13.44121</td>\n",
       "    </tr>\n",
       "    <tr>\n",
       "      <th>22683</th>\n",
       "      <td>97759965</td>\n",
       "      <td>https://www.immobilienscout24.de/expose/97759965</td>\n",
       "      <td>2022-01-06T15:39:59.000+01:00</td>\n",
       "      <td>Wohnung</td>\n",
       "      <td>Königsberger Straße 20, Haidenhof Nord, Passau</td>\n",
       "      <td>Passau</td>\n",
       "      <td>94036</td>\n",
       "      <td>Haidenhof Nord</td>\n",
       "      <td>Wolfgang</td>\n",
       "      <td>Hartl Verwaltungs GmbH und Co. KG</td>\n",
       "      <td>...</td>\n",
       "      <td>87.90</td>\n",
       "      <td>True</td>\n",
       "      <td>True</td>\n",
       "      <td>False</td>\n",
       "      <td>729.57</td>\n",
       "      <td>False</td>\n",
       "      <td>True</td>\n",
       "      <td>947.21 EUR/MONTH</td>\n",
       "      <td>48.56248</td>\n",
       "      <td>13.41611</td>\n",
       "    </tr>\n",
       "  </tbody>\n",
       "</table>\n",
       "<p>5 rows × 24 columns</p>\n",
       "</div>"
      ],
      "text/plain": [
       "              ID                                                url  \\\n",
       "10590   59739917   https://www.immobilienscout24.de/expose/59739917   \n",
       "12925  131259277  https://www.immobilienscout24.de/expose/131259277   \n",
       "14586  131253632  https://www.immobilienscout24.de/expose/131253632   \n",
       "17192  131237886  https://www.immobilienscout24.de/expose/131237886   \n",
       "22683   97759965   https://www.immobilienscout24.de/expose/97759965   \n",
       "\n",
       "                            creation Haus/Wohnung  \\\n",
       "10590  2022-01-12T14:39:54.000+01:00      Wohnung   \n",
       "12925  2022-01-11T16:44:48.000+01:00      Wohnung   \n",
       "14586  2022-01-11T08:40:33.000+01:00      Wohnung   \n",
       "17192  2022-01-10T10:08:53.000+01:00      Wohnung   \n",
       "22683  2022-01-06T15:39:59.000+01:00      Wohnung   \n",
       "\n",
       "                                              address    city  postcode  \\\n",
       "10590                 Drosselweg  6, Neustift, Passau  Passau     94036   \n",
       "12925       Söldenpeterweg 31, Haidenhof Nord, Passau  Passau     94036   \n",
       "14586           Innstraße 82 b, Haidenhof Süd, Passau  Passau     94036   \n",
       "17192      Spitalhofstraße 27, Haidenhof Nord, Passau  Passau     94032   \n",
       "22683  Königsberger Straße 20, Haidenhof Nord, Passau  Passau     94036   \n",
       "\n",
       "              quarter           firstname                           lastname  \\\n",
       "10590         Heining             Stephan                         Mühlberger   \n",
       "12925  Haidenhof Nord              Birgit                             Freund   \n",
       "14586   Haidenhof Süd            Annalena                              Dangl   \n",
       "17192  Haidenhof Nord  Immobilienanbieter     Dreiburgenland Management GmbH   \n",
       "22683  Haidenhof Nord            Wolfgang  Hartl Verwaltungs GmbH und Co. KG   \n",
       "\n",
       "       ... livingSpace balcony builtInKitchen  garden   price  privateOffer  \\\n",
       "10590  ...       45.32    True           True   False  405.00         False   \n",
       "12925  ...       83.00    True          False    True  750.00         False   \n",
       "14586  ...       47.00    True           True   False  400.00         False   \n",
       "17192  ...       54.00   False          False   False  408.00         False   \n",
       "22683  ...       87.90    True           True   False  729.57         False   \n",
       "\n",
       "       floorplan        Warm_miete       lat       lon  \n",
       "10590       True     497 EUR/MONTH  48.57449  13.38625  \n",
       "12925       True     935 EUR/MONTH  48.56369  13.42051  \n",
       "14586       True     540 EUR/MONTH  48.56156  13.44213  \n",
       "17192      False     503 EUR/MONTH  48.57106  13.44121  \n",
       "22683       True  947.21 EUR/MONTH  48.56248  13.41611  \n",
       "\n",
       "[5 rows x 24 columns]"
      ]
     },
     "execution_count": 53,
     "metadata": {},
     "output_type": "execute_result"
    }
   ],
   "source": [
    "df_total_2.head()"
   ]
  },
  {
   "cell_type": "code",
   "execution_count": 54,
   "metadata": {
    "scrolled": true
   },
   "outputs": [
    {
     "data": {
      "text/html": [
       "<div style=\"width:100%;\"><div style=\"position:relative;width:100%;height:0;padding-bottom:60%;\"><iframe src=\"data:text/html;charset=utf-8;base64,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\" style=\"position:absolute;width:100%;height:100%;left:0;top:0;border:none !important;\" allowfullscreen webkitallowfullscreen mozallowfullscreen></iframe></div></div>"
      ],
      "text/plain": [
       "<folium.folium.Map at 0x98503ab048>"
      ]
     },
     "execution_count": 54,
     "metadata": {},
     "output_type": "execute_result"
    }
   ],
   "source": [
    "m = folium.Map(location=[48.566846, 13.436720], zoom_start=13, tiles=\"Stamen Terrain\")\n",
    "\n",
    "tooltip = \"Click me!\"\n",
    "\n",
    "for index,row in enumerate(df_total_2.itertuples()):\n",
    "    html='''{0}. <a target=\"_blank\" href=\"{1}\">{2}</a> </br>\n",
    "    {3} </br>\n",
    "    Price: {4:.2f} euro '''.format(index, row.url, row.title, row.address, row.price)\n",
    "    folium.Marker([row.lat, row.lon], popup=html, tooltip=tooltip).add_to(m)\n",
    "\n",
    "m"
   ]
  },
  {
   "cell_type": "markdown",
   "metadata": {},
   "source": [
    "## House Rent"
   ]
  },
  {
   "cell_type": "code",
   "execution_count": 55,
   "metadata": {},
   "outputs": [],
   "source": [
    "path = os.path.join(os.getcwd(), \"Data/House/Rent/\")\n",
    "list_of_files = glob.glob(f\"{path}/*.csv\") "
   ]
  },
  {
   "cell_type": "code",
   "execution_count": 56,
   "metadata": {},
   "outputs": [],
   "source": [
    "list_df = []\n",
    "\n",
    "for filename in list_of_files:\n",
    "    df = pd.read_csv(filename, sep=\";\",index_col=None, header=0)\n",
    "    list_df.append(df)\n",
    "\n",
    "df_total = pd.concat(list_df, axis=0, ignore_index=True)"
   ]
  },
  {
   "cell_type": "code",
   "execution_count": 57,
   "metadata": {
    "scrolled": true
   },
   "outputs": [
    {
     "data": {
      "text/html": [
       "<div>\n",
       "<style scoped>\n",
       "    .dataframe tbody tr th:only-of-type {\n",
       "        vertical-align: middle;\n",
       "    }\n",
       "\n",
       "    .dataframe tbody tr th {\n",
       "        vertical-align: top;\n",
       "    }\n",
       "\n",
       "    .dataframe thead th {\n",
       "        text-align: right;\n",
       "    }\n",
       "</style>\n",
       "<table border=\"1\" class=\"dataframe\">\n",
       "  <thead>\n",
       "    <tr style=\"text-align: right;\">\n",
       "      <th></th>\n",
       "      <th>ID</th>\n",
       "      <th>url</th>\n",
       "      <th>creation</th>\n",
       "      <th>Haus/Wohnung</th>\n",
       "      <th>address</th>\n",
       "      <th>city</th>\n",
       "      <th>postcode</th>\n",
       "      <th>quarter</th>\n",
       "      <th>firstname</th>\n",
       "      <th>lastname</th>\n",
       "      <th>...</th>\n",
       "      <th>numberOfRooms</th>\n",
       "      <th>livingSpace</th>\n",
       "      <th>plotArea</th>\n",
       "      <th>builtInKitchen</th>\n",
       "      <th>price</th>\n",
       "      <th>privateOffer</th>\n",
       "      <th>Warm_miete</th>\n",
       "      <th>lat</th>\n",
       "      <th>lon</th>\n",
       "      <th>floorplan</th>\n",
       "    </tr>\n",
       "  </thead>\n",
       "  <tbody>\n",
       "    <tr>\n",
       "      <th>0</th>\n",
       "      <td>131378238</td>\n",
       "      <td>https://www.immobilienscout24.de/expose/131378238</td>\n",
       "      <td>2022-01-16T21:44:07.202+01:00</td>\n",
       "      <td>Haus</td>\n",
       "      <td>Bahnhofstr. 3, Bad Brückenau, Bad Kissingen (K...</td>\n",
       "      <td>Bad Kissingen (Kreis)</td>\n",
       "      <td>97769</td>\n",
       "      <td>Bad Brückenau</td>\n",
       "      <td>Wenzhe</td>\n",
       "      <td>Yang</td>\n",
       "      <td>...</td>\n",
       "      <td>15.0</td>\n",
       "      <td>900.00</td>\n",
       "      <td>550.0</td>\n",
       "      <td>True</td>\n",
       "      <td>10000 EUR</td>\n",
       "      <td>True</td>\n",
       "      <td>10000 EUR/MONTH</td>\n",
       "      <td>50.3073</td>\n",
       "      <td>9.78668</td>\n",
       "      <td>False</td>\n",
       "    </tr>\n",
       "    <tr>\n",
       "      <th>1</th>\n",
       "      <td>127574369</td>\n",
       "      <td>https://www.immobilienscout24.de/expose/127574369</td>\n",
       "      <td>2022-01-16T21:36:39.000+01:00</td>\n",
       "      <td>Haus</td>\n",
       "      <td>Theodor-Storm-Str. 19 b+c, Wahlstedt, Segeberg...</td>\n",
       "      <td>Segeberg (Kreis)</td>\n",
       "      <td>23812</td>\n",
       "      <td>Wahlstedt</td>\n",
       "      <td>Tanja</td>\n",
       "      <td>Sommet</td>\n",
       "      <td>...</td>\n",
       "      <td>5.0</td>\n",
       "      <td>110.00</td>\n",
       "      <td>195.0</td>\n",
       "      <td>True</td>\n",
       "      <td>1200 EUR</td>\n",
       "      <td>True</td>\n",
       "      <td>1600 EUR/MONTH</td>\n",
       "      <td>53.95785</td>\n",
       "      <td>10.19899</td>\n",
       "      <td>False</td>\n",
       "    </tr>\n",
       "    <tr>\n",
       "      <th>2</th>\n",
       "      <td>131091224</td>\n",
       "      <td>https://www.immobilienscout24.de/expose/131091224</td>\n",
       "      <td>2022-01-16T21:34:12.000+01:00</td>\n",
       "      <td>Haus</td>\n",
       "      <td>Münster, Darmstadt-Dieburg (Kreis)</td>\n",
       "      <td>Darmstadt-Dieburg (Kreis)</td>\n",
       "      <td>64839</td>\n",
       "      <td>Münster</td>\n",
       "      <td>M</td>\n",
       "      <td>Schültje</td>\n",
       "      <td>...</td>\n",
       "      <td>7.0</td>\n",
       "      <td>198.54</td>\n",
       "      <td>620.0</td>\n",
       "      <td>True</td>\n",
       "      <td>1880 EUR</td>\n",
       "      <td>True</td>\n",
       "      <td>2300 EUR/MONTH</td>\n",
       "      <td>no value</td>\n",
       "      <td>no value</td>\n",
       "      <td>False</td>\n",
       "    </tr>\n",
       "    <tr>\n",
       "      <th>3</th>\n",
       "      <td>131382015</td>\n",
       "      <td>https://www.immobilienscout24.de/expose/131382015</td>\n",
       "      <td>2022-01-16T21:18:54.309+01:00</td>\n",
       "      <td>Haus</td>\n",
       "      <td>Grefrath, Viersen (Kreis)</td>\n",
       "      <td>Viersen (Kreis)</td>\n",
       "      <td>47929</td>\n",
       "      <td>Grefrath</td>\n",
       "      <td>Rita</td>\n",
       "      <td>Fuga-Rosenberg</td>\n",
       "      <td>...</td>\n",
       "      <td>2.0</td>\n",
       "      <td>130.00</td>\n",
       "      <td>200.0</td>\n",
       "      <td>False</td>\n",
       "      <td>450 EUR</td>\n",
       "      <td>True</td>\n",
       "      <td>649 EUR/MONTH</td>\n",
       "      <td>no value</td>\n",
       "      <td>no value</td>\n",
       "      <td>False</td>\n",
       "    </tr>\n",
       "    <tr>\n",
       "      <th>4</th>\n",
       "      <td>131382309</td>\n",
       "      <td>https://www.immobilienscout24.de/expose/131382309</td>\n",
       "      <td>2022-01-16T21:16:15.008+01:00</td>\n",
       "      <td>Haus</td>\n",
       "      <td>Amöneburg, Marburg-Biedenkopf (Kreis)</td>\n",
       "      <td>Marburg-Biedenkopf (Kreis)</td>\n",
       "      <td>35287</td>\n",
       "      <td>Amöneburg</td>\n",
       "      <td>stefan</td>\n",
       "      <td>schick</td>\n",
       "      <td>...</td>\n",
       "      <td>7.0</td>\n",
       "      <td>210.00</td>\n",
       "      <td>900.0</td>\n",
       "      <td>True</td>\n",
       "      <td>1800 EUR</td>\n",
       "      <td>True</td>\n",
       "      <td>2000 EUR/MONTH</td>\n",
       "      <td>no value</td>\n",
       "      <td>no value</td>\n",
       "      <td>False</td>\n",
       "    </tr>\n",
       "  </tbody>\n",
       "</table>\n",
       "<p>5 rows × 23 columns</p>\n",
       "</div>"
      ],
      "text/plain": [
       "          ID                                                url  \\\n",
       "0  131378238  https://www.immobilienscout24.de/expose/131378238   \n",
       "1  127574369  https://www.immobilienscout24.de/expose/127574369   \n",
       "2  131091224  https://www.immobilienscout24.de/expose/131091224   \n",
       "3  131382015  https://www.immobilienscout24.de/expose/131382015   \n",
       "4  131382309  https://www.immobilienscout24.de/expose/131382309   \n",
       "\n",
       "                        creation Haus/Wohnung  \\\n",
       "0  2022-01-16T21:44:07.202+01:00         Haus   \n",
       "1  2022-01-16T21:36:39.000+01:00         Haus   \n",
       "2  2022-01-16T21:34:12.000+01:00         Haus   \n",
       "3  2022-01-16T21:18:54.309+01:00         Haus   \n",
       "4  2022-01-16T21:16:15.008+01:00         Haus   \n",
       "\n",
       "                                             address  \\\n",
       "0  Bahnhofstr. 3, Bad Brückenau, Bad Kissingen (K...   \n",
       "1  Theodor-Storm-Str. 19 b+c, Wahlstedt, Segeberg...   \n",
       "2                 Münster, Darmstadt-Dieburg (Kreis)   \n",
       "3                          Grefrath, Viersen (Kreis)   \n",
       "4              Amöneburg, Marburg-Biedenkopf (Kreis)   \n",
       "\n",
       "                         city  postcode        quarter firstname  \\\n",
       "0       Bad Kissingen (Kreis)     97769  Bad Brückenau    Wenzhe   \n",
       "1            Segeberg (Kreis)     23812      Wahlstedt     Tanja   \n",
       "2   Darmstadt-Dieburg (Kreis)     64839        Münster         M   \n",
       "3             Viersen (Kreis)     47929       Grefrath      Rita   \n",
       "4  Marburg-Biedenkopf (Kreis)     35287      Amöneburg    stefan   \n",
       "\n",
       "         lastname  ... numberOfRooms livingSpace plotArea  builtInKitchen  \\\n",
       "0            Yang  ...          15.0      900.00    550.0            True   \n",
       "1          Sommet  ...           5.0      110.00    195.0            True   \n",
       "2        Schültje  ...           7.0      198.54    620.0            True   \n",
       "3  Fuga-Rosenberg  ...           2.0      130.00    200.0           False   \n",
       "4          schick  ...           7.0      210.00    900.0            True   \n",
       "\n",
       "       price  privateOffer       Warm_miete       lat       lon floorplan  \n",
       "0  10000 EUR          True  10000 EUR/MONTH   50.3073   9.78668     False  \n",
       "1   1200 EUR          True   1600 EUR/MONTH  53.95785  10.19899     False  \n",
       "2   1880 EUR          True   2300 EUR/MONTH  no value  no value     False  \n",
       "3    450 EUR          True    649 EUR/MONTH  no value  no value     False  \n",
       "4   1800 EUR          True   2000 EUR/MONTH  no value  no value     False  \n",
       "\n",
       "[5 rows x 23 columns]"
      ]
     },
     "execution_count": 57,
     "metadata": {},
     "output_type": "execute_result"
    }
   ],
   "source": [
    "df_total.head()"
   ]
  },
  {
   "cell_type": "code",
   "execution_count": 58,
   "metadata": {},
   "outputs": [
    {
     "data": {
      "text/plain": [
       "Index(['ID', 'url', 'creation', 'Haus/Wohnung', 'address', 'city', 'postcode',\n",
       "       'quarter', 'firstname', 'lastname', 'phoneNumber', 'company', 'title',\n",
       "       'numberOfRooms', 'livingSpace', 'plotArea', 'builtInKitchen', 'price',\n",
       "       'privateOffer', 'Warm_miete', 'lat', 'lon', 'floorplan'],\n",
       "      dtype='object')"
      ]
     },
     "execution_count": 58,
     "metadata": {},
     "output_type": "execute_result"
    }
   ],
   "source": [
    "df_total.columns"
   ]
  },
  {
   "cell_type": "code",
   "execution_count": 59,
   "metadata": {},
   "outputs": [],
   "source": [
    "for i in list(df_total.columns):\n",
    "    df_total=df_total[df_total[i]!=\"no value\"]"
   ]
  },
  {
   "cell_type": "code",
   "execution_count": 60,
   "metadata": {},
   "outputs": [
    {
     "data": {
      "text/plain": [
       "city\n",
       "Berlin                     8\n",
       "Köln                       6\n",
       "Leipzig                    6\n",
       "Dahme-Spreewald (Kreis)    6\n",
       "München (Kreis)            6\n",
       "                          ..\n",
       "Heidekreis                 1\n",
       "Havelland (Kreis)          1\n",
       "Görlitz                    1\n",
       "Göppingen (Kreis)          1\n",
       "Zwickau (Kreis)            1\n",
       "Length: 163, dtype: int64"
      ]
     },
     "execution_count": 60,
     "metadata": {},
     "output_type": "execute_result"
    }
   ],
   "source": [
    "df_total.groupby(\"city\").size().sort_values(ascending=False)\n"
   ]
  },
  {
   "cell_type": "code",
   "execution_count": 61,
   "metadata": {},
   "outputs": [
    {
     "data": {
      "text/plain": [
       "company\n",
       "Inseriert auf ohne-makler.net                                  19\n",
       "Vaduz Lichtenstein Immobilien Holding GmbH                     10\n",
       "Müller Merkle Immobilien GmbH                                   5\n",
       "ProSolva GmbH                                                   4\n",
       "Larsen Immobilien                                               4\n",
       "                                                               ..\n",
       "Hilde Leupolz -Immobilien und Vermietungen-                     1\n",
       "Hohl Immobilien GmbH                                            1\n",
       "HÜBSCHER Immobilien GmbH                                        1\n",
       "Hölscher Hausverwaltung-Immobilien IVD                          1\n",
       "Jäger Immobilien GbR /Angelika Jäger-Kortmann u. Marc Jäger     1\n",
       "Length: 228, dtype: int64"
      ]
     },
     "execution_count": 61,
     "metadata": {},
     "output_type": "execute_result"
    }
   ],
   "source": [
    "df_total.groupby(\"company\").size().sort_values(ascending=False)\n"
   ]
  },
  {
   "cell_type": "code",
   "execution_count": 62,
   "metadata": {},
   "outputs": [],
   "source": [
    "df_total['price']=df_total['price'].apply(lambda x: float(x.split(\" EUR\")[0]))"
   ]
  },
  {
   "cell_type": "code",
   "execution_count": 63,
   "metadata": {},
   "outputs": [],
   "source": [
    "df_total.dropna(inplace=True)"
   ]
  },
  {
   "cell_type": "code",
   "execution_count": 64,
   "metadata": {},
   "outputs": [],
   "source": [
    "def draw_city_totalarea(city):\n",
    "    df3=df_total[df_total['city']==city]\n",
    "    df3.plot(x=\"livingSpace\", y=\"price\", c=\"livingSpace\", kind=\"scatter\", colormap=cm.Set1, figsize=(15,10))"
   ]
  },
  {
   "cell_type": "code",
   "execution_count": 65,
   "metadata": {},
   "outputs": [
    {
     "data": {
      "image/png": "[encoded data removed]",
      "text/plain": [
       "<Figure size 1080x720 with 2 Axes>"
      ]
     },
     "metadata": {
      "needs_background": "light"
     },
     "output_type": "display_data"
    }
   ],
   "source": [
    "draw_city_totalarea(\"München\")"
   ]
  },
  {
   "cell_type": "code",
   "execution_count": 66,
   "metadata": {},
   "outputs": [],
   "source": [
    "df_price_square=df_total[['city','price','livingSpace']].groupby(\"city\").mean()"
   ]
  },
  {
   "cell_type": "code",
   "execution_count": 67,
   "metadata": {},
   "outputs": [],
   "source": [
    "df_price_square[\"euro/meter square\"] = df_price_square[\"price\"].div(df_price_square[\"livingSpace\"].values)\n"
   ]
  },
  {
   "cell_type": "code",
   "execution_count": 68,
   "metadata": {},
   "outputs": [
    {
     "data": {
      "text/html": [
       "<div>\n",
       "<style scoped>\n",
       "    .dataframe tbody tr th:only-of-type {\n",
       "        vertical-align: middle;\n",
       "    }\n",
       "\n",
       "    .dataframe tbody tr th {\n",
       "        vertical-align: top;\n",
       "    }\n",
       "\n",
       "    .dataframe thead th {\n",
       "        text-align: right;\n",
       "    }\n",
       "</style>\n",
       "<table border=\"1\" class=\"dataframe\">\n",
       "  <thead>\n",
       "    <tr style=\"text-align: right;\">\n",
       "      <th></th>\n",
       "      <th>price</th>\n",
       "      <th>livingSpace</th>\n",
       "      <th>euro/meter square</th>\n",
       "    </tr>\n",
       "    <tr>\n",
       "      <th>city</th>\n",
       "      <th></th>\n",
       "      <th></th>\n",
       "      <th></th>\n",
       "    </tr>\n",
       "  </thead>\n",
       "  <tbody>\n",
       "    <tr>\n",
       "      <th>Aachen (Kreis)</th>\n",
       "      <td>1400.0</td>\n",
       "      <td>148.8</td>\n",
       "      <td>9.408602</td>\n",
       "    </tr>\n",
       "    <tr>\n",
       "      <th>Aichach-Friedberg (Kreis)</th>\n",
       "      <td>2230.0</td>\n",
       "      <td>189.0</td>\n",
       "      <td>11.798942</td>\n",
       "    </tr>\n",
       "    <tr>\n",
       "      <th>Altenkirchen (Westerwald) (Kreis)</th>\n",
       "      <td>850.0</td>\n",
       "      <td>125.0</td>\n",
       "      <td>6.800000</td>\n",
       "    </tr>\n",
       "    <tr>\n",
       "      <th>Altmarkkreis Salzwedel</th>\n",
       "      <td>720.0</td>\n",
       "      <td>130.0</td>\n",
       "      <td>5.538462</td>\n",
       "    </tr>\n",
       "    <tr>\n",
       "      <th>Augsburg (Kreis)</th>\n",
       "      <td>1630.0</td>\n",
       "      <td>143.5</td>\n",
       "      <td>11.358885</td>\n",
       "    </tr>\n",
       "  </tbody>\n",
       "</table>\n",
       "</div>"
      ],
      "text/plain": [
       "                                    price  livingSpace  euro/meter square\n",
       "city                                                                     \n",
       "Aachen (Kreis)                     1400.0        148.8           9.408602\n",
       "Aichach-Friedberg (Kreis)          2230.0        189.0          11.798942\n",
       "Altenkirchen (Westerwald) (Kreis)   850.0        125.0           6.800000\n",
       "Altmarkkreis Salzwedel              720.0        130.0           5.538462\n",
       "Augsburg (Kreis)                   1630.0        143.5          11.358885"
      ]
     },
     "execution_count": 68,
     "metadata": {},
     "output_type": "execute_result"
    }
   ],
   "source": [
    "df_price_square.head()"
   ]
  },
  {
   "cell_type": "code",
   "execution_count": 69,
   "metadata": {},
   "outputs": [
    {
     "data": {
      "text/html": [
       "<div>\n",
       "<style scoped>\n",
       "    .dataframe tbody tr th:only-of-type {\n",
       "        vertical-align: middle;\n",
       "    }\n",
       "\n",
       "    .dataframe tbody tr th {\n",
       "        vertical-align: top;\n",
       "    }\n",
       "\n",
       "    .dataframe thead th {\n",
       "        text-align: right;\n",
       "    }\n",
       "</style>\n",
       "<table border=\"1\" class=\"dataframe\">\n",
       "  <thead>\n",
       "    <tr style=\"text-align: right;\">\n",
       "      <th></th>\n",
       "      <th>euro/meter square</th>\n",
       "    </tr>\n",
       "    <tr>\n",
       "      <th>city</th>\n",
       "      <th></th>\n",
       "    </tr>\n",
       "  </thead>\n",
       "  <tbody>\n",
       "    <tr>\n",
       "      <th>Nordfriesland (Kreis)</th>\n",
       "      <td>48.387097</td>\n",
       "    </tr>\n",
       "    <tr>\n",
       "      <th>München</th>\n",
       "      <td>29.639723</td>\n",
       "    </tr>\n",
       "    <tr>\n",
       "      <th>Düsseldorf</th>\n",
       "      <td>22.029343</td>\n",
       "    </tr>\n",
       "    <tr>\n",
       "      <th>Hamburg</th>\n",
       "      <td>17.697212</td>\n",
       "    </tr>\n",
       "    <tr>\n",
       "      <th>Frankfurt am Main</th>\n",
       "      <td>17.254408</td>\n",
       "    </tr>\n",
       "    <tr>\n",
       "      <th>...</th>\n",
       "      <td>...</td>\n",
       "    </tr>\n",
       "    <tr>\n",
       "      <th>Görlitz (Kreis)</th>\n",
       "      <td>1.538824</td>\n",
       "    </tr>\n",
       "    <tr>\n",
       "      <th>Mittelsachsen (Kreis)</th>\n",
       "      <td>1.000000</td>\n",
       "    </tr>\n",
       "    <tr>\n",
       "      <th>Burgenlandkreis</th>\n",
       "      <td>0.500000</td>\n",
       "    </tr>\n",
       "    <tr>\n",
       "      <th>Saalekreis</th>\n",
       "      <td>0.499550</td>\n",
       "    </tr>\n",
       "    <tr>\n",
       "      <th>Görlitz</th>\n",
       "      <td>0.041667</td>\n",
       "    </tr>\n",
       "  </tbody>\n",
       "</table>\n",
       "<p>163 rows × 1 columns</p>\n",
       "</div>"
      ],
      "text/plain": [
       "                       euro/meter square\n",
       "city                                    \n",
       "Nordfriesland (Kreis)          48.387097\n",
       "München                        29.639723\n",
       "Düsseldorf                     22.029343\n",
       "Hamburg                        17.697212\n",
       "Frankfurt am Main              17.254408\n",
       "...                                  ...\n",
       "Görlitz (Kreis)                 1.538824\n",
       "Mittelsachsen (Kreis)           1.000000\n",
       "Burgenlandkreis                 0.500000\n",
       "Saalekreis                      0.499550\n",
       "Görlitz                         0.041667\n",
       "\n",
       "[163 rows x 1 columns]"
      ]
     },
     "execution_count": 69,
     "metadata": {},
     "output_type": "execute_result"
    }
   ],
   "source": [
    "df_price_square[['euro/meter square']].sort_values(by=[\"euro/meter square\"], ascending=False)"
   ]
  },
  {
   "cell_type": "code",
   "execution_count": 70,
   "metadata": {},
   "outputs": [],
   "source": [
    "df_total_2=df_total[df_total['city']==\"München\"]"
   ]
  },
  {
   "cell_type": "code",
   "execution_count": 71,
   "metadata": {},
   "outputs": [
    {
     "data": {
      "text/html": [
       "<div>\n",
       "<style scoped>\n",
       "    .dataframe tbody tr th:only-of-type {\n",
       "        vertical-align: middle;\n",
       "    }\n",
       "\n",
       "    .dataframe tbody tr th {\n",
       "        vertical-align: top;\n",
       "    }\n",
       "\n",
       "    .dataframe thead th {\n",
       "        text-align: right;\n",
       "    }\n",
       "</style>\n",
       "<table border=\"1\" class=\"dataframe\">\n",
       "  <thead>\n",
       "    <tr style=\"text-align: right;\">\n",
       "      <th></th>\n",
       "      <th>ID</th>\n",
       "      <th>url</th>\n",
       "      <th>creation</th>\n",
       "      <th>Haus/Wohnung</th>\n",
       "      <th>address</th>\n",
       "      <th>city</th>\n",
       "      <th>postcode</th>\n",
       "      <th>quarter</th>\n",
       "      <th>firstname</th>\n",
       "      <th>lastname</th>\n",
       "      <th>...</th>\n",
       "      <th>numberOfRooms</th>\n",
       "      <th>livingSpace</th>\n",
       "      <th>plotArea</th>\n",
       "      <th>builtInKitchen</th>\n",
       "      <th>price</th>\n",
       "      <th>privateOffer</th>\n",
       "      <th>Warm_miete</th>\n",
       "      <th>lat</th>\n",
       "      <th>lon</th>\n",
       "      <th>floorplan</th>\n",
       "    </tr>\n",
       "  </thead>\n",
       "  <tbody>\n",
       "    <tr>\n",
       "      <th>1370</th>\n",
       "      <td>131191243</td>\n",
       "      <td>https://www.immobilienscout24.de/expose/131191243</td>\n",
       "      <td>2022-01-05T19:00:55.000+01:00</td>\n",
       "      <td>Haus</td>\n",
       "      <td>Clemens-Krauß-Straße -, Obermenzing, München</td>\n",
       "      <td>München</td>\n",
       "      <td>81247</td>\n",
       "      <td>Obermenzing</td>\n",
       "      <td>Privat von</td>\n",
       "      <td>A. Lehmann</td>\n",
       "      <td>...</td>\n",
       "      <td>8.0</td>\n",
       "      <td>190.0</td>\n",
       "      <td>400.0</td>\n",
       "      <td>True</td>\n",
       "      <td>7000.0</td>\n",
       "      <td>False</td>\n",
       "      <td>7500 EUR/MONTH</td>\n",
       "      <td>48.15959</td>\n",
       "      <td>11.4656</td>\n",
       "      <td>True</td>\n",
       "    </tr>\n",
       "    <tr>\n",
       "      <th>2183</th>\n",
       "      <td>130871249</td>\n",
       "      <td>https://www.immobilienscout24.de/expose/130871249</td>\n",
       "      <td>2021-12-08T17:10:04.000+01:00</td>\n",
       "      <td>Haus</td>\n",
       "      <td>Josef-Mohr-Weg 39, Ramersdorf, München</td>\n",
       "      <td>München</td>\n",
       "      <td>81735</td>\n",
       "      <td>Perlach</td>\n",
       "      <td>Gavin</td>\n",
       "      <td>Carey</td>\n",
       "      <td>...</td>\n",
       "      <td>4.0</td>\n",
       "      <td>95.0</td>\n",
       "      <td>1.0</td>\n",
       "      <td>False</td>\n",
       "      <td>2139.0</td>\n",
       "      <td>False</td>\n",
       "      <td>2300 EUR/MONTH</td>\n",
       "      <td>48.11091</td>\n",
       "      <td>11.6255</td>\n",
       "      <td>False</td>\n",
       "    </tr>\n",
       "    <tr>\n",
       "      <th>2777</th>\n",
       "      <td>128059939</td>\n",
       "      <td>https://www.immobilienscout24.de/expose/128059939</td>\n",
       "      <td>2021-10-26T09:04:19.000+02:00</td>\n",
       "      <td>Haus</td>\n",
       "      <td>Sebastian-Bauer-Str. 5c, Altperlach, München</td>\n",
       "      <td>München</td>\n",
       "      <td>81737</td>\n",
       "      <td>Perlach</td>\n",
       "      <td>Stefan</td>\n",
       "      <td>Reithmayer</td>\n",
       "      <td>...</td>\n",
       "      <td>5.0</td>\n",
       "      <td>148.0</td>\n",
       "      <td>80.0</td>\n",
       "      <td>True</td>\n",
       "      <td>3695.0</td>\n",
       "      <td>False</td>\n",
       "      <td>4040 EUR/MONTH</td>\n",
       "      <td>48.09933</td>\n",
       "      <td>11.63034</td>\n",
       "      <td>True</td>\n",
       "    </tr>\n",
       "  </tbody>\n",
       "</table>\n",
       "<p>3 rows × 23 columns</p>\n",
       "</div>"
      ],
      "text/plain": [
       "             ID                                                url  \\\n",
       "1370  131191243  https://www.immobilienscout24.de/expose/131191243   \n",
       "2183  130871249  https://www.immobilienscout24.de/expose/130871249   \n",
       "2777  128059939  https://www.immobilienscout24.de/expose/128059939   \n",
       "\n",
       "                           creation Haus/Wohnung  \\\n",
       "1370  2022-01-05T19:00:55.000+01:00         Haus   \n",
       "2183  2021-12-08T17:10:04.000+01:00         Haus   \n",
       "2777  2021-10-26T09:04:19.000+02:00         Haus   \n",
       "\n",
       "                                           address     city  postcode  \\\n",
       "1370  Clemens-Krauß-Straße -, Obermenzing, München  München     81247   \n",
       "2183        Josef-Mohr-Weg 39, Ramersdorf, München  München     81735   \n",
       "2777  Sebastian-Bauer-Str. 5c, Altperlach, München  München     81737   \n",
       "\n",
       "          quarter    firstname    lastname  ... numberOfRooms livingSpace  \\\n",
       "1370  Obermenzing  Privat von   A. Lehmann  ...           8.0       190.0   \n",
       "2183      Perlach        Gavin       Carey  ...           4.0        95.0   \n",
       "2777      Perlach       Stefan  Reithmayer  ...           5.0       148.0   \n",
       "\n",
       "     plotArea  builtInKitchen   price  privateOffer      Warm_miete       lat  \\\n",
       "1370    400.0            True  7000.0         False  7500 EUR/MONTH  48.15959   \n",
       "2183      1.0           False  2139.0         False  2300 EUR/MONTH  48.11091   \n",
       "2777     80.0            True  3695.0         False  4040 EUR/MONTH  48.09933   \n",
       "\n",
       "           lon floorplan  \n",
       "1370   11.4656      True  \n",
       "2183   11.6255     False  \n",
       "2777  11.63034      True  \n",
       "\n",
       "[3 rows x 23 columns]"
      ]
     },
     "execution_count": 71,
     "metadata": {},
     "output_type": "execute_result"
    }
   ],
   "source": [
    "df_total_2.head()"
   ]
  },
  {
   "cell_type": "code",
   "execution_count": 74,
   "metadata": {
    "scrolled": true
   },
   "outputs": [
    {
     "data": {
      "text/html": [
       "<div style=\"width:100%;\"><div style=\"position:relative;width:100%;height:0;padding-bottom:60%;\"><iframe src=\"data:text/html;charset=utf-8;base64,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\" style=\"position:absolute;width:100%;height:100%;left:0;top:0;border:none !important;\" allowfullscreen webkitallowfullscreen mozallowfullscreen></iframe></div></div>"
      ],
      "text/plain": [
       "<folium.folium.Map at 0x98522d6780>"
      ]
     },
     "execution_count": 74,
     "metadata": {},
     "output_type": "execute_result"
    }
   ],
   "source": [
    "m = folium.Map(location=[48.129723, 11.519482], zoom_start=11, tiles=\"Stamen Terrain\")\n",
    "\n",
    "tooltip = \"Click me!\"\n",
    "\n",
    "for index,row in enumerate(df_total_2.itertuples()):\n",
    "    html='''{0}. <a target=\"_blank\" href=\"{1}\">{2}</a> </br>\n",
    "    {3} </br>\n",
    "    Price: {4:.2f} euro '''.format(index, row.url, row.title, row.address, row.price)\n",
    "    folium.Marker([row.lat, row.lon], popup=html, tooltip=tooltip).add_to(m)\n",
    "\n",
    "m"
   ]
  },
  {
   "cell_type": "code",
   "execution_count": null,
   "metadata": {},
   "outputs": [],
   "source": []
  },
  {
   "cell_type": "code",
   "execution_count": null,
   "metadata": {},
   "outputs": [],
   "source": []
  }
 ],
 "metadata": {
  "kernelspec": {
   "display_name": "Python 3",
   "language": "python",
   "name": "python3"
  },
  "language_info": {
   "codemirror_mode": {
    "name": "ipython",
    "version": 3
   },
   "file_extension": ".py",
   "mimetype": "text/x-python",
   "name": "python",
   "nbconvert_exporter": "python",
   "pygments_lexer": "ipython3",
   "version": "3.7.3"
  }
 },
 "nbformat": 4,
 "nbformat_minor": 2
}
